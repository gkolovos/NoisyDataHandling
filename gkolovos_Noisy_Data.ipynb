{
  "cells": [
    {
      "cell_type": "markdown",
      "metadata": {
        "id": "view-in-github",
        "colab_type": "text"
      },
      "source": [
        "<a href=\"https://colab.research.google.com/github/gkolovos/NoisyDataHandling/blob/main/gkolovos_Noisy_Data.ipynb\" target=\"_parent\"><img src=\"https://colab.research.google.com/assets/colab-badge.svg\" alt=\"Open In Colab\"/></a>"
      ]
    },
    {
      "cell_type": "code",
      "execution_count": null,
      "metadata": {
        "colab": {
          "base_uri": "https://localhost:8080/"
        },
        "id": "lHzBu5cb5rmy",
        "outputId": "aa44259c-9b51-4512-a364-29e06c3bde71"
      },
      "outputs": [
        {
          "output_type": "stream",
          "name": "stdout",
          "text": [
            "Looking in indexes: https://pypi.org/simple, https://us-python.pkg.dev/colab-wheels/public/simple/\n",
            "Requirement already satisfied: pyspark in /usr/local/lib/python3.7/dist-packages (3.2.1)\n",
            "Requirement already satisfied: py4j==0.10.9.3 in /usr/local/lib/python3.7/dist-packages (from pyspark) (0.10.9.3)\n"
          ]
        }
      ],
      "source": [
        "## its the second part of the script\n",
        "## the first part creates noise and null and outliers in a given dataset\n",
        "## in this part we take as input the first noisy dataset that we created, the out.csv\n",
        "## the out.csv can be found on https://github.com/gkolovos/kaggleDATAset\n",
        "## in this part we handle  the outliers and the null valies\n",
        "## then we upply the Grid Search CV model we created in order the evaluate its metrics\n",
        "\n",
        "\n",
        "#install pyspark\n",
        "! pip install pyspark"
      ]
    },
    {
      "cell_type": "code",
      "execution_count": null,
      "metadata": {
        "id": "vPEA5Wee6I3G"
      },
      "outputs": [],
      "source": [
        "# ignore warnings\n",
        "import warnings\n",
        "warnings.filterwarnings(\"ignore\")"
      ]
    },
    {
      "cell_type": "code",
      "execution_count": null,
      "metadata": {
        "id": "3OP8M2jU6WX5"
      },
      "outputs": [],
      "source": [
        "from pyspark.sql import SparkSession\n",
        "from pyspark.sql.types import *\n",
        "from pyspark.sql.functions import *\n",
        "import seaborn as sns"
      ]
    },
    {
      "cell_type": "code",
      "execution_count": null,
      "metadata": {
        "colab": {
          "base_uri": "https://localhost:8080/",
          "height": 222
        },
        "id": "K0sNzDx_6Ysa",
        "outputId": "7e5d52bc-c68f-408f-fdc2-475fa4337a1a"
      },
      "outputs": [
        {
          "output_type": "execute_result",
          "data": {
            "text/plain": [
              "<pyspark.sql.session.SparkSession at 0x7f1dfb74f2d0>"
            ],
            "text/html": [
              "\n",
              "            <div>\n",
              "                <p><b>SparkSession - in-memory</b></p>\n",
              "                \n",
              "        <div>\n",
              "            <p><b>SparkContext</b></p>\n",
              "\n",
              "            <p><a href=\"http://62cea8db76a9:4040\">Spark UI</a></p>\n",
              "\n",
              "            <dl>\n",
              "              <dt>Version</dt>\n",
              "                <dd><code>v3.2.1</code></dd>\n",
              "              <dt>Master</dt>\n",
              "                <dd><code>local[*]</code></dd>\n",
              "              <dt>AppName</dt>\n",
              "                <dd><code>Heart_Disease_pySpark</code></dd>\n",
              "            </dl>\n",
              "        </div>\n",
              "        \n",
              "            </div>\n",
              "        "
            ]
          },
          "metadata": {},
          "execution_count": 511
        }
      ],
      "source": [
        "spark = SparkSession.builder.appName('Heart_Disease_pySpark').getOrCreate()\n",
        "spark"
      ]
    },
    {
      "cell_type": "code",
      "execution_count": null,
      "metadata": {
        "colab": {
          "base_uri": "https://localhost:8080/"
        },
        "id": "H_-Hwyxc6eKv",
        "outputId": "434eaac9-668f-42c9-f5e6-33bc13458acb"
      },
      "outputs": [
        {
          "output_type": "stream",
          "name": "stdout",
          "text": [
            "fatal: destination path 'kaggleDATAset' already exists and is not an empty directory.\n"
          ]
        }
      ],
      "source": [
        "! git clone https://github.com/gkolovos/kaggleDATAset"
      ]
    },
    {
      "cell_type": "code",
      "execution_count": null,
      "metadata": {
        "colab": {
          "base_uri": "https://localhost:8080/"
        },
        "id": "Ev6ACTIu6g3O",
        "outputId": "d9b2f41b-f0f3-4183-eacf-33c3aeef073d"
      },
      "outputs": [
        {
          "output_type": "stream",
          "name": "stdout",
          "text": [
            "heart.csv  noisy_dataset.csv  noisyfile2.csv  out.csv\n"
          ]
        }
      ],
      "source": [
        "ls kaggleDATAset"
      ]
    },
    {
      "cell_type": "code",
      "execution_count": null,
      "metadata": {
        "id": "BNlCIKyZ6jAL"
      },
      "outputs": [],
      "source": [
        "#create spark dataframe\n",
        "df = spark.read.csv(\"/content/kaggleDATAset/out.csv\", header=True, inferSchema=True )\n"
      ]
    },
    {
      "cell_type": "code",
      "execution_count": null,
      "metadata": {
        "id": "WPAGkf0Z6mCq",
        "colab": {
          "base_uri": "https://localhost:8080/"
        },
        "outputId": "331a8f24-3e03-4207-dcda-f90f449189e1"
      },
      "outputs": [
        {
          "output_type": "stream",
          "name": "stdout",
          "text": [
            "+---+----+---+-------------+------------------+------------------+---------+----------+------------------+--------------+--------------------+--------+------------+\n",
            "|_c0| Age|sex|ChestPainType|         RestingBP|       Cholesterol|FastingBS|RestingECG|             MaxHR|ExerciseAngina|             Oldpeak|ST_Slope|HeartDisease|\n",
            "+---+----+---+-------------+------------------+------------------+---------+----------+------------------+--------------+--------------------+--------+------------+\n",
            "|  0|39.0|1.0|         0.75|140.07466656670223|289.10286095506933|      0.0|       0.0|172.09099156193284|           0.0|-0.05483643651941964|    0.75|           0|\n",
            "|  1|49.0|0.0|          0.0|159.99363206516253|179.93671391672518|      0.0|       0.0| 155.9269124561408|           0.0|  1.1095842756681535|     0.0|           1|\n",
            "|  2|36.0|1.0|         0.75| 129.9314867970465| 283.0786218380064|      0.0|      0.75| 97.97295999999045|           0.0| 0.18289679321606442|    null|           0|\n",
            "|  3|48.0|0.0|          0.5|137.85641306553043|213.98154971911848|      0.0|       0.0|107.99686865142371|           1.0|   1.526186331960874|     0.0|           1|\n",
            "|  4|54.0|1.0|          0.0|149.90560352353546|195.28179251894738|      0.0|      null|122.05557586760784|           0.0| 0.09802782636415552|    0.75|           0|\n",
            "|  5|39.0|1.0|         null|120.10883286824316|339.01874258635854|      0.0|       0.0|169.91862679601152|           0.0| 0.13304950888652226|    0.75|           0|\n",
            "|  6|44.0|0.0|         0.75| 130.0455091751822| 236.7589874680023|      0.0|       0.0|169.98106925401933|           0.0| 0.10664354769679636|    0.75|           0|\n",
            "|  7|54.0|1.0|         0.75|110.10391043420877| 207.9601024697373|      0.0|       0.0|141.87103117519501|           0.0|-0.09544706251472253|    0.75|           0|\n",
            "|  8|37.0|1.0|          0.0|140.14095369368306|207.01573293107373|      0.0|       0.0|130.00241257824902|           1.0|  1.6754231826808206|     0.0|           1|\n",
            "|  9|47.0|0.0|         0.75| 120.1133266070447|283.97544092778134|      0.0|       0.0|120.03244510510696|           0.0|-0.05540038444324542|    0.75|           0|\n",
            "| 10|36.0|0.0|          0.0|              null| 210.9864975833685|      0.0|       0.0|141.88161343327738|           0.0|-0.13260720575247323|    0.75|           0|\n",
            "| 11|58.0|1.0|         0.75|136.34380740429583|164.12361336286958|      0.0|      0.75| 98.97555048397115|           1.0|   1.978046330358696|    null|           1|\n",
            "| 12|39.0|1.0|          0.5|120.02702482870139|203.87625197487603|      0.0|       0.0| 144.9974229143222|           0.0|                null|    0.75|           0|\n",
            "| 13|49.0|1.0|          0.5|              null| 234.0030945318487|      0.0|       0.0|              null|           1.0|  1.1159150091016934|     0.0|           1|\n",
            "| 14|41.0|0.0|          0.0|              null| 211.0100987596279|      0.0|      0.75|137.07318830064222|           0.0| -0.1582654583168905|    0.75|           0|\n",
            "| 15|null|0.0|         0.75|120.04892581110204|273.10769235551965|      0.0|       0.0|149.96934100522597|           0.0|  1.3507405359513076|     0.0|           0|\n",
            "| 16|37.0|1.0|          0.5| 110.0638478533062|  196.025272765079|      0.0|       0.0|              null|          null|-0.03423508053010008|     0.0|           1|\n",
            "| 17|43.0|0.0|         null|119.93322822098136|200.82761619808542|      0.0|       0.0|165.03739758013572|           0.0| 0.10243133350276211|     1.0|           0|\n",
            "| 18|60.0|1.0|          0.5|              null| 247.9574912194813|     null|      null| 125.0270166416679|           0.0|  0.9703859940387377|     0.0|           1|\n",
            "| 19|36.0|1.0|         0.75|120.01852965307371| 267.0625560544231|     null|       0.0|159.93624309661547|           0.0|  3.0389483277278098|     0.0|           1|\n",
            "+---+----+---+-------------+------------------+------------------+---------+----------+------------------+--------------+--------------------+--------+------------+\n",
            "only showing top 20 rows\n",
            "\n"
          ]
        }
      ],
      "source": [
        "df.show()"
      ]
    },
    {
      "cell_type": "code",
      "execution_count": null,
      "metadata": {
        "id": "R6rbWBeI7Wfe"
      },
      "outputs": [],
      "source": [
        "### metatrepw to spark df se pandas df gia na kanw tis metatropes \n",
        "\n",
        "pandasDF = df.toPandas()"
      ]
    },
    {
      "cell_type": "code",
      "execution_count": null,
      "metadata": {
        "id": "UmiLOQXg7YZ2",
        "colab": {
          "base_uri": "https://localhost:8080/"
        },
        "outputId": "7a979fa2-2b64-4f84-97d4-430936270671"
      },
      "outputs": [
        {
          "output_type": "stream",
          "name": "stdout",
          "text": [
            "     _c0   Age  sex  ChestPainType   RestingBP  Cholesterol  FastingBS  \\\n",
            "0      0  39.0  1.0           0.75  140.074667   289.102861        0.0   \n",
            "1      1  49.0  0.0           0.00  159.993632   179.936714        0.0   \n",
            "2      2  36.0  1.0           0.75  129.931487   283.078622        0.0   \n",
            "3      3  48.0  0.0           0.50  137.856413   213.981550        0.0   \n",
            "4      4  54.0  1.0           0.00  149.905604   195.281793        0.0   \n",
            "..   ...   ...  ...            ...         ...          ...        ...   \n",
            "913  913  44.0  1.0            NaN  109.942225          NaN        0.0   \n",
            "914  914  67.0  1.0           0.50  143.945443          NaN        1.0   \n",
            "915  915  57.0  1.0           0.50  129.981999   130.934711        0.0   \n",
            "916  916   NaN  0.0           1.00  129.971256   235.883080        0.0   \n",
            "917  917  37.0  1.0           0.00  138.114228   174.903332        0.0   \n",
            "\n",
            "     RestingECG       MaxHR  ExerciseAngina   Oldpeak  ST_Slope  HeartDisease  \n",
            "0          0.00  172.090992             0.0 -0.054836      0.75             0  \n",
            "1          0.00  155.926912             0.0  1.109584      0.00             1  \n",
            "2          0.75   97.972960             0.0  0.182897       NaN             0  \n",
            "3          0.00  107.996869             1.0  1.526186      0.00             1  \n",
            "4           NaN  122.055576             0.0  0.098028      0.75             0  \n",
            "..          ...         ...             ...       ...       ...           ...  \n",
            "913        0.00  131.876501             0.0  1.209299      0.00             1  \n",
            "914        0.00  141.003780             0.0  3.347847      0.00             1  \n",
            "915         NaN  115.085670             1.0  1.192848      0.00             1  \n",
            "916        1.00  173.963094             0.0  0.022987      0.00             1  \n",
            "917        0.00  173.242775             0.0  0.192222      1.00             0  \n",
            "\n",
            "[918 rows x 13 columns]\n"
          ]
        }
      ],
      "source": [
        "print(pandasDF)"
      ]
    },
    {
      "cell_type": "code",
      "execution_count": null,
      "metadata": {
        "id": "EDYdtApXrZ5C"
      },
      "outputs": [],
      "source": [
        "x_noisy = pandasDF"
      ]
    },
    {
      "cell_type": "code",
      "execution_count": null,
      "metadata": {
        "id": "8_mWb20QdJWk"
      },
      "outputs": [],
      "source": [
        "######## to teliko dataframe me noise kai outliers kai NaN times ###########################"
      ]
    },
    {
      "cell_type": "code",
      "execution_count": null,
      "metadata": {
        "id": "liER1iJAdMmD",
        "colab": {
          "base_uri": "https://localhost:8080/"
        },
        "outputId": "415a9afe-a57c-4850-a6e3-d85e26b31095"
      },
      "outputs": [
        {
          "output_type": "stream",
          "name": "stdout",
          "text": [
            "     _c0   Age  sex  ChestPainType   RestingBP  Cholesterol  FastingBS  \\\n",
            "0      0  39.0  1.0           0.75  140.074667   289.102861        0.0   \n",
            "1      1  49.0  0.0           0.00  159.993632   179.936714        0.0   \n",
            "2      2  36.0  1.0           0.75  129.931487   283.078622        0.0   \n",
            "3      3  48.0  0.0           0.50  137.856413   213.981550        0.0   \n",
            "4      4  54.0  1.0           0.00  149.905604   195.281793        0.0   \n",
            "..   ...   ...  ...            ...         ...          ...        ...   \n",
            "913  913  44.0  1.0            NaN  109.942225          NaN        0.0   \n",
            "914  914  67.0  1.0           0.50  143.945443          NaN        1.0   \n",
            "915  915  57.0  1.0           0.50  129.981999   130.934711        0.0   \n",
            "916  916   NaN  0.0           1.00  129.971256   235.883080        0.0   \n",
            "917  917  37.0  1.0           0.00  138.114228   174.903332        0.0   \n",
            "\n",
            "     RestingECG       MaxHR  ExerciseAngina   Oldpeak  ST_Slope  HeartDisease  \n",
            "0          0.00  172.090992             0.0 -0.054836      0.75             0  \n",
            "1          0.00  155.926912             0.0  1.109584      0.00             1  \n",
            "2          0.75   97.972960             0.0  0.182897       NaN             0  \n",
            "3          0.00  107.996869             1.0  1.526186      0.00             1  \n",
            "4           NaN  122.055576             0.0  0.098028      0.75             0  \n",
            "..          ...         ...             ...       ...       ...           ...  \n",
            "913        0.00  131.876501             0.0  1.209299      0.00             1  \n",
            "914        0.00  141.003780             0.0  3.347847      0.00             1  \n",
            "915         NaN  115.085670             1.0  1.192848      0.00             1  \n",
            "916        1.00  173.963094             0.0  0.022987      0.00             1  \n",
            "917        0.00  173.242775             0.0  0.192222      1.00             0  \n",
            "\n",
            "[918 rows x 13 columns]\n"
          ]
        }
      ],
      "source": [
        "print(x_noisy)"
      ]
    },
    {
      "cell_type": "code",
      "execution_count": null,
      "metadata": {
        "id": "P3b22oOc9UJ3",
        "colab": {
          "base_uri": "https://localhost:8080/"
        },
        "outputId": "11fee079-467b-426d-81a0-6acc3ef58aad"
      },
      "outputs": [
        {
          "output_type": "execute_result",
          "data": {
            "text/plain": [
              "_c0                 int32\n",
              "Age               float64\n",
              "sex               float64\n",
              "ChestPainType     float64\n",
              "RestingBP         float64\n",
              "Cholesterol       float64\n",
              "FastingBS         float64\n",
              "RestingECG        float64\n",
              "MaxHR             float64\n",
              "ExerciseAngina    float64\n",
              "Oldpeak           float64\n",
              "ST_Slope          float64\n",
              "HeartDisease        int32\n",
              "dtype: object"
            ]
          },
          "metadata": {},
          "execution_count": 521
        }
      ],
      "source": [
        "x_noisy.dtypes"
      ]
    },
    {
      "cell_type": "code",
      "execution_count": null,
      "metadata": {
        "id": "Llbd_vY_9WbP",
        "colab": {
          "base_uri": "https://localhost:8080/"
        },
        "outputId": "0f49c056-2627-4b50-8b31-44d6a6eed6c1"
      },
      "outputs": [
        {
          "output_type": "stream",
          "name": "stdout",
          "text": [
            "     _c0   Age  sex  ChestPainType   RestingBP  Cholesterol  FastingBS  \\\n",
            "0      0  39.0  1.0           0.75  140.074667   289.102861        0.0   \n",
            "1      1  49.0  0.0           0.00  159.993632   179.936714        0.0   \n",
            "2      2  36.0  1.0           0.75  129.931487   283.078622        0.0   \n",
            "3      3  48.0  0.0           0.50  137.856413   213.981550        0.0   \n",
            "4      4  54.0  1.0           0.00  149.905604   195.281793        0.0   \n",
            "..   ...   ...  ...            ...         ...          ...        ...   \n",
            "913  913  44.0  1.0            NaN  109.942225          NaN        0.0   \n",
            "914  914  67.0  1.0           0.50  143.945443          NaN        1.0   \n",
            "915  915  57.0  1.0           0.50  129.981999   130.934711        0.0   \n",
            "916  916   NaN  0.0           1.00  129.971256   235.883080        0.0   \n",
            "917  917  37.0  1.0           0.00  138.114228   174.903332        0.0   \n",
            "\n",
            "     RestingECG       MaxHR  ExerciseAngina   Oldpeak  ST_Slope  HeartDisease  \n",
            "0          0.00  172.090992             0.0 -0.054836      0.75             0  \n",
            "1          0.00  155.926912             0.0  1.109584      0.00             1  \n",
            "2          0.75   97.972960             0.0  0.182897       NaN             0  \n",
            "3          0.00  107.996869             1.0  1.526186      0.00             1  \n",
            "4           NaN  122.055576             0.0  0.098028      0.75             0  \n",
            "..          ...         ...             ...       ...       ...           ...  \n",
            "913        0.00  131.876501             0.0  1.209299      0.00             1  \n",
            "914        0.00  141.003780             0.0  3.347847      0.00             1  \n",
            "915         NaN  115.085670             1.0  1.192848      0.00             1  \n",
            "916        1.00  173.963094             0.0  0.022987      0.00             1  \n",
            "917        0.00  173.242775             0.0  0.192222      1.00             0  \n",
            "\n",
            "[918 rows x 13 columns]\n"
          ]
        }
      ],
      "source": [
        "print(x_noisy)"
      ]
    },
    {
      "cell_type": "code",
      "execution_count": null,
      "metadata": {
        "id": "GiQFXUrr9eUw"
      },
      "outputs": [],
      "source": [
        "##### mporw na gemisw ta NaN me tis mean h me tis median times\n",
        "### gia kalyterh apodosh tha tis syplhrwsw xrhsimooiontas ton KNN algorithm"
      ]
    },
    {
      "cell_type": "code",
      "execution_count": null,
      "metadata": {
        "id": "Wi1PEMirdzvV"
      },
      "outputs": [],
      "source": [
        "### dimiourgisa to dataset to opoio exei enthorives times kai pleon yparxoun kai outliners enw exei epishs kai elipeis times\n",
        "\n",
        "### to epomeno vima einai na epexergastw ta outliners kai tis null times kai na xanatrexw tous algorithmoys gia na sygkrinw ta apotelesmata"
      ]
    },
    {
      "cell_type": "code",
      "execution_count": null,
      "metadata": {
        "id": "EClfIx1sd2Nj"
      },
      "outputs": [],
      "source": [
        "################################################################ detect outliers ##########################################################################"
      ]
    },
    {
      "cell_type": "code",
      "execution_count": null,
      "metadata": {
        "id": "sNsmxcZUd5oi"
      },
      "outputs": [],
      "source": [
        "import numpy as np\n",
        "import pandas as pd"
      ]
    },
    {
      "cell_type": "code",
      "execution_count": null,
      "metadata": {
        "id": "r6fr-Jrgd8UV",
        "colab": {
          "base_uri": "https://localhost:8080/",
          "height": 250
        },
        "outputId": "6acf019f-66ad-4e50-a42f-fe736ec42722"
      },
      "outputs": [
        {
          "output_type": "execute_result",
          "data": {
            "text/plain": [
              "     _c0   Age  sex  ChestPainType   RestingBP  Cholesterol  FastingBS  \\\n",
              "163  163  41.0  1.0            1.0  120.027718   195.948017        0.0   \n",
              "61    61  42.0  NaN            0.0  149.921273   253.987241        0.0   \n",
              "476  476   NaN  1.0            0.5  131.930396   217.828231        1.0   \n",
              "507  507  39.0  NaN            0.0  105.893926   239.930957        0.0   \n",
              "131  131  45.0  1.0            0.5  110.118873   201.990100        0.0   \n",
              "\n",
              "     RestingECG       MaxHR  ExerciseAngina   Oldpeak  ST_Slope  HeartDisease  \n",
              "163         0.0  149.973429             0.0  0.036806      1.00             0  \n",
              "61          0.0  175.021168             0.0       NaN      0.75             0  \n",
              "476         1.0  138.970489             0.0  0.236150      0.75             0  \n",
              "507         0.0   79.986757             1.0 -0.193488      0.75             0  \n",
              "131         0.0  149.910905             1.0       NaN      0.00             1  "
            ],
            "text/html": [
              "\n",
              "  <div id=\"df-24ee0877-2a67-441d-adb1-b6e000014883\">\n",
              "    <div class=\"colab-df-container\">\n",
              "      <div>\n",
              "<style scoped>\n",
              "    .dataframe tbody tr th:only-of-type {\n",
              "        vertical-align: middle;\n",
              "    }\n",
              "\n",
              "    .dataframe tbody tr th {\n",
              "        vertical-align: top;\n",
              "    }\n",
              "\n",
              "    .dataframe thead th {\n",
              "        text-align: right;\n",
              "    }\n",
              "</style>\n",
              "<table border=\"1\" class=\"dataframe\">\n",
              "  <thead>\n",
              "    <tr style=\"text-align: right;\">\n",
              "      <th></th>\n",
              "      <th>_c0</th>\n",
              "      <th>Age</th>\n",
              "      <th>sex</th>\n",
              "      <th>ChestPainType</th>\n",
              "      <th>RestingBP</th>\n",
              "      <th>Cholesterol</th>\n",
              "      <th>FastingBS</th>\n",
              "      <th>RestingECG</th>\n",
              "      <th>MaxHR</th>\n",
              "      <th>ExerciseAngina</th>\n",
              "      <th>Oldpeak</th>\n",
              "      <th>ST_Slope</th>\n",
              "      <th>HeartDisease</th>\n",
              "    </tr>\n",
              "  </thead>\n",
              "  <tbody>\n",
              "    <tr>\n",
              "      <th>163</th>\n",
              "      <td>163</td>\n",
              "      <td>41.0</td>\n",
              "      <td>1.0</td>\n",
              "      <td>1.0</td>\n",
              "      <td>120.027718</td>\n",
              "      <td>195.948017</td>\n",
              "      <td>0.0</td>\n",
              "      <td>0.0</td>\n",
              "      <td>149.973429</td>\n",
              "      <td>0.0</td>\n",
              "      <td>0.036806</td>\n",
              "      <td>1.00</td>\n",
              "      <td>0</td>\n",
              "    </tr>\n",
              "    <tr>\n",
              "      <th>61</th>\n",
              "      <td>61</td>\n",
              "      <td>42.0</td>\n",
              "      <td>NaN</td>\n",
              "      <td>0.0</td>\n",
              "      <td>149.921273</td>\n",
              "      <td>253.987241</td>\n",
              "      <td>0.0</td>\n",
              "      <td>0.0</td>\n",
              "      <td>175.021168</td>\n",
              "      <td>0.0</td>\n",
              "      <td>NaN</td>\n",
              "      <td>0.75</td>\n",
              "      <td>0</td>\n",
              "    </tr>\n",
              "    <tr>\n",
              "      <th>476</th>\n",
              "      <td>476</td>\n",
              "      <td>NaN</td>\n",
              "      <td>1.0</td>\n",
              "      <td>0.5</td>\n",
              "      <td>131.930396</td>\n",
              "      <td>217.828231</td>\n",
              "      <td>1.0</td>\n",
              "      <td>1.0</td>\n",
              "      <td>138.970489</td>\n",
              "      <td>0.0</td>\n",
              "      <td>0.236150</td>\n",
              "      <td>0.75</td>\n",
              "      <td>0</td>\n",
              "    </tr>\n",
              "    <tr>\n",
              "      <th>507</th>\n",
              "      <td>507</td>\n",
              "      <td>39.0</td>\n",
              "      <td>NaN</td>\n",
              "      <td>0.0</td>\n",
              "      <td>105.893926</td>\n",
              "      <td>239.930957</td>\n",
              "      <td>0.0</td>\n",
              "      <td>0.0</td>\n",
              "      <td>79.986757</td>\n",
              "      <td>1.0</td>\n",
              "      <td>-0.193488</td>\n",
              "      <td>0.75</td>\n",
              "      <td>0</td>\n",
              "    </tr>\n",
              "    <tr>\n",
              "      <th>131</th>\n",
              "      <td>131</td>\n",
              "      <td>45.0</td>\n",
              "      <td>1.0</td>\n",
              "      <td>0.5</td>\n",
              "      <td>110.118873</td>\n",
              "      <td>201.990100</td>\n",
              "      <td>0.0</td>\n",
              "      <td>0.0</td>\n",
              "      <td>149.910905</td>\n",
              "      <td>1.0</td>\n",
              "      <td>NaN</td>\n",
              "      <td>0.00</td>\n",
              "      <td>1</td>\n",
              "    </tr>\n",
              "  </tbody>\n",
              "</table>\n",
              "</div>\n",
              "      <button class=\"colab-df-convert\" onclick=\"convertToInteractive('df-24ee0877-2a67-441d-adb1-b6e000014883')\"\n",
              "              title=\"Convert this dataframe to an interactive table.\"\n",
              "              style=\"display:none;\">\n",
              "        \n",
              "  <svg xmlns=\"http://www.w3.org/2000/svg\" height=\"24px\"viewBox=\"0 0 24 24\"\n",
              "       width=\"24px\">\n",
              "    <path d=\"M0 0h24v24H0V0z\" fill=\"none\"/>\n",
              "    <path d=\"M18.56 5.44l.94 2.06.94-2.06 2.06-.94-2.06-.94-.94-2.06-.94 2.06-2.06.94zm-11 1L8.5 8.5l.94-2.06 2.06-.94-2.06-.94L8.5 2.5l-.94 2.06-2.06.94zm10 10l.94 2.06.94-2.06 2.06-.94-2.06-.94-.94-2.06-.94 2.06-2.06.94z\"/><path d=\"M17.41 7.96l-1.37-1.37c-.4-.4-.92-.59-1.43-.59-.52 0-1.04.2-1.43.59L10.3 9.45l-7.72 7.72c-.78.78-.78 2.05 0 2.83L4 21.41c.39.39.9.59 1.41.59.51 0 1.02-.2 1.41-.59l7.78-7.78 2.81-2.81c.8-.78.8-2.07 0-2.86zM5.41 20L4 18.59l7.72-7.72 1.47 1.35L5.41 20z\"/>\n",
              "  </svg>\n",
              "      </button>\n",
              "      \n",
              "  <style>\n",
              "    .colab-df-container {\n",
              "      display:flex;\n",
              "      flex-wrap:wrap;\n",
              "      gap: 12px;\n",
              "    }\n",
              "\n",
              "    .colab-df-convert {\n",
              "      background-color: #E8F0FE;\n",
              "      border: none;\n",
              "      border-radius: 50%;\n",
              "      cursor: pointer;\n",
              "      display: none;\n",
              "      fill: #1967D2;\n",
              "      height: 32px;\n",
              "      padding: 0 0 0 0;\n",
              "      width: 32px;\n",
              "    }\n",
              "\n",
              "    .colab-df-convert:hover {\n",
              "      background-color: #E2EBFA;\n",
              "      box-shadow: 0px 1px 2px rgba(60, 64, 67, 0.3), 0px 1px 3px 1px rgba(60, 64, 67, 0.15);\n",
              "      fill: #174EA6;\n",
              "    }\n",
              "\n",
              "    [theme=dark] .colab-df-convert {\n",
              "      background-color: #3B4455;\n",
              "      fill: #D2E3FC;\n",
              "    }\n",
              "\n",
              "    [theme=dark] .colab-df-convert:hover {\n",
              "      background-color: #434B5C;\n",
              "      box-shadow: 0px 1px 3px 1px rgba(0, 0, 0, 0.15);\n",
              "      filter: drop-shadow(0px 1px 2px rgba(0, 0, 0, 0.3));\n",
              "      fill: #FFFFFF;\n",
              "    }\n",
              "  </style>\n",
              "\n",
              "      <script>\n",
              "        const buttonEl =\n",
              "          document.querySelector('#df-24ee0877-2a67-441d-adb1-b6e000014883 button.colab-df-convert');\n",
              "        buttonEl.style.display =\n",
              "          google.colab.kernel.accessAllowed ? 'block' : 'none';\n",
              "\n",
              "        async function convertToInteractive(key) {\n",
              "          const element = document.querySelector('#df-24ee0877-2a67-441d-adb1-b6e000014883');\n",
              "          const dataTable =\n",
              "            await google.colab.kernel.invokeFunction('convertToInteractive',\n",
              "                                                     [key], {});\n",
              "          if (!dataTable) return;\n",
              "\n",
              "          const docLinkHtml = 'Like what you see? Visit the ' +\n",
              "            '<a target=\"_blank\" href=https://colab.research.google.com/notebooks/data_table.ipynb>data table notebook</a>'\n",
              "            + ' to learn more about interactive tables.';\n",
              "          element.innerHTML = '';\n",
              "          dataTable['output_type'] = 'display_data';\n",
              "          await google.colab.output.renderOutput(dataTable, element);\n",
              "          const docLink = document.createElement('div');\n",
              "          docLink.innerHTML = docLinkHtml;\n",
              "          element.appendChild(docLink);\n",
              "        }\n",
              "      </script>\n",
              "    </div>\n",
              "  </div>\n",
              "  "
            ]
          },
          "metadata": {},
          "execution_count": 527
        }
      ],
      "source": [
        "x_noisy.sample(5)"
      ]
    },
    {
      "cell_type": "code",
      "execution_count": null,
      "metadata": {
        "id": "EzqKG6lYebIg",
        "colab": {
          "base_uri": "https://localhost:8080/",
          "height": 364
        },
        "outputId": "3eb19e72-6f74-4918-e5de-34c037b4f24f"
      },
      "outputs": [
        {
          "output_type": "execute_result",
          "data": {
            "text/plain": [
              "              _c0         Age         sex  ChestPainType   RestingBP  \\\n",
              "count  918.000000  826.000000  826.000000     826.000000  854.000000   \n",
              "mean   458.500000   53.062954    0.757869       0.447094  132.494580   \n",
              "std    265.148072    9.518895    0.428633       0.305501   18.370256   \n",
              "min      0.000000   28.000000    0.000000      -0.300000   -0.086683   \n",
              "25%    229.250000   46.000000    1.000000       0.000000  120.002061   \n",
              "50%    458.500000   54.000000    1.000000       0.500000  130.077703   \n",
              "75%    687.750000   60.000000    1.000000       0.500000  140.140184   \n",
              "max    917.000000   77.000000    1.000000       1.000000  200.119664   \n",
              "\n",
              "       Cholesterol   FastingBS  RestingECG       MaxHR  ExerciseAngina  \\\n",
              "count   826.000000  854.000000  854.000000  854.000000      826.000000   \n",
              "mean    199.879988    0.231888    0.355562  136.833748        0.397165   \n",
              "std     109.438021    0.433680    0.444691   25.492954        0.497133   \n",
              "min      -0.410472   -0.326524    0.000000   59.877794       -0.287943   \n",
              "25%     174.905043    0.000000    0.000000  119.924836        0.000000   \n",
              "50%     222.930355    0.000000    0.000000  137.982217        0.000000   \n",
              "75%     268.028952    0.000000    0.750000  155.269524        1.000000   \n",
              "max     603.059150    1.264830    1.400000  201.818059        1.264830   \n",
              "\n",
              "          Oldpeak    ST_Slope  HeartDisease  \n",
              "count  854.000000  854.000000    918.000000  \n",
              "mean     0.902828    0.312096      0.553377  \n",
              "std      1.079759    1.999111      0.497414  \n",
              "min     -2.557557  -40.000000      0.000000  \n",
              "25%      0.022781    0.000000      0.000000  \n",
              "50%      0.594403    0.000000      1.000000  \n",
              "75%      1.561761    0.750000      1.000000  \n",
              "max      6.207822    1.500000      1.000000  "
            ],
            "text/html": [
              "\n",
              "  <div id=\"df-d8833f00-50dc-4555-9a93-2ad762a05603\">\n",
              "    <div class=\"colab-df-container\">\n",
              "      <div>\n",
              "<style scoped>\n",
              "    .dataframe tbody tr th:only-of-type {\n",
              "        vertical-align: middle;\n",
              "    }\n",
              "\n",
              "    .dataframe tbody tr th {\n",
              "        vertical-align: top;\n",
              "    }\n",
              "\n",
              "    .dataframe thead th {\n",
              "        text-align: right;\n",
              "    }\n",
              "</style>\n",
              "<table border=\"1\" class=\"dataframe\">\n",
              "  <thead>\n",
              "    <tr style=\"text-align: right;\">\n",
              "      <th></th>\n",
              "      <th>_c0</th>\n",
              "      <th>Age</th>\n",
              "      <th>sex</th>\n",
              "      <th>ChestPainType</th>\n",
              "      <th>RestingBP</th>\n",
              "      <th>Cholesterol</th>\n",
              "      <th>FastingBS</th>\n",
              "      <th>RestingECG</th>\n",
              "      <th>MaxHR</th>\n",
              "      <th>ExerciseAngina</th>\n",
              "      <th>Oldpeak</th>\n",
              "      <th>ST_Slope</th>\n",
              "      <th>HeartDisease</th>\n",
              "    </tr>\n",
              "  </thead>\n",
              "  <tbody>\n",
              "    <tr>\n",
              "      <th>count</th>\n",
              "      <td>918.000000</td>\n",
              "      <td>826.000000</td>\n",
              "      <td>826.000000</td>\n",
              "      <td>826.000000</td>\n",
              "      <td>854.000000</td>\n",
              "      <td>826.000000</td>\n",
              "      <td>854.000000</td>\n",
              "      <td>854.000000</td>\n",
              "      <td>854.000000</td>\n",
              "      <td>826.000000</td>\n",
              "      <td>854.000000</td>\n",
              "      <td>854.000000</td>\n",
              "      <td>918.000000</td>\n",
              "    </tr>\n",
              "    <tr>\n",
              "      <th>mean</th>\n",
              "      <td>458.500000</td>\n",
              "      <td>53.062954</td>\n",
              "      <td>0.757869</td>\n",
              "      <td>0.447094</td>\n",
              "      <td>132.494580</td>\n",
              "      <td>199.879988</td>\n",
              "      <td>0.231888</td>\n",
              "      <td>0.355562</td>\n",
              "      <td>136.833748</td>\n",
              "      <td>0.397165</td>\n",
              "      <td>0.902828</td>\n",
              "      <td>0.312096</td>\n",
              "      <td>0.553377</td>\n",
              "    </tr>\n",
              "    <tr>\n",
              "      <th>std</th>\n",
              "      <td>265.148072</td>\n",
              "      <td>9.518895</td>\n",
              "      <td>0.428633</td>\n",
              "      <td>0.305501</td>\n",
              "      <td>18.370256</td>\n",
              "      <td>109.438021</td>\n",
              "      <td>0.433680</td>\n",
              "      <td>0.444691</td>\n",
              "      <td>25.492954</td>\n",
              "      <td>0.497133</td>\n",
              "      <td>1.079759</td>\n",
              "      <td>1.999111</td>\n",
              "      <td>0.497414</td>\n",
              "    </tr>\n",
              "    <tr>\n",
              "      <th>min</th>\n",
              "      <td>0.000000</td>\n",
              "      <td>28.000000</td>\n",
              "      <td>0.000000</td>\n",
              "      <td>-0.300000</td>\n",
              "      <td>-0.086683</td>\n",
              "      <td>-0.410472</td>\n",
              "      <td>-0.326524</td>\n",
              "      <td>0.000000</td>\n",
              "      <td>59.877794</td>\n",
              "      <td>-0.287943</td>\n",
              "      <td>-2.557557</td>\n",
              "      <td>-40.000000</td>\n",
              "      <td>0.000000</td>\n",
              "    </tr>\n",
              "    <tr>\n",
              "      <th>25%</th>\n",
              "      <td>229.250000</td>\n",
              "      <td>46.000000</td>\n",
              "      <td>1.000000</td>\n",
              "      <td>0.000000</td>\n",
              "      <td>120.002061</td>\n",
              "      <td>174.905043</td>\n",
              "      <td>0.000000</td>\n",
              "      <td>0.000000</td>\n",
              "      <td>119.924836</td>\n",
              "      <td>0.000000</td>\n",
              "      <td>0.022781</td>\n",
              "      <td>0.000000</td>\n",
              "      <td>0.000000</td>\n",
              "    </tr>\n",
              "    <tr>\n",
              "      <th>50%</th>\n",
              "      <td>458.500000</td>\n",
              "      <td>54.000000</td>\n",
              "      <td>1.000000</td>\n",
              "      <td>0.500000</td>\n",
              "      <td>130.077703</td>\n",
              "      <td>222.930355</td>\n",
              "      <td>0.000000</td>\n",
              "      <td>0.000000</td>\n",
              "      <td>137.982217</td>\n",
              "      <td>0.000000</td>\n",
              "      <td>0.594403</td>\n",
              "      <td>0.000000</td>\n",
              "      <td>1.000000</td>\n",
              "    </tr>\n",
              "    <tr>\n",
              "      <th>75%</th>\n",
              "      <td>687.750000</td>\n",
              "      <td>60.000000</td>\n",
              "      <td>1.000000</td>\n",
              "      <td>0.500000</td>\n",
              "      <td>140.140184</td>\n",
              "      <td>268.028952</td>\n",
              "      <td>0.000000</td>\n",
              "      <td>0.750000</td>\n",
              "      <td>155.269524</td>\n",
              "      <td>1.000000</td>\n",
              "      <td>1.561761</td>\n",
              "      <td>0.750000</td>\n",
              "      <td>1.000000</td>\n",
              "    </tr>\n",
              "    <tr>\n",
              "      <th>max</th>\n",
              "      <td>917.000000</td>\n",
              "      <td>77.000000</td>\n",
              "      <td>1.000000</td>\n",
              "      <td>1.000000</td>\n",
              "      <td>200.119664</td>\n",
              "      <td>603.059150</td>\n",
              "      <td>1.264830</td>\n",
              "      <td>1.400000</td>\n",
              "      <td>201.818059</td>\n",
              "      <td>1.264830</td>\n",
              "      <td>6.207822</td>\n",
              "      <td>1.500000</td>\n",
              "      <td>1.000000</td>\n",
              "    </tr>\n",
              "  </tbody>\n",
              "</table>\n",
              "</div>\n",
              "      <button class=\"colab-df-convert\" onclick=\"convertToInteractive('df-d8833f00-50dc-4555-9a93-2ad762a05603')\"\n",
              "              title=\"Convert this dataframe to an interactive table.\"\n",
              "              style=\"display:none;\">\n",
              "        \n",
              "  <svg xmlns=\"http://www.w3.org/2000/svg\" height=\"24px\"viewBox=\"0 0 24 24\"\n",
              "       width=\"24px\">\n",
              "    <path d=\"M0 0h24v24H0V0z\" fill=\"none\"/>\n",
              "    <path d=\"M18.56 5.44l.94 2.06.94-2.06 2.06-.94-2.06-.94-.94-2.06-.94 2.06-2.06.94zm-11 1L8.5 8.5l.94-2.06 2.06-.94-2.06-.94L8.5 2.5l-.94 2.06-2.06.94zm10 10l.94 2.06.94-2.06 2.06-.94-2.06-.94-.94-2.06-.94 2.06-2.06.94z\"/><path d=\"M17.41 7.96l-1.37-1.37c-.4-.4-.92-.59-1.43-.59-.52 0-1.04.2-1.43.59L10.3 9.45l-7.72 7.72c-.78.78-.78 2.05 0 2.83L4 21.41c.39.39.9.59 1.41.59.51 0 1.02-.2 1.41-.59l7.78-7.78 2.81-2.81c.8-.78.8-2.07 0-2.86zM5.41 20L4 18.59l7.72-7.72 1.47 1.35L5.41 20z\"/>\n",
              "  </svg>\n",
              "      </button>\n",
              "      \n",
              "  <style>\n",
              "    .colab-df-container {\n",
              "      display:flex;\n",
              "      flex-wrap:wrap;\n",
              "      gap: 12px;\n",
              "    }\n",
              "\n",
              "    .colab-df-convert {\n",
              "      background-color: #E8F0FE;\n",
              "      border: none;\n",
              "      border-radius: 50%;\n",
              "      cursor: pointer;\n",
              "      display: none;\n",
              "      fill: #1967D2;\n",
              "      height: 32px;\n",
              "      padding: 0 0 0 0;\n",
              "      width: 32px;\n",
              "    }\n",
              "\n",
              "    .colab-df-convert:hover {\n",
              "      background-color: #E2EBFA;\n",
              "      box-shadow: 0px 1px 2px rgba(60, 64, 67, 0.3), 0px 1px 3px 1px rgba(60, 64, 67, 0.15);\n",
              "      fill: #174EA6;\n",
              "    }\n",
              "\n",
              "    [theme=dark] .colab-df-convert {\n",
              "      background-color: #3B4455;\n",
              "      fill: #D2E3FC;\n",
              "    }\n",
              "\n",
              "    [theme=dark] .colab-df-convert:hover {\n",
              "      background-color: #434B5C;\n",
              "      box-shadow: 0px 1px 3px 1px rgba(0, 0, 0, 0.15);\n",
              "      filter: drop-shadow(0px 1px 2px rgba(0, 0, 0, 0.3));\n",
              "      fill: #FFFFFF;\n",
              "    }\n",
              "  </style>\n",
              "\n",
              "      <script>\n",
              "        const buttonEl =\n",
              "          document.querySelector('#df-d8833f00-50dc-4555-9a93-2ad762a05603 button.colab-df-convert');\n",
              "        buttonEl.style.display =\n",
              "          google.colab.kernel.accessAllowed ? 'block' : 'none';\n",
              "\n",
              "        async function convertToInteractive(key) {\n",
              "          const element = document.querySelector('#df-d8833f00-50dc-4555-9a93-2ad762a05603');\n",
              "          const dataTable =\n",
              "            await google.colab.kernel.invokeFunction('convertToInteractive',\n",
              "                                                     [key], {});\n",
              "          if (!dataTable) return;\n",
              "\n",
              "          const docLinkHtml = 'Like what you see? Visit the ' +\n",
              "            '<a target=\"_blank\" href=https://colab.research.google.com/notebooks/data_table.ipynb>data table notebook</a>'\n",
              "            + ' to learn more about interactive tables.';\n",
              "          element.innerHTML = '';\n",
              "          dataTable['output_type'] = 'display_data';\n",
              "          await google.colab.output.renderOutput(dataTable, element);\n",
              "          const docLink = document.createElement('div');\n",
              "          docLink.innerHTML = docLinkHtml;\n",
              "          element.appendChild(docLink);\n",
              "        }\n",
              "      </script>\n",
              "    </div>\n",
              "  </div>\n",
              "  "
            ]
          },
          "metadata": {},
          "execution_count": 528
        }
      ],
      "source": [
        "x_noisy.describe()\n"
      ]
    },
    {
      "cell_type": "code",
      "execution_count": null,
      "metadata": {
        "id": "0J5KPvfXefIW"
      },
      "outputs": [],
      "source": [
        "# printing olokliro to dataset\n",
        "\n",
        "# pd.set_option('display.max_rows', x_noisy.shape[0]+1)\n",
        "# print(x_noisy)"
      ]
    },
    {
      "cell_type": "code",
      "execution_count": null,
      "metadata": {
        "id": "2ekmICB4ehTo",
        "colab": {
          "base_uri": "https://localhost:8080/",
          "height": 297
        },
        "outputId": "531c1934-5905-44e2-d359-6761ef252265"
      },
      "outputs": [
        {
          "output_type": "execute_result",
          "data": {
            "text/plain": [
              "<matplotlib.axes._subplots.AxesSubplot at 0x7f1dedc7d950>"
            ]
          },
          "metadata": {},
          "execution_count": 530
        },
        {
          "output_type": "display_data",
          "data": {
            "text/plain": [
              "<Figure size 432x288 with 1 Axes>"
            ],
            "image/png": "[encoded data removed]"
          },
          "metadata": {
            "needs_background": "light"
          }
        }
      ],
      "source": [
        "##  Plot the distribution plot of “Age” feature\n",
        "\n",
        "sns.distplot(x_noisy['Age'])"
      ]
    },
    {
      "cell_type": "code",
      "execution_count": null,
      "metadata": {
        "id": "SUFky0NUej_2",
        "colab": {
          "base_uri": "https://localhost:8080/",
          "height": 297
        },
        "outputId": "a2da92c1-3136-4f89-9b90-e83b938701cd"
      },
      "outputs": [
        {
          "output_type": "execute_result",
          "data": {
            "text/plain": [
              "<matplotlib.axes._subplots.AxesSubplot at 0x7f1deb8f1910>"
            ]
          },
          "metadata": {},
          "execution_count": 531
        },
        {
          "output_type": "display_data",
          "data": {
            "text/plain": [
              "<Figure size 432x288 with 1 Axes>"
            ],
            "image/png": "[encoded data removed]"
          },
          "metadata": {
            "needs_background": "light"
          }
        }
      ],
      "source": [
        "# Plot the box-plot of “Age” feature\n",
        "\n",
        "sns.boxplot(x_noisy['Age'])"
      ]
    },
    {
      "cell_type": "code",
      "execution_count": null,
      "metadata": {
        "id": "SJCBmKx_enTU",
        "colab": {
          "base_uri": "https://localhost:8080/"
        },
        "outputId": "81bf2f52-32b3-4931-d935-a8cb67a841fa"
      },
      "outputs": [
        {
          "output_type": "stream",
          "name": "stdout",
          "text": [
            "54.0\n"
          ]
        }
      ],
      "source": [
        "print(x_noisy['Age'].quantile(0.50))   ### median timh "
      ]
    },
    {
      "cell_type": "code",
      "execution_count": null,
      "metadata": {
        "id": "u2I9_dryepsg"
      },
      "outputs": [],
      "source": [
        "#  Finding upper and lower limit\n",
        "\n",
        "upper_limit = x_noisy['Age'].quantile(0.99)\n",
        "lower_limit = x_noisy['Age'].quantile(0.01)"
      ]
    },
    {
      "cell_type": "code",
      "execution_count": null,
      "metadata": {
        "id": "PA3m-ZIAesGs",
        "colab": {
          "base_uri": "https://localhost:8080/"
        },
        "outputId": "a09ecad7-c3d3-48cf-f554-c35fc0376a7c"
      },
      "outputs": [
        {
          "output_type": "execute_result",
          "data": {
            "text/plain": [
              "32.0"
            ]
          },
          "metadata": {},
          "execution_count": 534
        }
      ],
      "source": [
        "lower_limit"
      ]
    },
    {
      "cell_type": "code",
      "execution_count": null,
      "metadata": {
        "id": "NVQcBCl9euWg",
        "colab": {
          "base_uri": "https://localhost:8080/"
        },
        "outputId": "b1217919-506b-488c-c18f-be9c2b8919a6"
      },
      "outputs": [
        {
          "output_type": "execute_result",
          "data": {
            "text/plain": [
              "74.0"
            ]
          },
          "metadata": {},
          "execution_count": 535
        }
      ],
      "source": [
        "upper_limit"
      ]
    },
    {
      "cell_type": "code",
      "execution_count": null,
      "metadata": {
        "id": "Wkb47Q1iewz3"
      },
      "outputs": [],
      "source": [
        "# Apply trimming\n",
        "\n",
        "## x_noisy1 = x_noisy[(x_noisy['Age'] <= 73.0) & (x_noisy['Age'] >= 32.0)]\n",
        "\n",
        "# aytos o tropos diagrafei ta rows me outliers\n",
        "# egw tha antikathastisw ta outliers me to upper kai lower limit antistoixa"
      ]
    },
    {
      "cell_type": "code",
      "execution_count": null,
      "metadata": {
        "id": "ffV8r7X3ezW4"
      },
      "outputs": [],
      "source": [
        "## second choise\n",
        " \n",
        "## filing outliers with the median timh\n",
        "# x_noisytest['Age'] = x_noisytest.where(x_noisytest['Age'] > upper_limit, 54.0, x_noisytest['Age'])\n",
        "# x_noisy.describe()"
      ]
    },
    {
      "cell_type": "code",
      "execution_count": null,
      "metadata": {
        "id": "cDZ0DJkXe18i"
      },
      "outputs": [],
      "source": [
        "## third choise\n",
        " \n",
        "## filing outliers with the upper_limit and lower limit\n",
        "#x_noisytest['Age'] = x_noisytest.where(x_noisytest['Age'] > upper_limit , 73, x_noisytest['Age'])\n",
        "#x_noisy.describe()"
      ]
    },
    {
      "cell_type": "code",
      "execution_count": null,
      "metadata": {
        "id": "OgbIM5wge4b7"
      },
      "outputs": [],
      "source": [
        "x_noisy['Age'] = np.where(x_noisy['Age'] >= upper_limit,\n",
        "        74.0 ,\n",
        "        np.where(x_noisy['Age'] <= lower_limit,\n",
        "        31.0 ,\n",
        "        x_noisy['Age']))"
      ]
    },
    {
      "cell_type": "code",
      "execution_count": null,
      "metadata": {
        "id": "P9Hh3ru6e6iA",
        "colab": {
          "base_uri": "https://localhost:8080/",
          "height": 297
        },
        "outputId": "539e15ce-5fe0-476d-c773-24e79cd4c050"
      },
      "outputs": [
        {
          "output_type": "execute_result",
          "data": {
            "text/plain": [
              "<matplotlib.axes._subplots.AxesSubplot at 0x7f1deb864d10>"
            ]
          },
          "metadata": {},
          "execution_count": 540
        },
        {
          "output_type": "display_data",
          "data": {
            "text/plain": [
              "<Figure size 432x288 with 1 Axes>"
            ],
            "image/png": "[encoded data removed]"
          },
          "metadata": {
            "needs_background": "light"
          }
        }
      ],
      "source": [
        "# Compare the distribution and box-plot after trimming\n",
        "\n",
        "sns.distplot(x_noisy['Age'])\n",
        "sns.boxplot(x_noisy['Age'])"
      ]
    },
    {
      "cell_type": "code",
      "execution_count": null,
      "metadata": {
        "id": "al7ylbdge8vm",
        "colab": {
          "base_uri": "https://localhost:8080/",
          "height": 297
        },
        "outputId": "117c324f-e590-476e-ad8c-563b1ea04f5a"
      },
      "outputs": [
        {
          "output_type": "execute_result",
          "data": {
            "text/plain": [
              "<matplotlib.axes._subplots.AxesSubplot at 0x7f1deb80b590>"
            ]
          },
          "metadata": {},
          "execution_count": 541
        },
        {
          "output_type": "display_data",
          "data": {
            "text/plain": [
              "<Figure size 432x288 with 1 Axes>"
            ],
            "image/png": "[encoded data removed]"
          },
          "metadata": {
            "needs_background": "light"
          }
        }
      ],
      "source": [
        "sns.distplot(x_noisy['Age'])"
      ]
    },
    {
      "cell_type": "code",
      "execution_count": null,
      "metadata": {
        "id": "mQ4tAMw0e_Am",
        "colab": {
          "base_uri": "https://localhost:8080/"
        },
        "outputId": "fad9fc21-fb55-47b4-fb79-8a0edf86301b"
      },
      "outputs": [
        {
          "output_type": "execute_result",
          "data": {
            "text/plain": [
              "Age\n",
              "31.0    14\n",
              "33.0     3\n",
              "34.0     7\n",
              "35.0     8\n",
              "36.0    10\n",
              "37.0    12\n",
              "38.0    11\n",
              "39.0    13\n",
              "40.0    19\n",
              "41.0    16\n",
              "42.0    12\n",
              "43.0    21\n",
              "44.0    22\n",
              "45.0    19\n",
              "46.0    21\n",
              "47.0    23\n",
              "48.0    22\n",
              "49.0    24\n",
              "50.0    20\n",
              "51.0    34\n",
              "52.0    33\n",
              "53.0    34\n",
              "54.0    42\n",
              "55.0    38\n",
              "56.0    29\n",
              "57.0    39\n",
              "58.0    34\n",
              "59.0    33\n",
              "60.0    32\n",
              "61.0    22\n",
              "62.0    29\n",
              "63.0    19\n",
              "64.0    22\n",
              "65.0    16\n",
              "66.0    15\n",
              "67.0    15\n",
              "68.0     8\n",
              "69.0     9\n",
              "70.0     5\n",
              "71.0     5\n",
              "72.0     3\n",
              "73.0     1\n",
              "74.0    12\n",
              "dtype: int64"
            ]
          },
          "metadata": {},
          "execution_count": 542
        }
      ],
      "source": [
        "x_noisy.groupby(['Age']).size()\n"
      ]
    },
    {
      "cell_type": "code",
      "execution_count": null,
      "metadata": {
        "id": "p1RTclTRfB4q",
        "colab": {
          "base_uri": "https://localhost:8080/"
        },
        "outputId": "5d95af8f-65a2-4703-8871-c2f072bb9ecc"
      },
      "outputs": [
        {
          "output_type": "execute_result",
          "data": {
            "text/plain": [
              "_c0                0\n",
              "Age               92\n",
              "sex               92\n",
              "ChestPainType     92\n",
              "RestingBP         64\n",
              "Cholesterol       92\n",
              "FastingBS         64\n",
              "RestingECG        64\n",
              "MaxHR             64\n",
              "ExerciseAngina    92\n",
              "Oldpeak           64\n",
              "ST_Slope          64\n",
              "HeartDisease       0\n",
              "dtype: int64"
            ]
          },
          "metadata": {},
          "execution_count": 543
        }
      ],
      "source": [
        "x_noisy.isna().sum()"
      ]
    },
    {
      "cell_type": "code",
      "execution_count": null,
      "metadata": {
        "id": "JIbQnWdTfEAn",
        "colab": {
          "base_uri": "https://localhost:8080/"
        },
        "outputId": "84b90d53-62e3-4d38-a439-40ffd34e3121"
      },
      "outputs": [
        {
          "output_type": "execute_result",
          "data": {
            "text/plain": [
              "_c0                0\n",
              "Age               92\n",
              "sex               92\n",
              "ChestPainType     92\n",
              "RestingBP         64\n",
              "Cholesterol       92\n",
              "FastingBS         64\n",
              "RestingECG        64\n",
              "MaxHR             64\n",
              "ExerciseAngina    92\n",
              "Oldpeak           64\n",
              "ST_Slope          64\n",
              "HeartDisease       0\n",
              "dtype: int64"
            ]
          },
          "metadata": {},
          "execution_count": 544
        }
      ],
      "source": [
        "count_nan = len(x_noisy) - x_noisy.count()\n",
        "count_nan"
      ]
    },
    {
      "cell_type": "code",
      "execution_count": null,
      "metadata": {
        "id": "skjqJ8dwfING",
        "colab": {
          "base_uri": "https://localhost:8080/"
        },
        "outputId": "5ccab50b-c7e0-4f16-99fa-f0f6f7e42a9e"
      },
      "outputs": [
        {
          "output_type": "stream",
          "name": "stdout",
          "text": [
            "     _c0   Age  sex  ChestPainType   RestingBP  Cholesterol  FastingBS  \\\n",
            "0      0  39.0  1.0           0.75  140.074667   289.102861        0.0   \n",
            "1      1  49.0  0.0           0.00  159.993632   179.936714        0.0   \n",
            "2      2  36.0  1.0           0.75  129.931487   283.078622        0.0   \n",
            "3      3  48.0  0.0           0.50  137.856413   213.981550        0.0   \n",
            "4      4  54.0  1.0           0.00  149.905604   195.281793        0.0   \n",
            "..   ...   ...  ...            ...         ...          ...        ...   \n",
            "913  913  44.0  1.0            NaN  109.942225          NaN        0.0   \n",
            "914  914  67.0  1.0           0.50  143.945443          NaN        1.0   \n",
            "915  915  57.0  1.0           0.50  129.981999   130.934711        0.0   \n",
            "916  916   NaN  0.0           1.00  129.971256   235.883080        0.0   \n",
            "917  917  37.0  1.0           0.00  138.114228   174.903332        0.0   \n",
            "\n",
            "     RestingECG       MaxHR  ExerciseAngina   Oldpeak  ST_Slope  HeartDisease  \n",
            "0          0.00  172.090992             0.0 -0.054836      0.75             0  \n",
            "1          0.00  155.926912             0.0  1.109584      0.00             1  \n",
            "2          0.75   97.972960             0.0  0.182897       NaN             0  \n",
            "3          0.00  107.996869             1.0  1.526186      0.00             1  \n",
            "4           NaN  122.055576             0.0  0.098028      0.75             0  \n",
            "..          ...         ...             ...       ...       ...           ...  \n",
            "913        0.00  131.876501             0.0  1.209299      0.00             1  \n",
            "914        0.00  141.003780             0.0  3.347847      0.00             1  \n",
            "915         NaN  115.085670             1.0  1.192848      0.00             1  \n",
            "916        1.00  173.963094             0.0  0.022987      0.00             1  \n",
            "917        0.00  173.242775             0.0  0.192222      1.00             0  \n",
            "\n",
            "[918 rows x 13 columns]\n"
          ]
        }
      ],
      "source": [
        "print(x_noisy)"
      ]
    },
    {
      "cell_type": "code",
      "execution_count": null,
      "metadata": {
        "id": "mJdA5VDHfKmi"
      },
      "outputs": [],
      "source": [
        "# print all rows\n",
        "\n",
        "# pd.set_option('display.max_rows', x_noisy.shape[0]+1)\n",
        "# print(x_noisy)"
      ]
    },
    {
      "cell_type": "code",
      "execution_count": null,
      "metadata": {
        "id": "tA1Qr1RIfM0D"
      },
      "outputs": [],
      "source": [
        "# sex\n",
        "\n",
        "# exw times mono 0 kai 1 opote komple ## einai ok"
      ]
    },
    {
      "cell_type": "code",
      "execution_count": null,
      "metadata": {
        "id": "fMta5RA_fO_k"
      },
      "outputs": [],
      "source": [
        "# ChestPainType"
      ]
    },
    {
      "cell_type": "code",
      "execution_count": null,
      "metadata": {
        "id": "cOApG_AGfRHq",
        "colab": {
          "base_uri": "https://localhost:8080/",
          "height": 297
        },
        "outputId": "32e9fc8a-adde-4996-b2d1-d12dc8cf3190"
      },
      "outputs": [
        {
          "output_type": "execute_result",
          "data": {
            "text/plain": [
              "<matplotlib.axes._subplots.AxesSubplot at 0x7f1deb725e90>"
            ]
          },
          "metadata": {},
          "execution_count": 549
        },
        {
          "output_type": "display_data",
          "data": {
            "text/plain": [
              "<Figure size 432x288 with 1 Axes>"
            ],
            "image/png": "[encoded data removed]"
          },
          "metadata": {
            "needs_background": "light"
          }
        }
      ],
      "source": [
        "sns.distplot(x_noisy['ChestPainType'])"
      ]
    },
    {
      "cell_type": "code",
      "execution_count": null,
      "metadata": {
        "id": "iaKipkZTfTVA",
        "colab": {
          "base_uri": "https://localhost:8080/",
          "height": 297
        },
        "outputId": "6ec0bc77-99e6-4c49-cd0a-7bb236b54e29"
      },
      "outputs": [
        {
          "output_type": "execute_result",
          "data": {
            "text/plain": [
              "<matplotlib.axes._subplots.AxesSubplot at 0x7f1deb6c0150>"
            ]
          },
          "metadata": {},
          "execution_count": 550
        },
        {
          "output_type": "display_data",
          "data": {
            "text/plain": [
              "<Figure size 432x288 with 1 Axes>"
            ],
            "image/png": "[encoded data removed]"
          },
          "metadata": {
            "needs_background": "light"
          }
        }
      ],
      "source": [
        "sns.boxplot(x_noisy['ChestPainType'])"
      ]
    },
    {
      "cell_type": "code",
      "execution_count": null,
      "metadata": {
        "id": "vCqbdz3-fWAv"
      },
      "outputs": [],
      "source": [
        "upper_limit = x_noisy['ChestPainType'].quantile(0.99)\n",
        "lower_limit = x_noisy['ChestPainType'].quantile(0.05)"
      ]
    },
    {
      "cell_type": "code",
      "execution_count": null,
      "metadata": {
        "id": "YcGPmgDGfYXI",
        "colab": {
          "base_uri": "https://localhost:8080/"
        },
        "outputId": "bc8ea2f5-b76e-4678-b0b7-46f445ac0224"
      },
      "outputs": [
        {
          "output_type": "execute_result",
          "data": {
            "text/plain": [
              "1.0"
            ]
          },
          "metadata": {},
          "execution_count": 552
        }
      ],
      "source": [
        "upper_limit"
      ]
    },
    {
      "cell_type": "code",
      "execution_count": null,
      "metadata": {
        "id": "ZuEyfouRfab2",
        "colab": {
          "base_uri": "https://localhost:8080/"
        },
        "outputId": "5e2affe3-8366-45ff-ae1a-9fcfd52e8982"
      },
      "outputs": [
        {
          "output_type": "execute_result",
          "data": {
            "text/plain": [
              "0.0"
            ]
          },
          "metadata": {},
          "execution_count": 553
        }
      ],
      "source": [
        "lower_limit"
      ]
    },
    {
      "cell_type": "code",
      "execution_count": null,
      "metadata": {
        "id": "utgaoNhUfdLb"
      },
      "outputs": [],
      "source": [
        "x_noisy['ChestPainType'] = np.where(x_noisy['ChestPainType'] >= upper_limit,\n",
        "        upper_limit,\n",
        "        np.where(x_noisy['ChestPainType'] <= lower_limit,\n",
        "        lower_limit,\n",
        "        x_noisy['ChestPainType']))"
      ]
    },
    {
      "cell_type": "code",
      "execution_count": null,
      "metadata": {
        "id": "K3XVqB7QffQP",
        "colab": {
          "base_uri": "https://localhost:8080/",
          "height": 297
        },
        "outputId": "393fb196-fb84-432d-b512-16a2e318e71f"
      },
      "outputs": [
        {
          "output_type": "execute_result",
          "data": {
            "text/plain": [
              "<matplotlib.axes._subplots.AxesSubplot at 0x7f1deb62c690>"
            ]
          },
          "metadata": {},
          "execution_count": 555
        },
        {
          "output_type": "display_data",
          "data": {
            "text/plain": [
              "<Figure size 432x288 with 1 Axes>"
            ],
            "image/png": "[encoded data removed]"
          },
          "metadata": {
            "needs_background": "light"
          }
        }
      ],
      "source": [
        "#sns.distplot(x_noisyNum2['ChestPainType'])\n",
        "sns.boxplot(x_noisy['ChestPainType'])"
      ]
    },
    {
      "cell_type": "code",
      "execution_count": null,
      "metadata": {
        "id": "YE5PgJjTfh2Z",
        "colab": {
          "base_uri": "https://localhost:8080/",
          "height": 297
        },
        "outputId": "d1760f32-3866-4f15-fca6-5e42a90c8411"
      },
      "outputs": [
        {
          "output_type": "execute_result",
          "data": {
            "text/plain": [
              "<matplotlib.axes._subplots.AxesSubplot at 0x7f1deb60d6d0>"
            ]
          },
          "metadata": {},
          "execution_count": 556
        },
        {
          "output_type": "display_data",
          "data": {
            "text/plain": [
              "<Figure size 432x288 with 1 Axes>"
            ],
            "image/png": "[encoded data removed]"
          },
          "metadata": {
            "needs_background": "light"
          }
        }
      ],
      "source": [
        "sns.distplot(x_noisy['ChestPainType'])"
      ]
    },
    {
      "cell_type": "code",
      "execution_count": null,
      "metadata": {
        "id": "gryUUBT_fkHZ",
        "colab": {
          "base_uri": "https://localhost:8080/"
        },
        "outputId": "2d8850d6-62e7-404a-a4c4-8ca463abdbf4"
      },
      "outputs": [
        {
          "output_type": "execute_result",
          "data": {
            "text/plain": [
              "ChestPainType\n",
              "0.00    213\n",
              "0.50    425\n",
              "0.75    120\n",
              "1.00     68\n",
              "dtype: int64"
            ]
          },
          "metadata": {},
          "execution_count": 557
        }
      ],
      "source": [
        "x_noisy.groupby(['ChestPainType']).size()"
      ]
    },
    {
      "cell_type": "code",
      "execution_count": null,
      "metadata": {
        "id": "vYJmhtiAfrnf",
        "colab": {
          "base_uri": "https://localhost:8080/",
          "height": 364
        },
        "outputId": "54559f84-f52a-4c2f-cd49-6adc904bb3db"
      },
      "outputs": [
        {
          "output_type": "execute_result",
          "data": {
            "text/plain": [
              "              _c0         Age         sex  ChestPainType   RestingBP  \\\n",
              "count  918.000000  826.000000  826.000000     826.000000  854.000000   \n",
              "mean   458.500000   53.060533    0.757869       0.448547  132.494580   \n",
              "std    265.148072    9.471423    0.428633       0.302641   18.370256   \n",
              "min      0.000000   31.000000    0.000000       0.000000   -0.086683   \n",
              "25%    229.250000   46.000000    1.000000       0.000000  120.002061   \n",
              "50%    458.500000   54.000000    1.000000       0.500000  130.077703   \n",
              "75%    687.750000   60.000000    1.000000       0.500000  140.140184   \n",
              "max    917.000000   74.000000    1.000000       1.000000  200.119664   \n",
              "\n",
              "       Cholesterol   FastingBS  RestingECG       MaxHR  ExerciseAngina  \\\n",
              "count   826.000000  854.000000  854.000000  854.000000      826.000000   \n",
              "mean    199.879988    0.231888    0.355562  136.833748        0.397165   \n",
              "std     109.438021    0.433680    0.444691   25.492954        0.497133   \n",
              "min      -0.410472   -0.326524    0.000000   59.877794       -0.287943   \n",
              "25%     174.905043    0.000000    0.000000  119.924836        0.000000   \n",
              "50%     222.930355    0.000000    0.000000  137.982217        0.000000   \n",
              "75%     268.028952    0.000000    0.750000  155.269524        1.000000   \n",
              "max     603.059150    1.264830    1.400000  201.818059        1.264830   \n",
              "\n",
              "          Oldpeak    ST_Slope  HeartDisease  \n",
              "count  854.000000  854.000000    918.000000  \n",
              "mean     0.902828    0.312096      0.553377  \n",
              "std      1.079759    1.999111      0.497414  \n",
              "min     -2.557557  -40.000000      0.000000  \n",
              "25%      0.022781    0.000000      0.000000  \n",
              "50%      0.594403    0.000000      1.000000  \n",
              "75%      1.561761    0.750000      1.000000  \n",
              "max      6.207822    1.500000      1.000000  "
            ],
            "text/html": [
              "\n",
              "  <div id=\"df-e138fb4b-eab1-45fb-9fd7-8b99de38e669\">\n",
              "    <div class=\"colab-df-container\">\n",
              "      <div>\n",
              "<style scoped>\n",
              "    .dataframe tbody tr th:only-of-type {\n",
              "        vertical-align: middle;\n",
              "    }\n",
              "\n",
              "    .dataframe tbody tr th {\n",
              "        vertical-align: top;\n",
              "    }\n",
              "\n",
              "    .dataframe thead th {\n",
              "        text-align: right;\n",
              "    }\n",
              "</style>\n",
              "<table border=\"1\" class=\"dataframe\">\n",
              "  <thead>\n",
              "    <tr style=\"text-align: right;\">\n",
              "      <th></th>\n",
              "      <th>_c0</th>\n",
              "      <th>Age</th>\n",
              "      <th>sex</th>\n",
              "      <th>ChestPainType</th>\n",
              "      <th>RestingBP</th>\n",
              "      <th>Cholesterol</th>\n",
              "      <th>FastingBS</th>\n",
              "      <th>RestingECG</th>\n",
              "      <th>MaxHR</th>\n",
              "      <th>ExerciseAngina</th>\n",
              "      <th>Oldpeak</th>\n",
              "      <th>ST_Slope</th>\n",
              "      <th>HeartDisease</th>\n",
              "    </tr>\n",
              "  </thead>\n",
              "  <tbody>\n",
              "    <tr>\n",
              "      <th>count</th>\n",
              "      <td>918.000000</td>\n",
              "      <td>826.000000</td>\n",
              "      <td>826.000000</td>\n",
              "      <td>826.000000</td>\n",
              "      <td>854.000000</td>\n",
              "      <td>826.000000</td>\n",
              "      <td>854.000000</td>\n",
              "      <td>854.000000</td>\n",
              "      <td>854.000000</td>\n",
              "      <td>826.000000</td>\n",
              "      <td>854.000000</td>\n",
              "      <td>854.000000</td>\n",
              "      <td>918.000000</td>\n",
              "    </tr>\n",
              "    <tr>\n",
              "      <th>mean</th>\n",
              "      <td>458.500000</td>\n",
              "      <td>53.060533</td>\n",
              "      <td>0.757869</td>\n",
              "      <td>0.448547</td>\n",
              "      <td>132.494580</td>\n",
              "      <td>199.879988</td>\n",
              "      <td>0.231888</td>\n",
              "      <td>0.355562</td>\n",
              "      <td>136.833748</td>\n",
              "      <td>0.397165</td>\n",
              "      <td>0.902828</td>\n",
              "      <td>0.312096</td>\n",
              "      <td>0.553377</td>\n",
              "    </tr>\n",
              "    <tr>\n",
              "      <th>std</th>\n",
              "      <td>265.148072</td>\n",
              "      <td>9.471423</td>\n",
              "      <td>0.428633</td>\n",
              "      <td>0.302641</td>\n",
              "      <td>18.370256</td>\n",
              "      <td>109.438021</td>\n",
              "      <td>0.433680</td>\n",
              "      <td>0.444691</td>\n",
              "      <td>25.492954</td>\n",
              "      <td>0.497133</td>\n",
              "      <td>1.079759</td>\n",
              "      <td>1.999111</td>\n",
              "      <td>0.497414</td>\n",
              "    </tr>\n",
              "    <tr>\n",
              "      <th>min</th>\n",
              "      <td>0.000000</td>\n",
              "      <td>31.000000</td>\n",
              "      <td>0.000000</td>\n",
              "      <td>0.000000</td>\n",
              "      <td>-0.086683</td>\n",
              "      <td>-0.410472</td>\n",
              "      <td>-0.326524</td>\n",
              "      <td>0.000000</td>\n",
              "      <td>59.877794</td>\n",
              "      <td>-0.287943</td>\n",
              "      <td>-2.557557</td>\n",
              "      <td>-40.000000</td>\n",
              "      <td>0.000000</td>\n",
              "    </tr>\n",
              "    <tr>\n",
              "      <th>25%</th>\n",
              "      <td>229.250000</td>\n",
              "      <td>46.000000</td>\n",
              "      <td>1.000000</td>\n",
              "      <td>0.000000</td>\n",
              "      <td>120.002061</td>\n",
              "      <td>174.905043</td>\n",
              "      <td>0.000000</td>\n",
              "      <td>0.000000</td>\n",
              "      <td>119.924836</td>\n",
              "      <td>0.000000</td>\n",
              "      <td>0.022781</td>\n",
              "      <td>0.000000</td>\n",
              "      <td>0.000000</td>\n",
              "    </tr>\n",
              "    <tr>\n",
              "      <th>50%</th>\n",
              "      <td>458.500000</td>\n",
              "      <td>54.000000</td>\n",
              "      <td>1.000000</td>\n",
              "      <td>0.500000</td>\n",
              "      <td>130.077703</td>\n",
              "      <td>222.930355</td>\n",
              "      <td>0.000000</td>\n",
              "      <td>0.000000</td>\n",
              "      <td>137.982217</td>\n",
              "      <td>0.000000</td>\n",
              "      <td>0.594403</td>\n",
              "      <td>0.000000</td>\n",
              "      <td>1.000000</td>\n",
              "    </tr>\n",
              "    <tr>\n",
              "      <th>75%</th>\n",
              "      <td>687.750000</td>\n",
              "      <td>60.000000</td>\n",
              "      <td>1.000000</td>\n",
              "      <td>0.500000</td>\n",
              "      <td>140.140184</td>\n",
              "      <td>268.028952</td>\n",
              "      <td>0.000000</td>\n",
              "      <td>0.750000</td>\n",
              "      <td>155.269524</td>\n",
              "      <td>1.000000</td>\n",
              "      <td>1.561761</td>\n",
              "      <td>0.750000</td>\n",
              "      <td>1.000000</td>\n",
              "    </tr>\n",
              "    <tr>\n",
              "      <th>max</th>\n",
              "      <td>917.000000</td>\n",
              "      <td>74.000000</td>\n",
              "      <td>1.000000</td>\n",
              "      <td>1.000000</td>\n",
              "      <td>200.119664</td>\n",
              "      <td>603.059150</td>\n",
              "      <td>1.264830</td>\n",
              "      <td>1.400000</td>\n",
              "      <td>201.818059</td>\n",
              "      <td>1.264830</td>\n",
              "      <td>6.207822</td>\n",
              "      <td>1.500000</td>\n",
              "      <td>1.000000</td>\n",
              "    </tr>\n",
              "  </tbody>\n",
              "</table>\n",
              "</div>\n",
              "      <button class=\"colab-df-convert\" onclick=\"convertToInteractive('df-e138fb4b-eab1-45fb-9fd7-8b99de38e669')\"\n",
              "              title=\"Convert this dataframe to an interactive table.\"\n",
              "              style=\"display:none;\">\n",
              "        \n",
              "  <svg xmlns=\"http://www.w3.org/2000/svg\" height=\"24px\"viewBox=\"0 0 24 24\"\n",
              "       width=\"24px\">\n",
              "    <path d=\"M0 0h24v24H0V0z\" fill=\"none\"/>\n",
              "    <path d=\"M18.56 5.44l.94 2.06.94-2.06 2.06-.94-2.06-.94-.94-2.06-.94 2.06-2.06.94zm-11 1L8.5 8.5l.94-2.06 2.06-.94-2.06-.94L8.5 2.5l-.94 2.06-2.06.94zm10 10l.94 2.06.94-2.06 2.06-.94-2.06-.94-.94-2.06-.94 2.06-2.06.94z\"/><path d=\"M17.41 7.96l-1.37-1.37c-.4-.4-.92-.59-1.43-.59-.52 0-1.04.2-1.43.59L10.3 9.45l-7.72 7.72c-.78.78-.78 2.05 0 2.83L4 21.41c.39.39.9.59 1.41.59.51 0 1.02-.2 1.41-.59l7.78-7.78 2.81-2.81c.8-.78.8-2.07 0-2.86zM5.41 20L4 18.59l7.72-7.72 1.47 1.35L5.41 20z\"/>\n",
              "  </svg>\n",
              "      </button>\n",
              "      \n",
              "  <style>\n",
              "    .colab-df-container {\n",
              "      display:flex;\n",
              "      flex-wrap:wrap;\n",
              "      gap: 12px;\n",
              "    }\n",
              "\n",
              "    .colab-df-convert {\n",
              "      background-color: #E8F0FE;\n",
              "      border: none;\n",
              "      border-radius: 50%;\n",
              "      cursor: pointer;\n",
              "      display: none;\n",
              "      fill: #1967D2;\n",
              "      height: 32px;\n",
              "      padding: 0 0 0 0;\n",
              "      width: 32px;\n",
              "    }\n",
              "\n",
              "    .colab-df-convert:hover {\n",
              "      background-color: #E2EBFA;\n",
              "      box-shadow: 0px 1px 2px rgba(60, 64, 67, 0.3), 0px 1px 3px 1px rgba(60, 64, 67, 0.15);\n",
              "      fill: #174EA6;\n",
              "    }\n",
              "\n",
              "    [theme=dark] .colab-df-convert {\n",
              "      background-color: #3B4455;\n",
              "      fill: #D2E3FC;\n",
              "    }\n",
              "\n",
              "    [theme=dark] .colab-df-convert:hover {\n",
              "      background-color: #434B5C;\n",
              "      box-shadow: 0px 1px 3px 1px rgba(0, 0, 0, 0.15);\n",
              "      filter: drop-shadow(0px 1px 2px rgba(0, 0, 0, 0.3));\n",
              "      fill: #FFFFFF;\n",
              "    }\n",
              "  </style>\n",
              "\n",
              "      <script>\n",
              "        const buttonEl =\n",
              "          document.querySelector('#df-e138fb4b-eab1-45fb-9fd7-8b99de38e669 button.colab-df-convert');\n",
              "        buttonEl.style.display =\n",
              "          google.colab.kernel.accessAllowed ? 'block' : 'none';\n",
              "\n",
              "        async function convertToInteractive(key) {\n",
              "          const element = document.querySelector('#df-e138fb4b-eab1-45fb-9fd7-8b99de38e669');\n",
              "          const dataTable =\n",
              "            await google.colab.kernel.invokeFunction('convertToInteractive',\n",
              "                                                     [key], {});\n",
              "          if (!dataTable) return;\n",
              "\n",
              "          const docLinkHtml = 'Like what you see? Visit the ' +\n",
              "            '<a target=\"_blank\" href=https://colab.research.google.com/notebooks/data_table.ipynb>data table notebook</a>'\n",
              "            + ' to learn more about interactive tables.';\n",
              "          element.innerHTML = '';\n",
              "          dataTable['output_type'] = 'display_data';\n",
              "          await google.colab.output.renderOutput(dataTable, element);\n",
              "          const docLink = document.createElement('div');\n",
              "          docLink.innerHTML = docLinkHtml;\n",
              "          element.appendChild(docLink);\n",
              "        }\n",
              "      </script>\n",
              "    </div>\n",
              "  </div>\n",
              "  "
            ]
          },
          "metadata": {},
          "execution_count": 558
        }
      ],
      "source": [
        "x_noisy.describe()"
      ]
    },
    {
      "cell_type": "code",
      "execution_count": null,
      "metadata": {
        "id": "BPypVON6fuAS"
      },
      "outputs": [],
      "source": [
        "# RestingBP"
      ]
    },
    {
      "cell_type": "code",
      "execution_count": null,
      "metadata": {
        "id": "XXs1sSUhfwAC",
        "colab": {
          "base_uri": "https://localhost:8080/",
          "height": 301
        },
        "outputId": "b2ec65f8-f9e2-4a54-a068-b03d92f5cf27"
      },
      "outputs": [
        {
          "output_type": "execute_result",
          "data": {
            "text/plain": [
              "<matplotlib.axes._subplots.AxesSubplot at 0x7f1deb534a50>"
            ]
          },
          "metadata": {},
          "execution_count": 560
        },
        {
          "output_type": "display_data",
          "data": {
            "text/plain": [
              "<Figure size 432x288 with 1 Axes>"
            ],
            "image/png": "[encoded data removed]"
          },
          "metadata": {
            "needs_background": "light"
          }
        }
      ],
      "source": [
        "sns.distplot(x_noisy['RestingBP'])"
      ]
    },
    {
      "cell_type": "code",
      "execution_count": null,
      "metadata": {
        "id": "r8IyIq3xfy72",
        "colab": {
          "base_uri": "https://localhost:8080/",
          "height": 297
        },
        "outputId": "30e2651e-f36f-4072-f79f-d6087c98046a"
      },
      "outputs": [
        {
          "output_type": "execute_result",
          "data": {
            "text/plain": [
              "<matplotlib.axes._subplots.AxesSubplot at 0x7f1deb43b750>"
            ]
          },
          "metadata": {},
          "execution_count": 561
        },
        {
          "output_type": "display_data",
          "data": {
            "text/plain": [
              "<Figure size 432x288 with 1 Axes>"
            ],
            "image/png": "[encoded data removed]"
          },
          "metadata": {
            "needs_background": "light"
          }
        }
      ],
      "source": [
        "sns.boxplot(x_noisy['RestingBP'])"
      ]
    },
    {
      "cell_type": "code",
      "execution_count": null,
      "metadata": {
        "id": "9HS15fG_f1gH"
      },
      "outputs": [],
      "source": [
        "upper_limit = x_noisy['RestingBP'].quantile(0.99)\n",
        "lower_limit = x_noisy['RestingBP'].quantile(0.01)"
      ]
    },
    {
      "cell_type": "code",
      "execution_count": null,
      "metadata": {
        "id": "MMgRtZ0Ff3U-",
        "colab": {
          "base_uri": "https://localhost:8080/"
        },
        "outputId": "7e08dfdb-9373-479e-ff82-069d81d8f633"
      },
      "outputs": [
        {
          "output_type": "execute_result",
          "data": {
            "text/plain": [
              "95.65066949915553"
            ]
          },
          "metadata": {},
          "execution_count": 563
        }
      ],
      "source": [
        "lower_limit"
      ]
    },
    {
      "cell_type": "code",
      "execution_count": null,
      "metadata": {
        "id": "03raDBJsf5gU",
        "colab": {
          "base_uri": "https://localhost:8080/"
        },
        "outputId": "048fdb37-e696-4658-ee31-f1b468509a0d"
      },
      "outputs": [
        {
          "output_type": "execute_result",
          "data": {
            "text/plain": [
              "180.00226638605966"
            ]
          },
          "metadata": {},
          "execution_count": 564
        }
      ],
      "source": [
        "upper_limit"
      ]
    },
    {
      "cell_type": "code",
      "execution_count": null,
      "metadata": {
        "id": "sinJssi9f7sb"
      },
      "outputs": [],
      "source": [
        "x_noisy['RestingBP'] = np.where(x_noisy['RestingBP'] >= upper_limit,\n",
        "        upper_limit,\n",
        "        np.where(x_noisy['RestingBP'] <= lower_limit,\n",
        "        lower_limit,\n",
        "        x_noisy['RestingBP']))"
      ]
    },
    {
      "cell_type": "code",
      "execution_count": null,
      "metadata": {
        "colab": {
          "base_uri": "https://localhost:8080/",
          "height": 297
        },
        "id": "ufFixvlnf-Kt",
        "outputId": "f1e08ec6-3a20-4f61-a3cd-ecb6a82a18fa"
      },
      "outputs": [
        {
          "output_type": "execute_result",
          "data": {
            "text/plain": [
              "<matplotlib.axes._subplots.AxesSubplot at 0x7f1deb422610>"
            ]
          },
          "metadata": {},
          "execution_count": 566
        },
        {
          "output_type": "display_data",
          "data": {
            "text/plain": [
              "<Figure size 432x288 with 1 Axes>"
            ],
            "image/png": "[encoded data removed]"
          },
          "metadata": {
            "needs_background": "light"
          }
        }
      ],
      "source": [
        "sns.distplot(x_noisy['RestingBP'])\n",
        "sns.boxplot(x_noisy['RestingBP'])"
      ]
    },
    {
      "cell_type": "code",
      "execution_count": null,
      "metadata": {
        "id": "sBfZn3M-gAzQ"
      },
      "outputs": [],
      "source": [
        "##### tha mporousa na to xanatrexw kialles fores wste na mn deixnei katholou outliers alla kai pali einai arketo "
      ]
    },
    {
      "cell_type": "code",
      "execution_count": null,
      "metadata": {
        "colab": {
          "base_uri": "https://localhost:8080/",
          "height": 297
        },
        "id": "SeZAEZmxgC3G",
        "outputId": "d0459a55-6562-4657-8fc9-715fddb6b871"
      },
      "outputs": [
        {
          "output_type": "execute_result",
          "data": {
            "text/plain": [
              "<matplotlib.axes._subplots.AxesSubplot at 0x7f1deb497390>"
            ]
          },
          "metadata": {},
          "execution_count": 568
        },
        {
          "output_type": "display_data",
          "data": {
            "text/plain": [
              "<Figure size 432x288 with 1 Axes>"
            ],
            "image/png": "[encoded data removed]"
          },
          "metadata": {
            "needs_background": "light"
          }
        }
      ],
      "source": [
        "sns.distplot(x_noisy['RestingBP'])"
      ]
    },
    {
      "cell_type": "code",
      "execution_count": null,
      "metadata": {
        "colab": {
          "base_uri": "https://localhost:8080/",
          "height": 364
        },
        "id": "reiZGP9BgFim",
        "outputId": "f2b680d1-fbc4-41aa-c591-667e345aaad0"
      },
      "outputs": [
        {
          "output_type": "execute_result",
          "data": {
            "text/plain": [
              "              _c0         Age         sex  ChestPainType   RestingBP  \\\n",
              "count  918.000000  826.000000  826.000000     826.000000  854.000000   \n",
              "mean   458.500000   53.060533    0.757869       0.448547  132.501474   \n",
              "std    265.148072    9.471423    0.428633       0.302641   17.469139   \n",
              "min      0.000000   31.000000    0.000000       0.000000   95.650669   \n",
              "25%    229.250000   46.000000    1.000000       0.000000  120.002061   \n",
              "50%    458.500000   54.000000    1.000000       0.500000  130.077703   \n",
              "75%    687.750000   60.000000    1.000000       0.500000  140.140184   \n",
              "max    917.000000   74.000000    1.000000       1.000000  180.002266   \n",
              "\n",
              "       Cholesterol   FastingBS  RestingECG       MaxHR  ExerciseAngina  \\\n",
              "count   826.000000  854.000000  854.000000  854.000000      826.000000   \n",
              "mean    199.879988    0.231888    0.355562  136.833748        0.397165   \n",
              "std     109.438021    0.433680    0.444691   25.492954        0.497133   \n",
              "min      -0.410472   -0.326524    0.000000   59.877794       -0.287943   \n",
              "25%     174.905043    0.000000    0.000000  119.924836        0.000000   \n",
              "50%     222.930355    0.000000    0.000000  137.982217        0.000000   \n",
              "75%     268.028952    0.000000    0.750000  155.269524        1.000000   \n",
              "max     603.059150    1.264830    1.400000  201.818059        1.264830   \n",
              "\n",
              "          Oldpeak    ST_Slope  HeartDisease  \n",
              "count  854.000000  854.000000    918.000000  \n",
              "mean     0.902828    0.312096      0.553377  \n",
              "std      1.079759    1.999111      0.497414  \n",
              "min     -2.557557  -40.000000      0.000000  \n",
              "25%      0.022781    0.000000      0.000000  \n",
              "50%      0.594403    0.000000      1.000000  \n",
              "75%      1.561761    0.750000      1.000000  \n",
              "max      6.207822    1.500000      1.000000  "
            ],
            "text/html": [
              "\n",
              "  <div id=\"df-6ddab5ba-7078-4cac-8456-e911cf23fc73\">\n",
              "    <div class=\"colab-df-container\">\n",
              "      <div>\n",
              "<style scoped>\n",
              "    .dataframe tbody tr th:only-of-type {\n",
              "        vertical-align: middle;\n",
              "    }\n",
              "\n",
              "    .dataframe tbody tr th {\n",
              "        vertical-align: top;\n",
              "    }\n",
              "\n",
              "    .dataframe thead th {\n",
              "        text-align: right;\n",
              "    }\n",
              "</style>\n",
              "<table border=\"1\" class=\"dataframe\">\n",
              "  <thead>\n",
              "    <tr style=\"text-align: right;\">\n",
              "      <th></th>\n",
              "      <th>_c0</th>\n",
              "      <th>Age</th>\n",
              "      <th>sex</th>\n",
              "      <th>ChestPainType</th>\n",
              "      <th>RestingBP</th>\n",
              "      <th>Cholesterol</th>\n",
              "      <th>FastingBS</th>\n",
              "      <th>RestingECG</th>\n",
              "      <th>MaxHR</th>\n",
              "      <th>ExerciseAngina</th>\n",
              "      <th>Oldpeak</th>\n",
              "      <th>ST_Slope</th>\n",
              "      <th>HeartDisease</th>\n",
              "    </tr>\n",
              "  </thead>\n",
              "  <tbody>\n",
              "    <tr>\n",
              "      <th>count</th>\n",
              "      <td>918.000000</td>\n",
              "      <td>826.000000</td>\n",
              "      <td>826.000000</td>\n",
              "      <td>826.000000</td>\n",
              "      <td>854.000000</td>\n",
              "      <td>826.000000</td>\n",
              "      <td>854.000000</td>\n",
              "      <td>854.000000</td>\n",
              "      <td>854.000000</td>\n",
              "      <td>826.000000</td>\n",
              "      <td>854.000000</td>\n",
              "      <td>854.000000</td>\n",
              "      <td>918.000000</td>\n",
              "    </tr>\n",
              "    <tr>\n",
              "      <th>mean</th>\n",
              "      <td>458.500000</td>\n",
              "      <td>53.060533</td>\n",
              "      <td>0.757869</td>\n",
              "      <td>0.448547</td>\n",
              "      <td>132.501474</td>\n",
              "      <td>199.879988</td>\n",
              "      <td>0.231888</td>\n",
              "      <td>0.355562</td>\n",
              "      <td>136.833748</td>\n",
              "      <td>0.397165</td>\n",
              "      <td>0.902828</td>\n",
              "      <td>0.312096</td>\n",
              "      <td>0.553377</td>\n",
              "    </tr>\n",
              "    <tr>\n",
              "      <th>std</th>\n",
              "      <td>265.148072</td>\n",
              "      <td>9.471423</td>\n",
              "      <td>0.428633</td>\n",
              "      <td>0.302641</td>\n",
              "      <td>17.469139</td>\n",
              "      <td>109.438021</td>\n",
              "      <td>0.433680</td>\n",
              "      <td>0.444691</td>\n",
              "      <td>25.492954</td>\n",
              "      <td>0.497133</td>\n",
              "      <td>1.079759</td>\n",
              "      <td>1.999111</td>\n",
              "      <td>0.497414</td>\n",
              "    </tr>\n",
              "    <tr>\n",
              "      <th>min</th>\n",
              "      <td>0.000000</td>\n",
              "      <td>31.000000</td>\n",
              "      <td>0.000000</td>\n",
              "      <td>0.000000</td>\n",
              "      <td>95.650669</td>\n",
              "      <td>-0.410472</td>\n",
              "      <td>-0.326524</td>\n",
              "      <td>0.000000</td>\n",
              "      <td>59.877794</td>\n",
              "      <td>-0.287943</td>\n",
              "      <td>-2.557557</td>\n",
              "      <td>-40.000000</td>\n",
              "      <td>0.000000</td>\n",
              "    </tr>\n",
              "    <tr>\n",
              "      <th>25%</th>\n",
              "      <td>229.250000</td>\n",
              "      <td>46.000000</td>\n",
              "      <td>1.000000</td>\n",
              "      <td>0.000000</td>\n",
              "      <td>120.002061</td>\n",
              "      <td>174.905043</td>\n",
              "      <td>0.000000</td>\n",
              "      <td>0.000000</td>\n",
              "      <td>119.924836</td>\n",
              "      <td>0.000000</td>\n",
              "      <td>0.022781</td>\n",
              "      <td>0.000000</td>\n",
              "      <td>0.000000</td>\n",
              "    </tr>\n",
              "    <tr>\n",
              "      <th>50%</th>\n",
              "      <td>458.500000</td>\n",
              "      <td>54.000000</td>\n",
              "      <td>1.000000</td>\n",
              "      <td>0.500000</td>\n",
              "      <td>130.077703</td>\n",
              "      <td>222.930355</td>\n",
              "      <td>0.000000</td>\n",
              "      <td>0.000000</td>\n",
              "      <td>137.982217</td>\n",
              "      <td>0.000000</td>\n",
              "      <td>0.594403</td>\n",
              "      <td>0.000000</td>\n",
              "      <td>1.000000</td>\n",
              "    </tr>\n",
              "    <tr>\n",
              "      <th>75%</th>\n",
              "      <td>687.750000</td>\n",
              "      <td>60.000000</td>\n",
              "      <td>1.000000</td>\n",
              "      <td>0.500000</td>\n",
              "      <td>140.140184</td>\n",
              "      <td>268.028952</td>\n",
              "      <td>0.000000</td>\n",
              "      <td>0.750000</td>\n",
              "      <td>155.269524</td>\n",
              "      <td>1.000000</td>\n",
              "      <td>1.561761</td>\n",
              "      <td>0.750000</td>\n",
              "      <td>1.000000</td>\n",
              "    </tr>\n",
              "    <tr>\n",
              "      <th>max</th>\n",
              "      <td>917.000000</td>\n",
              "      <td>74.000000</td>\n",
              "      <td>1.000000</td>\n",
              "      <td>1.000000</td>\n",
              "      <td>180.002266</td>\n",
              "      <td>603.059150</td>\n",
              "      <td>1.264830</td>\n",
              "      <td>1.400000</td>\n",
              "      <td>201.818059</td>\n",
              "      <td>1.264830</td>\n",
              "      <td>6.207822</td>\n",
              "      <td>1.500000</td>\n",
              "      <td>1.000000</td>\n",
              "    </tr>\n",
              "  </tbody>\n",
              "</table>\n",
              "</div>\n",
              "      <button class=\"colab-df-convert\" onclick=\"convertToInteractive('df-6ddab5ba-7078-4cac-8456-e911cf23fc73')\"\n",
              "              title=\"Convert this dataframe to an interactive table.\"\n",
              "              style=\"display:none;\">\n",
              "        \n",
              "  <svg xmlns=\"http://www.w3.org/2000/svg\" height=\"24px\"viewBox=\"0 0 24 24\"\n",
              "       width=\"24px\">\n",
              "    <path d=\"M0 0h24v24H0V0z\" fill=\"none\"/>\n",
              "    <path d=\"M18.56 5.44l.94 2.06.94-2.06 2.06-.94-2.06-.94-.94-2.06-.94 2.06-2.06.94zm-11 1L8.5 8.5l.94-2.06 2.06-.94-2.06-.94L8.5 2.5l-.94 2.06-2.06.94zm10 10l.94 2.06.94-2.06 2.06-.94-2.06-.94-.94-2.06-.94 2.06-2.06.94z\"/><path d=\"M17.41 7.96l-1.37-1.37c-.4-.4-.92-.59-1.43-.59-.52 0-1.04.2-1.43.59L10.3 9.45l-7.72 7.72c-.78.78-.78 2.05 0 2.83L4 21.41c.39.39.9.59 1.41.59.51 0 1.02-.2 1.41-.59l7.78-7.78 2.81-2.81c.8-.78.8-2.07 0-2.86zM5.41 20L4 18.59l7.72-7.72 1.47 1.35L5.41 20z\"/>\n",
              "  </svg>\n",
              "      </button>\n",
              "      \n",
              "  <style>\n",
              "    .colab-df-container {\n",
              "      display:flex;\n",
              "      flex-wrap:wrap;\n",
              "      gap: 12px;\n",
              "    }\n",
              "\n",
              "    .colab-df-convert {\n",
              "      background-color: #E8F0FE;\n",
              "      border: none;\n",
              "      border-radius: 50%;\n",
              "      cursor: pointer;\n",
              "      display: none;\n",
              "      fill: #1967D2;\n",
              "      height: 32px;\n",
              "      padding: 0 0 0 0;\n",
              "      width: 32px;\n",
              "    }\n",
              "\n",
              "    .colab-df-convert:hover {\n",
              "      background-color: #E2EBFA;\n",
              "      box-shadow: 0px 1px 2px rgba(60, 64, 67, 0.3), 0px 1px 3px 1px rgba(60, 64, 67, 0.15);\n",
              "      fill: #174EA6;\n",
              "    }\n",
              "\n",
              "    [theme=dark] .colab-df-convert {\n",
              "      background-color: #3B4455;\n",
              "      fill: #D2E3FC;\n",
              "    }\n",
              "\n",
              "    [theme=dark] .colab-df-convert:hover {\n",
              "      background-color: #434B5C;\n",
              "      box-shadow: 0px 1px 3px 1px rgba(0, 0, 0, 0.15);\n",
              "      filter: drop-shadow(0px 1px 2px rgba(0, 0, 0, 0.3));\n",
              "      fill: #FFFFFF;\n",
              "    }\n",
              "  </style>\n",
              "\n",
              "      <script>\n",
              "        const buttonEl =\n",
              "          document.querySelector('#df-6ddab5ba-7078-4cac-8456-e911cf23fc73 button.colab-df-convert');\n",
              "        buttonEl.style.display =\n",
              "          google.colab.kernel.accessAllowed ? 'block' : 'none';\n",
              "\n",
              "        async function convertToInteractive(key) {\n",
              "          const element = document.querySelector('#df-6ddab5ba-7078-4cac-8456-e911cf23fc73');\n",
              "          const dataTable =\n",
              "            await google.colab.kernel.invokeFunction('convertToInteractive',\n",
              "                                                     [key], {});\n",
              "          if (!dataTable) return;\n",
              "\n",
              "          const docLinkHtml = 'Like what you see? Visit the ' +\n",
              "            '<a target=\"_blank\" href=https://colab.research.google.com/notebooks/data_table.ipynb>data table notebook</a>'\n",
              "            + ' to learn more about interactive tables.';\n",
              "          element.innerHTML = '';\n",
              "          dataTable['output_type'] = 'display_data';\n",
              "          await google.colab.output.renderOutput(dataTable, element);\n",
              "          const docLink = document.createElement('div');\n",
              "          docLink.innerHTML = docLinkHtml;\n",
              "          element.appendChild(docLink);\n",
              "        }\n",
              "      </script>\n",
              "    </div>\n",
              "  </div>\n",
              "  "
            ]
          },
          "metadata": {},
          "execution_count": 569
        }
      ],
      "source": [
        "x_noisy.describe()"
      ]
    },
    {
      "cell_type": "code",
      "execution_count": null,
      "metadata": {
        "colab": {
          "base_uri": "https://localhost:8080/",
          "height": 297
        },
        "id": "rQVsrYcRgIaV",
        "outputId": "1fe0537c-2165-4f2c-f8b2-41d05bc5478a"
      },
      "outputs": [
        {
          "output_type": "execute_result",
          "data": {
            "text/plain": [
              "<matplotlib.axes._subplots.AxesSubplot at 0x7f1deb2bbf50>"
            ]
          },
          "metadata": {},
          "execution_count": 570
        },
        {
          "output_type": "display_data",
          "data": {
            "text/plain": [
              "<Figure size 432x288 with 1 Axes>"
            ],
            "image/png": "[encoded data removed]"
          },
          "metadata": {
            "needs_background": "light"
          }
        }
      ],
      "source": [
        "# Cholesterol\n",
        "\n",
        "sns.distplot(x_noisy['Cholesterol'])"
      ]
    },
    {
      "cell_type": "code",
      "execution_count": null,
      "metadata": {
        "colab": {
          "base_uri": "https://localhost:8080/",
          "height": 297
        },
        "id": "zqlpyAlygLEU",
        "outputId": "d98790ce-751b-4230-f807-0bc8c2ac4167"
      },
      "outputs": [
        {
          "output_type": "execute_result",
          "data": {
            "text/plain": [
              "<matplotlib.axes._subplots.AxesSubplot at 0x7f1deb1df7d0>"
            ]
          },
          "metadata": {},
          "execution_count": 571
        },
        {
          "output_type": "display_data",
          "data": {
            "text/plain": [
              "<Figure size 432x288 with 1 Axes>"
            ],
            "image/png": "[encoded data removed]"
          },
          "metadata": {
            "needs_background": "light"
          }
        }
      ],
      "source": [
        "sns.boxplot(x_noisy['Cholesterol'])"
      ]
    },
    {
      "cell_type": "code",
      "execution_count": null,
      "metadata": {
        "id": "sYjL2n3ugNQY"
      },
      "outputs": [],
      "source": [
        "upper_limit = x_noisy['Cholesterol'].quantile(0.99)\n",
        "lower_limit = x_noisy['Cholesterol'].quantile(0.10)"
      ]
    },
    {
      "cell_type": "code",
      "execution_count": null,
      "metadata": {
        "colab": {
          "base_uri": "https://localhost:8080/"
        },
        "id": "Ac0_FkfVgPdP",
        "outputId": "a10c5761-d450-4d7d-eb7e-0a4efe4fa8b6"
      },
      "outputs": [
        {
          "output_type": "execute_result",
          "data": {
            "text/plain": [
              "415.8748675430006"
            ]
          },
          "metadata": {},
          "execution_count": 573
        }
      ],
      "source": [
        "upper_limit"
      ]
    },
    {
      "cell_type": "code",
      "execution_count": null,
      "metadata": {
        "colab": {
          "base_uri": "https://localhost:8080/"
        },
        "id": "HJKQjui-gRoh",
        "outputId": "1c56fee6-f61d-4d4d-a5ab-997c787c5b0a"
      },
      "outputs": [
        {
          "output_type": "execute_result",
          "data": {
            "text/plain": [
              "0.007346373249550592"
            ]
          },
          "metadata": {},
          "execution_count": 574
        }
      ],
      "source": [
        "lower_limit"
      ]
    },
    {
      "cell_type": "code",
      "execution_count": null,
      "metadata": {
        "id": "oh75yOY5gUfI"
      },
      "outputs": [],
      "source": [
        "x_noisy['Cholesterol'] = np.where(x_noisy['Cholesterol'] >= upper_limit,\n",
        "        upper_limit,\n",
        "        np.where(x_noisy['Cholesterol'] <= lower_limit,\n",
        "        lower_limit,\n",
        "        x_noisy['Cholesterol']))"
      ]
    },
    {
      "cell_type": "code",
      "execution_count": null,
      "metadata": {
        "colab": {
          "base_uri": "https://localhost:8080/",
          "height": 297
        },
        "id": "rVlyEUCXgW5L",
        "outputId": "b1862c00-aa74-4b18-d5bb-f5753258ca52"
      },
      "outputs": [
        {
          "output_type": "execute_result",
          "data": {
            "text/plain": [
              "<matplotlib.axes._subplots.AxesSubplot at 0x7f1deb1284d0>"
            ]
          },
          "metadata": {},
          "execution_count": 576
        },
        {
          "output_type": "display_data",
          "data": {
            "text/plain": [
              "<Figure size 432x288 with 1 Axes>"
            ],
            "image/png": "[encoded data removed]"
          },
          "metadata": {
            "needs_background": "light"
          }
        }
      ],
      "source": [
        "sns.distplot(x_noisy['Cholesterol'])\n",
        "sns.boxplot(x_noisy['Cholesterol'])"
      ]
    },
    {
      "cell_type": "code",
      "execution_count": null,
      "metadata": {
        "colab": {
          "base_uri": "https://localhost:8080/",
          "height": 297
        },
        "id": "ivQzTKxhgZO1",
        "outputId": "cb91a5f4-c2ce-4f52-a20c-c4a0bc846226"
      },
      "outputs": [
        {
          "output_type": "execute_result",
          "data": {
            "text/plain": [
              "<matplotlib.axes._subplots.AxesSubplot at 0x7f1deb0f3850>"
            ]
          },
          "metadata": {},
          "execution_count": 577
        },
        {
          "output_type": "display_data",
          "data": {
            "text/plain": [
              "<Figure size 432x288 with 1 Axes>"
            ],
            "image/png": "[encoded data removed]"
          },
          "metadata": {
            "needs_background": "light"
          }
        }
      ],
      "source": [
        "sns.distplot(x_noisy['Cholesterol'])"
      ]
    },
    {
      "cell_type": "code",
      "execution_count": null,
      "metadata": {
        "colab": {
          "base_uri": "https://localhost:8080/"
        },
        "id": "wgWqKdJegbrX",
        "outputId": "79dd9641-632d-4a28-fabe-951442a81540"
      },
      "outputs": [
        {
          "output_type": "execute_result",
          "data": {
            "text/plain": [
              "Cholesterol\n",
              "0.007346      83\n",
              "0.007689       1\n",
              "0.007944       1\n",
              "0.008885       1\n",
              "0.011309       1\n",
              "              ..\n",
              "403.980347     1\n",
              "407.008257     1\n",
              "408.889861     1\n",
              "412.003649     1\n",
              "415.874868     9\n",
              "Length: 736, dtype: int64"
            ]
          },
          "metadata": {},
          "execution_count": 578
        }
      ],
      "source": [
        "x_noisy.groupby(['Cholesterol']).size()"
      ]
    },
    {
      "cell_type": "code",
      "execution_count": null,
      "metadata": {
        "colab": {
          "base_uri": "https://localhost:8080/",
          "height": 364
        },
        "id": "TNqlyhY2geUD",
        "outputId": "eb891777-5c89-40b6-b411-6d381e586a92"
      },
      "outputs": [
        {
          "output_type": "execute_result",
          "data": {
            "text/plain": [
              "              _c0         Age         sex  ChestPainType   RestingBP  \\\n",
              "count  918.000000  826.000000  826.000000     826.000000  854.000000   \n",
              "mean   458.500000   53.060533    0.757869       0.448547  132.501474   \n",
              "std    265.148072    9.471423    0.428633       0.302641   17.469139   \n",
              "min      0.000000   31.000000    0.000000       0.000000   95.650669   \n",
              "25%    229.250000   46.000000    1.000000       0.000000  120.002061   \n",
              "50%    458.500000   54.000000    1.000000       0.500000  130.077703   \n",
              "75%    687.750000   60.000000    1.000000       0.500000  140.140184   \n",
              "max    917.000000   74.000000    1.000000       1.000000  180.002266   \n",
              "\n",
              "       Cholesterol   FastingBS  RestingECG       MaxHR  ExerciseAngina  \\\n",
              "count   826.000000  854.000000  854.000000  854.000000      826.000000   \n",
              "mean    198.954924    0.231888    0.355562  136.833748        0.397165   \n",
              "std     107.032165    0.433680    0.444691   25.492954        0.497133   \n",
              "min       0.007346   -0.326524    0.000000   59.877794       -0.287943   \n",
              "25%     174.905043    0.000000    0.000000  119.924836        0.000000   \n",
              "50%     222.930355    0.000000    0.000000  137.982217        0.000000   \n",
              "75%     268.028952    0.000000    0.750000  155.269524        1.000000   \n",
              "max     415.874868    1.264830    1.400000  201.818059        1.264830   \n",
              "\n",
              "          Oldpeak    ST_Slope  HeartDisease  \n",
              "count  854.000000  854.000000    918.000000  \n",
              "mean     0.902828    0.312096      0.553377  \n",
              "std      1.079759    1.999111      0.497414  \n",
              "min     -2.557557  -40.000000      0.000000  \n",
              "25%      0.022781    0.000000      0.000000  \n",
              "50%      0.594403    0.000000      1.000000  \n",
              "75%      1.561761    0.750000      1.000000  \n",
              "max      6.207822    1.500000      1.000000  "
            ],
            "text/html": [
              "\n",
              "  <div id=\"df-fae1bd60-2bdf-4b41-99c0-0774655efcc2\">\n",
              "    <div class=\"colab-df-container\">\n",
              "      <div>\n",
              "<style scoped>\n",
              "    .dataframe tbody tr th:only-of-type {\n",
              "        vertical-align: middle;\n",
              "    }\n",
              "\n",
              "    .dataframe tbody tr th {\n",
              "        vertical-align: top;\n",
              "    }\n",
              "\n",
              "    .dataframe thead th {\n",
              "        text-align: right;\n",
              "    }\n",
              "</style>\n",
              "<table border=\"1\" class=\"dataframe\">\n",
              "  <thead>\n",
              "    <tr style=\"text-align: right;\">\n",
              "      <th></th>\n",
              "      <th>_c0</th>\n",
              "      <th>Age</th>\n",
              "      <th>sex</th>\n",
              "      <th>ChestPainType</th>\n",
              "      <th>RestingBP</th>\n",
              "      <th>Cholesterol</th>\n",
              "      <th>FastingBS</th>\n",
              "      <th>RestingECG</th>\n",
              "      <th>MaxHR</th>\n",
              "      <th>ExerciseAngina</th>\n",
              "      <th>Oldpeak</th>\n",
              "      <th>ST_Slope</th>\n",
              "      <th>HeartDisease</th>\n",
              "    </tr>\n",
              "  </thead>\n",
              "  <tbody>\n",
              "    <tr>\n",
              "      <th>count</th>\n",
              "      <td>918.000000</td>\n",
              "      <td>826.000000</td>\n",
              "      <td>826.000000</td>\n",
              "      <td>826.000000</td>\n",
              "      <td>854.000000</td>\n",
              "      <td>826.000000</td>\n",
              "      <td>854.000000</td>\n",
              "      <td>854.000000</td>\n",
              "      <td>854.000000</td>\n",
              "      <td>826.000000</td>\n",
              "      <td>854.000000</td>\n",
              "      <td>854.000000</td>\n",
              "      <td>918.000000</td>\n",
              "    </tr>\n",
              "    <tr>\n",
              "      <th>mean</th>\n",
              "      <td>458.500000</td>\n",
              "      <td>53.060533</td>\n",
              "      <td>0.757869</td>\n",
              "      <td>0.448547</td>\n",
              "      <td>132.501474</td>\n",
              "      <td>198.954924</td>\n",
              "      <td>0.231888</td>\n",
              "      <td>0.355562</td>\n",
              "      <td>136.833748</td>\n",
              "      <td>0.397165</td>\n",
              "      <td>0.902828</td>\n",
              "      <td>0.312096</td>\n",
              "      <td>0.553377</td>\n",
              "    </tr>\n",
              "    <tr>\n",
              "      <th>std</th>\n",
              "      <td>265.148072</td>\n",
              "      <td>9.471423</td>\n",
              "      <td>0.428633</td>\n",
              "      <td>0.302641</td>\n",
              "      <td>17.469139</td>\n",
              "      <td>107.032165</td>\n",
              "      <td>0.433680</td>\n",
              "      <td>0.444691</td>\n",
              "      <td>25.492954</td>\n",
              "      <td>0.497133</td>\n",
              "      <td>1.079759</td>\n",
              "      <td>1.999111</td>\n",
              "      <td>0.497414</td>\n",
              "    </tr>\n",
              "    <tr>\n",
              "      <th>min</th>\n",
              "      <td>0.000000</td>\n",
              "      <td>31.000000</td>\n",
              "      <td>0.000000</td>\n",
              "      <td>0.000000</td>\n",
              "      <td>95.650669</td>\n",
              "      <td>0.007346</td>\n",
              "      <td>-0.326524</td>\n",
              "      <td>0.000000</td>\n",
              "      <td>59.877794</td>\n",
              "      <td>-0.287943</td>\n",
              "      <td>-2.557557</td>\n",
              "      <td>-40.000000</td>\n",
              "      <td>0.000000</td>\n",
              "    </tr>\n",
              "    <tr>\n",
              "      <th>25%</th>\n",
              "      <td>229.250000</td>\n",
              "      <td>46.000000</td>\n",
              "      <td>1.000000</td>\n",
              "      <td>0.000000</td>\n",
              "      <td>120.002061</td>\n",
              "      <td>174.905043</td>\n",
              "      <td>0.000000</td>\n",
              "      <td>0.000000</td>\n",
              "      <td>119.924836</td>\n",
              "      <td>0.000000</td>\n",
              "      <td>0.022781</td>\n",
              "      <td>0.000000</td>\n",
              "      <td>0.000000</td>\n",
              "    </tr>\n",
              "    <tr>\n",
              "      <th>50%</th>\n",
              "      <td>458.500000</td>\n",
              "      <td>54.000000</td>\n",
              "      <td>1.000000</td>\n",
              "      <td>0.500000</td>\n",
              "      <td>130.077703</td>\n",
              "      <td>222.930355</td>\n",
              "      <td>0.000000</td>\n",
              "      <td>0.000000</td>\n",
              "      <td>137.982217</td>\n",
              "      <td>0.000000</td>\n",
              "      <td>0.594403</td>\n",
              "      <td>0.000000</td>\n",
              "      <td>1.000000</td>\n",
              "    </tr>\n",
              "    <tr>\n",
              "      <th>75%</th>\n",
              "      <td>687.750000</td>\n",
              "      <td>60.000000</td>\n",
              "      <td>1.000000</td>\n",
              "      <td>0.500000</td>\n",
              "      <td>140.140184</td>\n",
              "      <td>268.028952</td>\n",
              "      <td>0.000000</td>\n",
              "      <td>0.750000</td>\n",
              "      <td>155.269524</td>\n",
              "      <td>1.000000</td>\n",
              "      <td>1.561761</td>\n",
              "      <td>0.750000</td>\n",
              "      <td>1.000000</td>\n",
              "    </tr>\n",
              "    <tr>\n",
              "      <th>max</th>\n",
              "      <td>917.000000</td>\n",
              "      <td>74.000000</td>\n",
              "      <td>1.000000</td>\n",
              "      <td>1.000000</td>\n",
              "      <td>180.002266</td>\n",
              "      <td>415.874868</td>\n",
              "      <td>1.264830</td>\n",
              "      <td>1.400000</td>\n",
              "      <td>201.818059</td>\n",
              "      <td>1.264830</td>\n",
              "      <td>6.207822</td>\n",
              "      <td>1.500000</td>\n",
              "      <td>1.000000</td>\n",
              "    </tr>\n",
              "  </tbody>\n",
              "</table>\n",
              "</div>\n",
              "      <button class=\"colab-df-convert\" onclick=\"convertToInteractive('df-fae1bd60-2bdf-4b41-99c0-0774655efcc2')\"\n",
              "              title=\"Convert this dataframe to an interactive table.\"\n",
              "              style=\"display:none;\">\n",
              "        \n",
              "  <svg xmlns=\"http://www.w3.org/2000/svg\" height=\"24px\"viewBox=\"0 0 24 24\"\n",
              "       width=\"24px\">\n",
              "    <path d=\"M0 0h24v24H0V0z\" fill=\"none\"/>\n",
              "    <path d=\"M18.56 5.44l.94 2.06.94-2.06 2.06-.94-2.06-.94-.94-2.06-.94 2.06-2.06.94zm-11 1L8.5 8.5l.94-2.06 2.06-.94-2.06-.94L8.5 2.5l-.94 2.06-2.06.94zm10 10l.94 2.06.94-2.06 2.06-.94-2.06-.94-.94-2.06-.94 2.06-2.06.94z\"/><path d=\"M17.41 7.96l-1.37-1.37c-.4-.4-.92-.59-1.43-.59-.52 0-1.04.2-1.43.59L10.3 9.45l-7.72 7.72c-.78.78-.78 2.05 0 2.83L4 21.41c.39.39.9.59 1.41.59.51 0 1.02-.2 1.41-.59l7.78-7.78 2.81-2.81c.8-.78.8-2.07 0-2.86zM5.41 20L4 18.59l7.72-7.72 1.47 1.35L5.41 20z\"/>\n",
              "  </svg>\n",
              "      </button>\n",
              "      \n",
              "  <style>\n",
              "    .colab-df-container {\n",
              "      display:flex;\n",
              "      flex-wrap:wrap;\n",
              "      gap: 12px;\n",
              "    }\n",
              "\n",
              "    .colab-df-convert {\n",
              "      background-color: #E8F0FE;\n",
              "      border: none;\n",
              "      border-radius: 50%;\n",
              "      cursor: pointer;\n",
              "      display: none;\n",
              "      fill: #1967D2;\n",
              "      height: 32px;\n",
              "      padding: 0 0 0 0;\n",
              "      width: 32px;\n",
              "    }\n",
              "\n",
              "    .colab-df-convert:hover {\n",
              "      background-color: #E2EBFA;\n",
              "      box-shadow: 0px 1px 2px rgba(60, 64, 67, 0.3), 0px 1px 3px 1px rgba(60, 64, 67, 0.15);\n",
              "      fill: #174EA6;\n",
              "    }\n",
              "\n",
              "    [theme=dark] .colab-df-convert {\n",
              "      background-color: #3B4455;\n",
              "      fill: #D2E3FC;\n",
              "    }\n",
              "\n",
              "    [theme=dark] .colab-df-convert:hover {\n",
              "      background-color: #434B5C;\n",
              "      box-shadow: 0px 1px 3px 1px rgba(0, 0, 0, 0.15);\n",
              "      filter: drop-shadow(0px 1px 2px rgba(0, 0, 0, 0.3));\n",
              "      fill: #FFFFFF;\n",
              "    }\n",
              "  </style>\n",
              "\n",
              "      <script>\n",
              "        const buttonEl =\n",
              "          document.querySelector('#df-fae1bd60-2bdf-4b41-99c0-0774655efcc2 button.colab-df-convert');\n",
              "        buttonEl.style.display =\n",
              "          google.colab.kernel.accessAllowed ? 'block' : 'none';\n",
              "\n",
              "        async function convertToInteractive(key) {\n",
              "          const element = document.querySelector('#df-fae1bd60-2bdf-4b41-99c0-0774655efcc2');\n",
              "          const dataTable =\n",
              "            await google.colab.kernel.invokeFunction('convertToInteractive',\n",
              "                                                     [key], {});\n",
              "          if (!dataTable) return;\n",
              "\n",
              "          const docLinkHtml = 'Like what you see? Visit the ' +\n",
              "            '<a target=\"_blank\" href=https://colab.research.google.com/notebooks/data_table.ipynb>data table notebook</a>'\n",
              "            + ' to learn more about interactive tables.';\n",
              "          element.innerHTML = '';\n",
              "          dataTable['output_type'] = 'display_data';\n",
              "          await google.colab.output.renderOutput(dataTable, element);\n",
              "          const docLink = document.createElement('div');\n",
              "          docLink.innerHTML = docLinkHtml;\n",
              "          element.appendChild(docLink);\n",
              "        }\n",
              "      </script>\n",
              "    </div>\n",
              "  </div>\n",
              "  "
            ]
          },
          "metadata": {},
          "execution_count": 579
        }
      ],
      "source": [
        "x_noisy.describe()"
      ]
    },
    {
      "cell_type": "code",
      "execution_count": null,
      "metadata": {
        "colab": {
          "base_uri": "https://localhost:8080/",
          "height": 297
        },
        "id": "o4iL9pkVggtc",
        "outputId": "6251ba06-8b25-4fb8-baa5-792769033f7f"
      },
      "outputs": [
        {
          "output_type": "execute_result",
          "data": {
            "text/plain": [
              "<matplotlib.axes._subplots.AxesSubplot at 0x7f1deafe4e10>"
            ]
          },
          "metadata": {},
          "execution_count": 580
        },
        {
          "output_type": "display_data",
          "data": {
            "text/plain": [
              "<Figure size 432x288 with 1 Axes>"
            ],
            "image/png": "[encoded data removed]"
          },
          "metadata": {
            "needs_background": "light"
          }
        }
      ],
      "source": [
        "## FastingBS\n",
        "\n",
        "sns.distplot(x_noisy['FastingBS'])"
      ]
    },
    {
      "cell_type": "code",
      "execution_count": null,
      "metadata": {
        "colab": {
          "base_uri": "https://localhost:8080/",
          "height": 297
        },
        "id": "GilbYJrMgmIZ",
        "outputId": "5ccd7fc6-79cf-4e93-a7b8-a3544d8571f6"
      },
      "outputs": [
        {
          "output_type": "execute_result",
          "data": {
            "text/plain": [
              "<matplotlib.axes._subplots.AxesSubplot at 0x7f1deaf02950>"
            ]
          },
          "metadata": {},
          "execution_count": 581
        },
        {
          "output_type": "display_data",
          "data": {
            "text/plain": [
              "<Figure size 432x288 with 1 Axes>"
            ],
            "image/png": "[encoded data removed]"
          },
          "metadata": {
            "needs_background": "light"
          }
        }
      ],
      "source": [
        "sns.boxplot(x_noisy['FastingBS'])"
      ]
    },
    {
      "cell_type": "code",
      "execution_count": null,
      "metadata": {
        "id": "Yf2gKslsgofQ"
      },
      "outputs": [],
      "source": [
        "upper_limit = x_noisy['FastingBS'].quantile(0.90)\n",
        "lower_limit = x_noisy['FastingBS'].quantile(0.10)"
      ]
    },
    {
      "cell_type": "code",
      "execution_count": null,
      "metadata": {
        "colab": {
          "base_uri": "https://localhost:8080/"
        },
        "id": "4xY3GUDCgqWy",
        "outputId": "85c3d0ef-4e4d-4973-d226-42900aedd7b7"
      },
      "outputs": [
        {
          "output_type": "execute_result",
          "data": {
            "text/plain": [
              "0.0"
            ]
          },
          "metadata": {},
          "execution_count": 583
        }
      ],
      "source": [
        "lower_limit"
      ]
    },
    {
      "cell_type": "code",
      "execution_count": null,
      "metadata": {
        "colab": {
          "base_uri": "https://localhost:8080/"
        },
        "id": "-ij1qrIpgsUy",
        "outputId": "3a93e8c1-425f-4042-f3b2-5d39c62bd786"
      },
      "outputs": [
        {
          "output_type": "execute_result",
          "data": {
            "text/plain": [
              "1.0"
            ]
          },
          "metadata": {},
          "execution_count": 584
        }
      ],
      "source": [
        "upper_limit"
      ]
    },
    {
      "cell_type": "code",
      "execution_count": null,
      "metadata": {
        "id": "hO7uME5vgu1Z"
      },
      "outputs": [],
      "source": [
        "x_noisy['FastingBS'] = np.where(x_noisy['FastingBS'] >= upper_limit,\n",
        "        upper_limit,\n",
        "        np.where(x_noisy['FastingBS'] <= lower_limit,\n",
        "        lower_limit,\n",
        "        x_noisy['FastingBS']))"
      ]
    },
    {
      "cell_type": "code",
      "execution_count": null,
      "metadata": {
        "colab": {
          "base_uri": "https://localhost:8080/",
          "height": 297
        },
        "id": "e9dvMVpUgxTs",
        "outputId": "10584dfc-65e1-4f64-a76d-7a3002bbdce9"
      },
      "outputs": [
        {
          "output_type": "execute_result",
          "data": {
            "text/plain": [
              "<matplotlib.axes._subplots.AxesSubplot at 0x7f1deaede2d0>"
            ]
          },
          "metadata": {},
          "execution_count": 586
        },
        {
          "output_type": "display_data",
          "data": {
            "text/plain": [
              "<Figure size 432x288 with 1 Axes>"
            ],
            "image/png": "[encoded data removed]"
          },
          "metadata": {
            "needs_background": "light"
          }
        }
      ],
      "source": [
        "#sns.distplot(x_noisy['FastingBS'])\n",
        "sns.boxplot(x_noisy['FastingBS'])"
      ]
    },
    {
      "cell_type": "code",
      "execution_count": null,
      "metadata": {
        "colab": {
          "base_uri": "https://localhost:8080/",
          "height": 297
        },
        "id": "a4ViaD8mgzdx",
        "outputId": "7d5f26ad-8379-4191-cbd0-0eb9b8040f92"
      },
      "outputs": [
        {
          "output_type": "execute_result",
          "data": {
            "text/plain": [
              "<matplotlib.axes._subplots.AxesSubplot at 0x7f1deba13a90>"
            ]
          },
          "metadata": {},
          "execution_count": 587
        },
        {
          "output_type": "display_data",
          "data": {
            "text/plain": [
              "<Figure size 432x288 with 1 Axes>"
            ],
            "image/png": "[encoded data removed]"
          },
          "metadata": {
            "needs_background": "light"
          }
        }
      ],
      "source": [
        "sns.distplot(x_noisy['FastingBS'])"
      ]
    },
    {
      "cell_type": "code",
      "execution_count": null,
      "metadata": {
        "colab": {
          "base_uri": "https://localhost:8080/",
          "height": 364
        },
        "id": "iqQFy_Hpg7tC",
        "outputId": "5da9eee6-62c1-48af-84ad-befb4741de82"
      },
      "outputs": [
        {
          "output_type": "execute_result",
          "data": {
            "text/plain": [
              "              _c0         Age         sex  ChestPainType   RestingBP  \\\n",
              "count  918.000000  826.000000  826.000000     826.000000  854.000000   \n",
              "mean   458.500000   53.060533    0.757869       0.448547  132.501474   \n",
              "std    265.148072    9.471423    0.428633       0.302641   17.469139   \n",
              "min      0.000000   31.000000    0.000000       0.000000   95.650669   \n",
              "25%    229.250000   46.000000    1.000000       0.000000  120.002061   \n",
              "50%    458.500000   54.000000    1.000000       0.500000  130.077703   \n",
              "75%    687.750000   60.000000    1.000000       0.500000  140.140184   \n",
              "max    917.000000   74.000000    1.000000       1.000000  180.002266   \n",
              "\n",
              "       Cholesterol   FastingBS  RestingECG       MaxHR  ExerciseAngina  \\\n",
              "count   826.000000  854.000000  854.000000  854.000000      826.000000   \n",
              "mean    198.954924    0.235363    0.355562  136.833748        0.397165   \n",
              "std     107.032165    0.424474    0.444691   25.492954        0.497133   \n",
              "min       0.007346    0.000000    0.000000   59.877794       -0.287943   \n",
              "25%     174.905043    0.000000    0.000000  119.924836        0.000000   \n",
              "50%     222.930355    0.000000    0.000000  137.982217        0.000000   \n",
              "75%     268.028952    0.000000    0.750000  155.269524        1.000000   \n",
              "max     415.874868    1.000000    1.400000  201.818059        1.264830   \n",
              "\n",
              "          Oldpeak    ST_Slope  HeartDisease  \n",
              "count  854.000000  854.000000    918.000000  \n",
              "mean     0.902828    0.312096      0.553377  \n",
              "std      1.079759    1.999111      0.497414  \n",
              "min     -2.557557  -40.000000      0.000000  \n",
              "25%      0.022781    0.000000      0.000000  \n",
              "50%      0.594403    0.000000      1.000000  \n",
              "75%      1.561761    0.750000      1.000000  \n",
              "max      6.207822    1.500000      1.000000  "
            ],
            "text/html": [
              "\n",
              "  <div id=\"df-af3dd21e-b908-4024-8e1e-9591e00c1804\">\n",
              "    <div class=\"colab-df-container\">\n",
              "      <div>\n",
              "<style scoped>\n",
              "    .dataframe tbody tr th:only-of-type {\n",
              "        vertical-align: middle;\n",
              "    }\n",
              "\n",
              "    .dataframe tbody tr th {\n",
              "        vertical-align: top;\n",
              "    }\n",
              "\n",
              "    .dataframe thead th {\n",
              "        text-align: right;\n",
              "    }\n",
              "</style>\n",
              "<table border=\"1\" class=\"dataframe\">\n",
              "  <thead>\n",
              "    <tr style=\"text-align: right;\">\n",
              "      <th></th>\n",
              "      <th>_c0</th>\n",
              "      <th>Age</th>\n",
              "      <th>sex</th>\n",
              "      <th>ChestPainType</th>\n",
              "      <th>RestingBP</th>\n",
              "      <th>Cholesterol</th>\n",
              "      <th>FastingBS</th>\n",
              "      <th>RestingECG</th>\n",
              "      <th>MaxHR</th>\n",
              "      <th>ExerciseAngina</th>\n",
              "      <th>Oldpeak</th>\n",
              "      <th>ST_Slope</th>\n",
              "      <th>HeartDisease</th>\n",
              "    </tr>\n",
              "  </thead>\n",
              "  <tbody>\n",
              "    <tr>\n",
              "      <th>count</th>\n",
              "      <td>918.000000</td>\n",
              "      <td>826.000000</td>\n",
              "      <td>826.000000</td>\n",
              "      <td>826.000000</td>\n",
              "      <td>854.000000</td>\n",
              "      <td>826.000000</td>\n",
              "      <td>854.000000</td>\n",
              "      <td>854.000000</td>\n",
              "      <td>854.000000</td>\n",
              "      <td>826.000000</td>\n",
              "      <td>854.000000</td>\n",
              "      <td>854.000000</td>\n",
              "      <td>918.000000</td>\n",
              "    </tr>\n",
              "    <tr>\n",
              "      <th>mean</th>\n",
              "      <td>458.500000</td>\n",
              "      <td>53.060533</td>\n",
              "      <td>0.757869</td>\n",
              "      <td>0.448547</td>\n",
              "      <td>132.501474</td>\n",
              "      <td>198.954924</td>\n",
              "      <td>0.235363</td>\n",
              "      <td>0.355562</td>\n",
              "      <td>136.833748</td>\n",
              "      <td>0.397165</td>\n",
              "      <td>0.902828</td>\n",
              "      <td>0.312096</td>\n",
              "      <td>0.553377</td>\n",
              "    </tr>\n",
              "    <tr>\n",
              "      <th>std</th>\n",
              "      <td>265.148072</td>\n",
              "      <td>9.471423</td>\n",
              "      <td>0.428633</td>\n",
              "      <td>0.302641</td>\n",
              "      <td>17.469139</td>\n",
              "      <td>107.032165</td>\n",
              "      <td>0.424474</td>\n",
              "      <td>0.444691</td>\n",
              "      <td>25.492954</td>\n",
              "      <td>0.497133</td>\n",
              "      <td>1.079759</td>\n",
              "      <td>1.999111</td>\n",
              "      <td>0.497414</td>\n",
              "    </tr>\n",
              "    <tr>\n",
              "      <th>min</th>\n",
              "      <td>0.000000</td>\n",
              "      <td>31.000000</td>\n",
              "      <td>0.000000</td>\n",
              "      <td>0.000000</td>\n",
              "      <td>95.650669</td>\n",
              "      <td>0.007346</td>\n",
              "      <td>0.000000</td>\n",
              "      <td>0.000000</td>\n",
              "      <td>59.877794</td>\n",
              "      <td>-0.287943</td>\n",
              "      <td>-2.557557</td>\n",
              "      <td>-40.000000</td>\n",
              "      <td>0.000000</td>\n",
              "    </tr>\n",
              "    <tr>\n",
              "      <th>25%</th>\n",
              "      <td>229.250000</td>\n",
              "      <td>46.000000</td>\n",
              "      <td>1.000000</td>\n",
              "      <td>0.000000</td>\n",
              "      <td>120.002061</td>\n",
              "      <td>174.905043</td>\n",
              "      <td>0.000000</td>\n",
              "      <td>0.000000</td>\n",
              "      <td>119.924836</td>\n",
              "      <td>0.000000</td>\n",
              "      <td>0.022781</td>\n",
              "      <td>0.000000</td>\n",
              "      <td>0.000000</td>\n",
              "    </tr>\n",
              "    <tr>\n",
              "      <th>50%</th>\n",
              "      <td>458.500000</td>\n",
              "      <td>54.000000</td>\n",
              "      <td>1.000000</td>\n",
              "      <td>0.500000</td>\n",
              "      <td>130.077703</td>\n",
              "      <td>222.930355</td>\n",
              "      <td>0.000000</td>\n",
              "      <td>0.000000</td>\n",
              "      <td>137.982217</td>\n",
              "      <td>0.000000</td>\n",
              "      <td>0.594403</td>\n",
              "      <td>0.000000</td>\n",
              "      <td>1.000000</td>\n",
              "    </tr>\n",
              "    <tr>\n",
              "      <th>75%</th>\n",
              "      <td>687.750000</td>\n",
              "      <td>60.000000</td>\n",
              "      <td>1.000000</td>\n",
              "      <td>0.500000</td>\n",
              "      <td>140.140184</td>\n",
              "      <td>268.028952</td>\n",
              "      <td>0.000000</td>\n",
              "      <td>0.750000</td>\n",
              "      <td>155.269524</td>\n",
              "      <td>1.000000</td>\n",
              "      <td>1.561761</td>\n",
              "      <td>0.750000</td>\n",
              "      <td>1.000000</td>\n",
              "    </tr>\n",
              "    <tr>\n",
              "      <th>max</th>\n",
              "      <td>917.000000</td>\n",
              "      <td>74.000000</td>\n",
              "      <td>1.000000</td>\n",
              "      <td>1.000000</td>\n",
              "      <td>180.002266</td>\n",
              "      <td>415.874868</td>\n",
              "      <td>1.000000</td>\n",
              "      <td>1.400000</td>\n",
              "      <td>201.818059</td>\n",
              "      <td>1.264830</td>\n",
              "      <td>6.207822</td>\n",
              "      <td>1.500000</td>\n",
              "      <td>1.000000</td>\n",
              "    </tr>\n",
              "  </tbody>\n",
              "</table>\n",
              "</div>\n",
              "      <button class=\"colab-df-convert\" onclick=\"convertToInteractive('df-af3dd21e-b908-4024-8e1e-9591e00c1804')\"\n",
              "              title=\"Convert this dataframe to an interactive table.\"\n",
              "              style=\"display:none;\">\n",
              "        \n",
              "  <svg xmlns=\"http://www.w3.org/2000/svg\" height=\"24px\"viewBox=\"0 0 24 24\"\n",
              "       width=\"24px\">\n",
              "    <path d=\"M0 0h24v24H0V0z\" fill=\"none\"/>\n",
              "    <path d=\"M18.56 5.44l.94 2.06.94-2.06 2.06-.94-2.06-.94-.94-2.06-.94 2.06-2.06.94zm-11 1L8.5 8.5l.94-2.06 2.06-.94-2.06-.94L8.5 2.5l-.94 2.06-2.06.94zm10 10l.94 2.06.94-2.06 2.06-.94-2.06-.94-.94-2.06-.94 2.06-2.06.94z\"/><path d=\"M17.41 7.96l-1.37-1.37c-.4-.4-.92-.59-1.43-.59-.52 0-1.04.2-1.43.59L10.3 9.45l-7.72 7.72c-.78.78-.78 2.05 0 2.83L4 21.41c.39.39.9.59 1.41.59.51 0 1.02-.2 1.41-.59l7.78-7.78 2.81-2.81c.8-.78.8-2.07 0-2.86zM5.41 20L4 18.59l7.72-7.72 1.47 1.35L5.41 20z\"/>\n",
              "  </svg>\n",
              "      </button>\n",
              "      \n",
              "  <style>\n",
              "    .colab-df-container {\n",
              "      display:flex;\n",
              "      flex-wrap:wrap;\n",
              "      gap: 12px;\n",
              "    }\n",
              "\n",
              "    .colab-df-convert {\n",
              "      background-color: #E8F0FE;\n",
              "      border: none;\n",
              "      border-radius: 50%;\n",
              "      cursor: pointer;\n",
              "      display: none;\n",
              "      fill: #1967D2;\n",
              "      height: 32px;\n",
              "      padding: 0 0 0 0;\n",
              "      width: 32px;\n",
              "    }\n",
              "\n",
              "    .colab-df-convert:hover {\n",
              "      background-color: #E2EBFA;\n",
              "      box-shadow: 0px 1px 2px rgba(60, 64, 67, 0.3), 0px 1px 3px 1px rgba(60, 64, 67, 0.15);\n",
              "      fill: #174EA6;\n",
              "    }\n",
              "\n",
              "    [theme=dark] .colab-df-convert {\n",
              "      background-color: #3B4455;\n",
              "      fill: #D2E3FC;\n",
              "    }\n",
              "\n",
              "    [theme=dark] .colab-df-convert:hover {\n",
              "      background-color: #434B5C;\n",
              "      box-shadow: 0px 1px 3px 1px rgba(0, 0, 0, 0.15);\n",
              "      filter: drop-shadow(0px 1px 2px rgba(0, 0, 0, 0.3));\n",
              "      fill: #FFFFFF;\n",
              "    }\n",
              "  </style>\n",
              "\n",
              "      <script>\n",
              "        const buttonEl =\n",
              "          document.querySelector('#df-af3dd21e-b908-4024-8e1e-9591e00c1804 button.colab-df-convert');\n",
              "        buttonEl.style.display =\n",
              "          google.colab.kernel.accessAllowed ? 'block' : 'none';\n",
              "\n",
              "        async function convertToInteractive(key) {\n",
              "          const element = document.querySelector('#df-af3dd21e-b908-4024-8e1e-9591e00c1804');\n",
              "          const dataTable =\n",
              "            await google.colab.kernel.invokeFunction('convertToInteractive',\n",
              "                                                     [key], {});\n",
              "          if (!dataTable) return;\n",
              "\n",
              "          const docLinkHtml = 'Like what you see? Visit the ' +\n",
              "            '<a target=\"_blank\" href=https://colab.research.google.com/notebooks/data_table.ipynb>data table notebook</a>'\n",
              "            + ' to learn more about interactive tables.';\n",
              "          element.innerHTML = '';\n",
              "          dataTable['output_type'] = 'display_data';\n",
              "          await google.colab.output.renderOutput(dataTable, element);\n",
              "          const docLink = document.createElement('div');\n",
              "          docLink.innerHTML = docLinkHtml;\n",
              "          element.appendChild(docLink);\n",
              "        }\n",
              "      </script>\n",
              "    </div>\n",
              "  </div>\n",
              "  "
            ]
          },
          "metadata": {},
          "execution_count": 588
        }
      ],
      "source": [
        "x_noisy.describe()"
      ]
    },
    {
      "cell_type": "code",
      "execution_count": null,
      "metadata": {
        "colab": {
          "base_uri": "https://localhost:8080/",
          "height": 298
        },
        "id": "krVjNMfdg9_d",
        "outputId": "dd56a87c-52bc-4ae0-908e-828f14827729"
      },
      "outputs": [
        {
          "output_type": "execute_result",
          "data": {
            "text/plain": [
              "<matplotlib.axes._subplots.AxesSubplot at 0x7f1deaefaf50>"
            ]
          },
          "metadata": {},
          "execution_count": 589
        },
        {
          "output_type": "display_data",
          "data": {
            "text/plain": [
              "<Figure size 432x288 with 1 Axes>"
            ],
            "image/png": "[encoded data removed]"
          },
          "metadata": {
            "needs_background": "light"
          }
        }
      ],
      "source": [
        "## RestingECG\n",
        "\n",
        "sns.distplot(x_noisy['RestingECG'])"
      ]
    },
    {
      "cell_type": "code",
      "execution_count": null,
      "metadata": {
        "colab": {
          "base_uri": "https://localhost:8080/",
          "height": 297
        },
        "id": "HynZUEcQhGEp",
        "outputId": "0d2e8356-79a7-4830-d434-b95b087fd3ce"
      },
      "outputs": [
        {
          "output_type": "execute_result",
          "data": {
            "text/plain": [
              "<matplotlib.axes._subplots.AxesSubplot at 0x7f1dead43290>"
            ]
          },
          "metadata": {},
          "execution_count": 590
        },
        {
          "output_type": "display_data",
          "data": {
            "text/plain": [
              "<Figure size 432x288 with 1 Axes>"
            ],
            "image/png": "[encoded data removed]"
          },
          "metadata": {
            "needs_background": "light"
          }
        }
      ],
      "source": [
        "sns.boxplot(x_noisy['RestingECG'])"
      ]
    },
    {
      "cell_type": "code",
      "execution_count": null,
      "metadata": {
        "id": "9eRZIGJJhIpN"
      },
      "outputs": [],
      "source": [
        "upper_limit = x_noisy['RestingECG'].quantile(0.99)\n",
        "lower_limit = x_noisy['RestingECG'].quantile(0.01)"
      ]
    },
    {
      "cell_type": "code",
      "execution_count": null,
      "metadata": {
        "colab": {
          "base_uri": "https://localhost:8080/"
        },
        "id": "zX1iotB9hKrC",
        "outputId": "e955343b-2787-46aa-addf-b4cff9f0ee82"
      },
      "outputs": [
        {
          "output_type": "execute_result",
          "data": {
            "text/plain": [
              "1.0"
            ]
          },
          "metadata": {},
          "execution_count": 592
        }
      ],
      "source": [
        "upper_limit"
      ]
    },
    {
      "cell_type": "code",
      "execution_count": null,
      "metadata": {
        "colab": {
          "base_uri": "https://localhost:8080/"
        },
        "id": "cXDhBEEvhMhe",
        "outputId": "a4bce5e6-24b0-4306-9e58-707eb2331606"
      },
      "outputs": [
        {
          "output_type": "execute_result",
          "data": {
            "text/plain": [
              "0.0"
            ]
          },
          "metadata": {},
          "execution_count": 593
        }
      ],
      "source": [
        "lower_limit"
      ]
    },
    {
      "cell_type": "code",
      "execution_count": null,
      "metadata": {
        "id": "xad06hS_hO8o"
      },
      "outputs": [],
      "source": [
        "x_noisy['RestingECG'] = np.where(x_noisy['RestingECG'] >= upper_limit,\n",
        "        upper_limit,\n",
        "        np.where(x_noisy['RestingECG'] <= lower_limit,\n",
        "        lower_limit,\n",
        "        x_noisy['RestingECG']))"
      ]
    },
    {
      "cell_type": "code",
      "execution_count": null,
      "metadata": {
        "colab": {
          "base_uri": "https://localhost:8080/",
          "height": 297
        },
        "id": "rXQmdL_4hRY-",
        "outputId": "3e999af4-d478-4b6a-8ede-913ef3914e06"
      },
      "outputs": [
        {
          "output_type": "execute_result",
          "data": {
            "text/plain": [
              "<matplotlib.axes._subplots.AxesSubplot at 0x7f1deac87b90>"
            ]
          },
          "metadata": {},
          "execution_count": 595
        },
        {
          "output_type": "display_data",
          "data": {
            "text/plain": [
              "<Figure size 432x288 with 1 Axes>"
            ],
            "image/png": "[encoded data removed]"
          },
          "metadata": {
            "needs_background": "light"
          }
        }
      ],
      "source": [
        "#sns.distplot(x_noisy['RestingECG'])\n",
        "sns.boxplot(x_noisy['RestingECG'])"
      ]
    },
    {
      "cell_type": "code",
      "execution_count": null,
      "metadata": {
        "colab": {
          "base_uri": "https://localhost:8080/",
          "height": 297
        },
        "id": "qaQib_fohTnJ",
        "outputId": "e947ffef-4cea-4ac1-c124-b603395ea3aa"
      },
      "outputs": [
        {
          "output_type": "execute_result",
          "data": {
            "text/plain": [
              "<matplotlib.axes._subplots.AxesSubplot at 0x7f1deb72b210>"
            ]
          },
          "metadata": {},
          "execution_count": 596
        },
        {
          "output_type": "display_data",
          "data": {
            "text/plain": [
              "<Figure size 432x288 with 1 Axes>"
            ],
            "image/png": "[encoded data removed]"
          },
          "metadata": {
            "needs_background": "light"
          }
        }
      ],
      "source": [
        "sns.distplot(x_noisy['RestingECG'])"
      ]
    },
    {
      "cell_type": "code",
      "execution_count": null,
      "metadata": {
        "colab": {
          "base_uri": "https://localhost:8080/"
        },
        "id": "q9pbxFPYhWSK",
        "outputId": "f267bc4a-8d04-4dfb-db18-9dda3ab11bf5"
      },
      "outputs": [
        {
          "output_type": "execute_result",
          "data": {
            "text/plain": [
              "RestingECG\n",
              "0.00    514\n",
              "0.75    147\n",
              "1.00    193\n",
              "dtype: int64"
            ]
          },
          "metadata": {},
          "execution_count": 597
        }
      ],
      "source": [
        "x_noisy.groupby(['RestingECG']).size()\n"
      ]
    },
    {
      "cell_type": "code",
      "execution_count": null,
      "metadata": {
        "colab": {
          "base_uri": "https://localhost:8080/",
          "height": 364
        },
        "id": "27BhVyzNhYdJ",
        "outputId": "7ab6fc6a-1606-4583-8cd8-1f14100c000e"
      },
      "outputs": [
        {
          "output_type": "execute_result",
          "data": {
            "text/plain": [
              "              _c0         Age         sex  ChestPainType   RestingBP  \\\n",
              "count  918.000000  826.000000  826.000000     826.000000  854.000000   \n",
              "mean   458.500000   53.060533    0.757869       0.448547  132.501474   \n",
              "std    265.148072    9.471423    0.428633       0.302641   17.469139   \n",
              "min      0.000000   31.000000    0.000000       0.000000   95.650669   \n",
              "25%    229.250000   46.000000    1.000000       0.000000  120.002061   \n",
              "50%    458.500000   54.000000    1.000000       0.500000  130.077703   \n",
              "75%    687.750000   60.000000    1.000000       0.500000  140.140184   \n",
              "max    917.000000   74.000000    1.000000       1.000000  180.002266   \n",
              "\n",
              "       Cholesterol   FastingBS  RestingECG       MaxHR  ExerciseAngina  \\\n",
              "count   826.000000  854.000000  854.000000  854.000000      826.000000   \n",
              "mean    198.954924    0.235363    0.355094  136.833748        0.397165   \n",
              "std     107.032165    0.424474    0.443800   25.492954        0.497133   \n",
              "min       0.007346    0.000000    0.000000   59.877794       -0.287943   \n",
              "25%     174.905043    0.000000    0.000000  119.924836        0.000000   \n",
              "50%     222.930355    0.000000    0.000000  137.982217        0.000000   \n",
              "75%     268.028952    0.000000    0.750000  155.269524        1.000000   \n",
              "max     415.874868    1.000000    1.000000  201.818059        1.264830   \n",
              "\n",
              "          Oldpeak    ST_Slope  HeartDisease  \n",
              "count  854.000000  854.000000    918.000000  \n",
              "mean     0.902828    0.312096      0.553377  \n",
              "std      1.079759    1.999111      0.497414  \n",
              "min     -2.557557  -40.000000      0.000000  \n",
              "25%      0.022781    0.000000      0.000000  \n",
              "50%      0.594403    0.000000      1.000000  \n",
              "75%      1.561761    0.750000      1.000000  \n",
              "max      6.207822    1.500000      1.000000  "
            ],
            "text/html": [
              "\n",
              "  <div id=\"df-51ed293f-24b3-4b2f-839d-f0f2effbbbe9\">\n",
              "    <div class=\"colab-df-container\">\n",
              "      <div>\n",
              "<style scoped>\n",
              "    .dataframe tbody tr th:only-of-type {\n",
              "        vertical-align: middle;\n",
              "    }\n",
              "\n",
              "    .dataframe tbody tr th {\n",
              "        vertical-align: top;\n",
              "    }\n",
              "\n",
              "    .dataframe thead th {\n",
              "        text-align: right;\n",
              "    }\n",
              "</style>\n",
              "<table border=\"1\" class=\"dataframe\">\n",
              "  <thead>\n",
              "    <tr style=\"text-align: right;\">\n",
              "      <th></th>\n",
              "      <th>_c0</th>\n",
              "      <th>Age</th>\n",
              "      <th>sex</th>\n",
              "      <th>ChestPainType</th>\n",
              "      <th>RestingBP</th>\n",
              "      <th>Cholesterol</th>\n",
              "      <th>FastingBS</th>\n",
              "      <th>RestingECG</th>\n",
              "      <th>MaxHR</th>\n",
              "      <th>ExerciseAngina</th>\n",
              "      <th>Oldpeak</th>\n",
              "      <th>ST_Slope</th>\n",
              "      <th>HeartDisease</th>\n",
              "    </tr>\n",
              "  </thead>\n",
              "  <tbody>\n",
              "    <tr>\n",
              "      <th>count</th>\n",
              "      <td>918.000000</td>\n",
              "      <td>826.000000</td>\n",
              "      <td>826.000000</td>\n",
              "      <td>826.000000</td>\n",
              "      <td>854.000000</td>\n",
              "      <td>826.000000</td>\n",
              "      <td>854.000000</td>\n",
              "      <td>854.000000</td>\n",
              "      <td>854.000000</td>\n",
              "      <td>826.000000</td>\n",
              "      <td>854.000000</td>\n",
              "      <td>854.000000</td>\n",
              "      <td>918.000000</td>\n",
              "    </tr>\n",
              "    <tr>\n",
              "      <th>mean</th>\n",
              "      <td>458.500000</td>\n",
              "      <td>53.060533</td>\n",
              "      <td>0.757869</td>\n",
              "      <td>0.448547</td>\n",
              "      <td>132.501474</td>\n",
              "      <td>198.954924</td>\n",
              "      <td>0.235363</td>\n",
              "      <td>0.355094</td>\n",
              "      <td>136.833748</td>\n",
              "      <td>0.397165</td>\n",
              "      <td>0.902828</td>\n",
              "      <td>0.312096</td>\n",
              "      <td>0.553377</td>\n",
              "    </tr>\n",
              "    <tr>\n",
              "      <th>std</th>\n",
              "      <td>265.148072</td>\n",
              "      <td>9.471423</td>\n",
              "      <td>0.428633</td>\n",
              "      <td>0.302641</td>\n",
              "      <td>17.469139</td>\n",
              "      <td>107.032165</td>\n",
              "      <td>0.424474</td>\n",
              "      <td>0.443800</td>\n",
              "      <td>25.492954</td>\n",
              "      <td>0.497133</td>\n",
              "      <td>1.079759</td>\n",
              "      <td>1.999111</td>\n",
              "      <td>0.497414</td>\n",
              "    </tr>\n",
              "    <tr>\n",
              "      <th>min</th>\n",
              "      <td>0.000000</td>\n",
              "      <td>31.000000</td>\n",
              "      <td>0.000000</td>\n",
              "      <td>0.000000</td>\n",
              "      <td>95.650669</td>\n",
              "      <td>0.007346</td>\n",
              "      <td>0.000000</td>\n",
              "      <td>0.000000</td>\n",
              "      <td>59.877794</td>\n",
              "      <td>-0.287943</td>\n",
              "      <td>-2.557557</td>\n",
              "      <td>-40.000000</td>\n",
              "      <td>0.000000</td>\n",
              "    </tr>\n",
              "    <tr>\n",
              "      <th>25%</th>\n",
              "      <td>229.250000</td>\n",
              "      <td>46.000000</td>\n",
              "      <td>1.000000</td>\n",
              "      <td>0.000000</td>\n",
              "      <td>120.002061</td>\n",
              "      <td>174.905043</td>\n",
              "      <td>0.000000</td>\n",
              "      <td>0.000000</td>\n",
              "      <td>119.924836</td>\n",
              "      <td>0.000000</td>\n",
              "      <td>0.022781</td>\n",
              "      <td>0.000000</td>\n",
              "      <td>0.000000</td>\n",
              "    </tr>\n",
              "    <tr>\n",
              "      <th>50%</th>\n",
              "      <td>458.500000</td>\n",
              "      <td>54.000000</td>\n",
              "      <td>1.000000</td>\n",
              "      <td>0.500000</td>\n",
              "      <td>130.077703</td>\n",
              "      <td>222.930355</td>\n",
              "      <td>0.000000</td>\n",
              "      <td>0.000000</td>\n",
              "      <td>137.982217</td>\n",
              "      <td>0.000000</td>\n",
              "      <td>0.594403</td>\n",
              "      <td>0.000000</td>\n",
              "      <td>1.000000</td>\n",
              "    </tr>\n",
              "    <tr>\n",
              "      <th>75%</th>\n",
              "      <td>687.750000</td>\n",
              "      <td>60.000000</td>\n",
              "      <td>1.000000</td>\n",
              "      <td>0.500000</td>\n",
              "      <td>140.140184</td>\n",
              "      <td>268.028952</td>\n",
              "      <td>0.000000</td>\n",
              "      <td>0.750000</td>\n",
              "      <td>155.269524</td>\n",
              "      <td>1.000000</td>\n",
              "      <td>1.561761</td>\n",
              "      <td>0.750000</td>\n",
              "      <td>1.000000</td>\n",
              "    </tr>\n",
              "    <tr>\n",
              "      <th>max</th>\n",
              "      <td>917.000000</td>\n",
              "      <td>74.000000</td>\n",
              "      <td>1.000000</td>\n",
              "      <td>1.000000</td>\n",
              "      <td>180.002266</td>\n",
              "      <td>415.874868</td>\n",
              "      <td>1.000000</td>\n",
              "      <td>1.000000</td>\n",
              "      <td>201.818059</td>\n",
              "      <td>1.264830</td>\n",
              "      <td>6.207822</td>\n",
              "      <td>1.500000</td>\n",
              "      <td>1.000000</td>\n",
              "    </tr>\n",
              "  </tbody>\n",
              "</table>\n",
              "</div>\n",
              "      <button class=\"colab-df-convert\" onclick=\"convertToInteractive('df-51ed293f-24b3-4b2f-839d-f0f2effbbbe9')\"\n",
              "              title=\"Convert this dataframe to an interactive table.\"\n",
              "              style=\"display:none;\">\n",
              "        \n",
              "  <svg xmlns=\"http://www.w3.org/2000/svg\" height=\"24px\"viewBox=\"0 0 24 24\"\n",
              "       width=\"24px\">\n",
              "    <path d=\"M0 0h24v24H0V0z\" fill=\"none\"/>\n",
              "    <path d=\"M18.56 5.44l.94 2.06.94-2.06 2.06-.94-2.06-.94-.94-2.06-.94 2.06-2.06.94zm-11 1L8.5 8.5l.94-2.06 2.06-.94-2.06-.94L8.5 2.5l-.94 2.06-2.06.94zm10 10l.94 2.06.94-2.06 2.06-.94-2.06-.94-.94-2.06-.94 2.06-2.06.94z\"/><path d=\"M17.41 7.96l-1.37-1.37c-.4-.4-.92-.59-1.43-.59-.52 0-1.04.2-1.43.59L10.3 9.45l-7.72 7.72c-.78.78-.78 2.05 0 2.83L4 21.41c.39.39.9.59 1.41.59.51 0 1.02-.2 1.41-.59l7.78-7.78 2.81-2.81c.8-.78.8-2.07 0-2.86zM5.41 20L4 18.59l7.72-7.72 1.47 1.35L5.41 20z\"/>\n",
              "  </svg>\n",
              "      </button>\n",
              "      \n",
              "  <style>\n",
              "    .colab-df-container {\n",
              "      display:flex;\n",
              "      flex-wrap:wrap;\n",
              "      gap: 12px;\n",
              "    }\n",
              "\n",
              "    .colab-df-convert {\n",
              "      background-color: #E8F0FE;\n",
              "      border: none;\n",
              "      border-radius: 50%;\n",
              "      cursor: pointer;\n",
              "      display: none;\n",
              "      fill: #1967D2;\n",
              "      height: 32px;\n",
              "      padding: 0 0 0 0;\n",
              "      width: 32px;\n",
              "    }\n",
              "\n",
              "    .colab-df-convert:hover {\n",
              "      background-color: #E2EBFA;\n",
              "      box-shadow: 0px 1px 2px rgba(60, 64, 67, 0.3), 0px 1px 3px 1px rgba(60, 64, 67, 0.15);\n",
              "      fill: #174EA6;\n",
              "    }\n",
              "\n",
              "    [theme=dark] .colab-df-convert {\n",
              "      background-color: #3B4455;\n",
              "      fill: #D2E3FC;\n",
              "    }\n",
              "\n",
              "    [theme=dark] .colab-df-convert:hover {\n",
              "      background-color: #434B5C;\n",
              "      box-shadow: 0px 1px 3px 1px rgba(0, 0, 0, 0.15);\n",
              "      filter: drop-shadow(0px 1px 2px rgba(0, 0, 0, 0.3));\n",
              "      fill: #FFFFFF;\n",
              "    }\n",
              "  </style>\n",
              "\n",
              "      <script>\n",
              "        const buttonEl =\n",
              "          document.querySelector('#df-51ed293f-24b3-4b2f-839d-f0f2effbbbe9 button.colab-df-convert');\n",
              "        buttonEl.style.display =\n",
              "          google.colab.kernel.accessAllowed ? 'block' : 'none';\n",
              "\n",
              "        async function convertToInteractive(key) {\n",
              "          const element = document.querySelector('#df-51ed293f-24b3-4b2f-839d-f0f2effbbbe9');\n",
              "          const dataTable =\n",
              "            await google.colab.kernel.invokeFunction('convertToInteractive',\n",
              "                                                     [key], {});\n",
              "          if (!dataTable) return;\n",
              "\n",
              "          const docLinkHtml = 'Like what you see? Visit the ' +\n",
              "            '<a target=\"_blank\" href=https://colab.research.google.com/notebooks/data_table.ipynb>data table notebook</a>'\n",
              "            + ' to learn more about interactive tables.';\n",
              "          element.innerHTML = '';\n",
              "          dataTable['output_type'] = 'display_data';\n",
              "          await google.colab.output.renderOutput(dataTable, element);\n",
              "          const docLink = document.createElement('div');\n",
              "          docLink.innerHTML = docLinkHtml;\n",
              "          element.appendChild(docLink);\n",
              "        }\n",
              "      </script>\n",
              "    </div>\n",
              "  </div>\n",
              "  "
            ]
          },
          "metadata": {},
          "execution_count": 598
        }
      ],
      "source": [
        "x_noisy.describe()"
      ]
    },
    {
      "cell_type": "code",
      "execution_count": null,
      "metadata": {
        "colab": {
          "base_uri": "https://localhost:8080/",
          "height": 297
        },
        "id": "TdlT63nKha2m",
        "outputId": "ab3cfa86-ec8b-416b-ca87-a67ab8d1bfcc"
      },
      "outputs": [
        {
          "output_type": "execute_result",
          "data": {
            "text/plain": [
              "<matplotlib.axes._subplots.AxesSubplot at 0x7f1deb8b1b90>"
            ]
          },
          "metadata": {},
          "execution_count": 599
        },
        {
          "output_type": "display_data",
          "data": {
            "text/plain": [
              "<Figure size 432x288 with 1 Axes>"
            ],
            "image/png": "[encoded data removed]"
          },
          "metadata": {
            "needs_background": "light"
          }
        }
      ],
      "source": [
        "### MaxHR\n",
        "\n",
        "sns.distplot(x_noisy['MaxHR'])"
      ]
    },
    {
      "cell_type": "code",
      "execution_count": null,
      "metadata": {
        "colab": {
          "base_uri": "https://localhost:8080/",
          "height": 297
        },
        "id": "pAGNgrM4hgzO",
        "outputId": "11c9f43f-615f-49ee-dede-82b6d95d6b4e"
      },
      "outputs": [
        {
          "output_type": "execute_result",
          "data": {
            "text/plain": [
              "<matplotlib.axes._subplots.AxesSubplot at 0x7f1dedb1fe10>"
            ]
          },
          "metadata": {},
          "execution_count": 600
        },
        {
          "output_type": "display_data",
          "data": {
            "text/plain": [
              "<Figure size 432x288 with 1 Axes>"
            ],
            "image/png": "[encoded data removed]"
          },
          "metadata": {
            "needs_background": "light"
          }
        }
      ],
      "source": [
        "sns.boxplot(x_noisy['MaxHR'])"
      ]
    },
    {
      "cell_type": "code",
      "execution_count": null,
      "metadata": {
        "id": "qy3Vhl4ThjWC"
      },
      "outputs": [],
      "source": [
        "upper_limit = x_noisy['MaxHR'].quantile(0.99)\n",
        "lower_limit = x_noisy['MaxHR'].quantile(0.01)"
      ]
    },
    {
      "cell_type": "code",
      "execution_count": null,
      "metadata": {
        "colab": {
          "base_uri": "https://localhost:8080/"
        },
        "id": "z6hX3oIuhlNF",
        "outputId": "f302f060-211a-43e5-f5fe-f2e443b84a31"
      },
      "outputs": [
        {
          "output_type": "execute_result",
          "data": {
            "text/plain": [
              "75.73833482641126"
            ]
          },
          "metadata": {},
          "execution_count": 602
        }
      ],
      "source": [
        "lower_limit"
      ]
    },
    {
      "cell_type": "code",
      "execution_count": null,
      "metadata": {
        "colab": {
          "base_uri": "https://localhost:8080/"
        },
        "id": "IBhhKtOwhnh-",
        "outputId": "0c8aa9f3-62b6-4794-ea49-9ede3539daeb"
      },
      "outputs": [
        {
          "output_type": "execute_result",
          "data": {
            "text/plain": [
              "186.52894179580431"
            ]
          },
          "metadata": {},
          "execution_count": 603
        }
      ],
      "source": [
        "upper_limit"
      ]
    },
    {
      "cell_type": "code",
      "execution_count": null,
      "metadata": {
        "id": "2oWVIB73hpp6"
      },
      "outputs": [],
      "source": [
        "x_noisy['MaxHR'] = np.where(x_noisy['MaxHR'] >= upper_limit,\n",
        "        upper_limit,\n",
        "        np.where(x_noisy['MaxHR'] <= lower_limit,\n",
        "        lower_limit,\n",
        "        x_noisy['MaxHR']))"
      ]
    },
    {
      "cell_type": "code",
      "execution_count": null,
      "metadata": {
        "colab": {
          "base_uri": "https://localhost:8080/",
          "height": 297
        },
        "id": "vl_3yVYNhr0P",
        "outputId": "688bf80f-6b4e-468a-c01e-8d6d14ceaf32"
      },
      "outputs": [
        {
          "output_type": "execute_result",
          "data": {
            "text/plain": [
              "<matplotlib.axes._subplots.AxesSubplot at 0x7f1dedb23110>"
            ]
          },
          "metadata": {},
          "execution_count": 605
        },
        {
          "output_type": "display_data",
          "data": {
            "text/plain": [
              "<Figure size 432x288 with 1 Axes>"
            ],
            "image/png": "[encoded data removed]"
          },
          "metadata": {
            "needs_background": "light"
          }
        }
      ],
      "source": [
        "sns.distplot(x_noisy['MaxHR'])\n",
        "sns.boxplot(x_noisy['MaxHR'])"
      ]
    },
    {
      "cell_type": "code",
      "execution_count": null,
      "metadata": {
        "colab": {
          "base_uri": "https://localhost:8080/",
          "height": 297
        },
        "id": "Fwuq7TMehuZT",
        "outputId": "231f79cd-cc84-4e61-ab79-b0d7eb68e959"
      },
      "outputs": [
        {
          "output_type": "execute_result",
          "data": {
            "text/plain": [
              "<matplotlib.axes._subplots.AxesSubplot at 0x7f1deba31cd0>"
            ]
          },
          "metadata": {},
          "execution_count": 606
        },
        {
          "output_type": "display_data",
          "data": {
            "text/plain": [
              "<Figure size 432x288 with 1 Axes>"
            ],
            "image/png": "[encoded data removed]"
          },
          "metadata": {
            "needs_background": "light"
          }
        }
      ],
      "source": [
        "sns.distplot(x_noisy['MaxHR'])"
      ]
    },
    {
      "cell_type": "code",
      "execution_count": null,
      "metadata": {
        "colab": {
          "base_uri": "https://localhost:8080/",
          "height": 364
        },
        "id": "-yVD5IUuhwup",
        "outputId": "f24da59d-6f37-4009-e784-3b08c78e85fa"
      },
      "outputs": [
        {
          "output_type": "execute_result",
          "data": {
            "text/plain": [
              "              _c0         Age         sex  ChestPainType   RestingBP  \\\n",
              "count  918.000000  826.000000  826.000000     826.000000  854.000000   \n",
              "mean   458.500000   53.060533    0.757869       0.448547  132.501474   \n",
              "std    265.148072    9.471423    0.428633       0.302641   17.469139   \n",
              "min      0.000000   31.000000    0.000000       0.000000   95.650669   \n",
              "25%    229.250000   46.000000    1.000000       0.000000  120.002061   \n",
              "50%    458.500000   54.000000    1.000000       0.500000  130.077703   \n",
              "75%    687.750000   60.000000    1.000000       0.500000  140.140184   \n",
              "max    917.000000   74.000000    1.000000       1.000000  180.002266   \n",
              "\n",
              "       Cholesterol   FastingBS  RestingECG       MaxHR  ExerciseAngina  \\\n",
              "count   826.000000  854.000000  854.000000  854.000000      826.000000   \n",
              "mean    198.954924    0.235363    0.355094  136.854579        0.397165   \n",
              "std     107.032165    0.424474    0.443800   25.176195        0.497133   \n",
              "min       0.007346    0.000000    0.000000   75.738335       -0.287943   \n",
              "25%     174.905043    0.000000    0.000000  119.924836        0.000000   \n",
              "50%     222.930355    0.000000    0.000000  137.982217        0.000000   \n",
              "75%     268.028952    0.000000    0.750000  155.269524        1.000000   \n",
              "max     415.874868    1.000000    1.000000  186.528942        1.264830   \n",
              "\n",
              "          Oldpeak    ST_Slope  HeartDisease  \n",
              "count  854.000000  854.000000    918.000000  \n",
              "mean     0.902828    0.312096      0.553377  \n",
              "std      1.079759    1.999111      0.497414  \n",
              "min     -2.557557  -40.000000      0.000000  \n",
              "25%      0.022781    0.000000      0.000000  \n",
              "50%      0.594403    0.000000      1.000000  \n",
              "75%      1.561761    0.750000      1.000000  \n",
              "max      6.207822    1.500000      1.000000  "
            ],
            "text/html": [
              "\n",
              "  <div id=\"df-0e40db44-c6f7-4e1d-8cf4-eea6062e6d9e\">\n",
              "    <div class=\"colab-df-container\">\n",
              "      <div>\n",
              "<style scoped>\n",
              "    .dataframe tbody tr th:only-of-type {\n",
              "        vertical-align: middle;\n",
              "    }\n",
              "\n",
              "    .dataframe tbody tr th {\n",
              "        vertical-align: top;\n",
              "    }\n",
              "\n",
              "    .dataframe thead th {\n",
              "        text-align: right;\n",
              "    }\n",
              "</style>\n",
              "<table border=\"1\" class=\"dataframe\">\n",
              "  <thead>\n",
              "    <tr style=\"text-align: right;\">\n",
              "      <th></th>\n",
              "      <th>_c0</th>\n",
              "      <th>Age</th>\n",
              "      <th>sex</th>\n",
              "      <th>ChestPainType</th>\n",
              "      <th>RestingBP</th>\n",
              "      <th>Cholesterol</th>\n",
              "      <th>FastingBS</th>\n",
              "      <th>RestingECG</th>\n",
              "      <th>MaxHR</th>\n",
              "      <th>ExerciseAngina</th>\n",
              "      <th>Oldpeak</th>\n",
              "      <th>ST_Slope</th>\n",
              "      <th>HeartDisease</th>\n",
              "    </tr>\n",
              "  </thead>\n",
              "  <tbody>\n",
              "    <tr>\n",
              "      <th>count</th>\n",
              "      <td>918.000000</td>\n",
              "      <td>826.000000</td>\n",
              "      <td>826.000000</td>\n",
              "      <td>826.000000</td>\n",
              "      <td>854.000000</td>\n",
              "      <td>826.000000</td>\n",
              "      <td>854.000000</td>\n",
              "      <td>854.000000</td>\n",
              "      <td>854.000000</td>\n",
              "      <td>826.000000</td>\n",
              "      <td>854.000000</td>\n",
              "      <td>854.000000</td>\n",
              "      <td>918.000000</td>\n",
              "    </tr>\n",
              "    <tr>\n",
              "      <th>mean</th>\n",
              "      <td>458.500000</td>\n",
              "      <td>53.060533</td>\n",
              "      <td>0.757869</td>\n",
              "      <td>0.448547</td>\n",
              "      <td>132.501474</td>\n",
              "      <td>198.954924</td>\n",
              "      <td>0.235363</td>\n",
              "      <td>0.355094</td>\n",
              "      <td>136.854579</td>\n",
              "      <td>0.397165</td>\n",
              "      <td>0.902828</td>\n",
              "      <td>0.312096</td>\n",
              "      <td>0.553377</td>\n",
              "    </tr>\n",
              "    <tr>\n",
              "      <th>std</th>\n",
              "      <td>265.148072</td>\n",
              "      <td>9.471423</td>\n",
              "      <td>0.428633</td>\n",
              "      <td>0.302641</td>\n",
              "      <td>17.469139</td>\n",
              "      <td>107.032165</td>\n",
              "      <td>0.424474</td>\n",
              "      <td>0.443800</td>\n",
              "      <td>25.176195</td>\n",
              "      <td>0.497133</td>\n",
              "      <td>1.079759</td>\n",
              "      <td>1.999111</td>\n",
              "      <td>0.497414</td>\n",
              "    </tr>\n",
              "    <tr>\n",
              "      <th>min</th>\n",
              "      <td>0.000000</td>\n",
              "      <td>31.000000</td>\n",
              "      <td>0.000000</td>\n",
              "      <td>0.000000</td>\n",
              "      <td>95.650669</td>\n",
              "      <td>0.007346</td>\n",
              "      <td>0.000000</td>\n",
              "      <td>0.000000</td>\n",
              "      <td>75.738335</td>\n",
              "      <td>-0.287943</td>\n",
              "      <td>-2.557557</td>\n",
              "      <td>-40.000000</td>\n",
              "      <td>0.000000</td>\n",
              "    </tr>\n",
              "    <tr>\n",
              "      <th>25%</th>\n",
              "      <td>229.250000</td>\n",
              "      <td>46.000000</td>\n",
              "      <td>1.000000</td>\n",
              "      <td>0.000000</td>\n",
              "      <td>120.002061</td>\n",
              "      <td>174.905043</td>\n",
              "      <td>0.000000</td>\n",
              "      <td>0.000000</td>\n",
              "      <td>119.924836</td>\n",
              "      <td>0.000000</td>\n",
              "      <td>0.022781</td>\n",
              "      <td>0.000000</td>\n",
              "      <td>0.000000</td>\n",
              "    </tr>\n",
              "    <tr>\n",
              "      <th>50%</th>\n",
              "      <td>458.500000</td>\n",
              "      <td>54.000000</td>\n",
              "      <td>1.000000</td>\n",
              "      <td>0.500000</td>\n",
              "      <td>130.077703</td>\n",
              "      <td>222.930355</td>\n",
              "      <td>0.000000</td>\n",
              "      <td>0.000000</td>\n",
              "      <td>137.982217</td>\n",
              "      <td>0.000000</td>\n",
              "      <td>0.594403</td>\n",
              "      <td>0.000000</td>\n",
              "      <td>1.000000</td>\n",
              "    </tr>\n",
              "    <tr>\n",
              "      <th>75%</th>\n",
              "      <td>687.750000</td>\n",
              "      <td>60.000000</td>\n",
              "      <td>1.000000</td>\n",
              "      <td>0.500000</td>\n",
              "      <td>140.140184</td>\n",
              "      <td>268.028952</td>\n",
              "      <td>0.000000</td>\n",
              "      <td>0.750000</td>\n",
              "      <td>155.269524</td>\n",
              "      <td>1.000000</td>\n",
              "      <td>1.561761</td>\n",
              "      <td>0.750000</td>\n",
              "      <td>1.000000</td>\n",
              "    </tr>\n",
              "    <tr>\n",
              "      <th>max</th>\n",
              "      <td>917.000000</td>\n",
              "      <td>74.000000</td>\n",
              "      <td>1.000000</td>\n",
              "      <td>1.000000</td>\n",
              "      <td>180.002266</td>\n",
              "      <td>415.874868</td>\n",
              "      <td>1.000000</td>\n",
              "      <td>1.000000</td>\n",
              "      <td>186.528942</td>\n",
              "      <td>1.264830</td>\n",
              "      <td>6.207822</td>\n",
              "      <td>1.500000</td>\n",
              "      <td>1.000000</td>\n",
              "    </tr>\n",
              "  </tbody>\n",
              "</table>\n",
              "</div>\n",
              "      <button class=\"colab-df-convert\" onclick=\"convertToInteractive('df-0e40db44-c6f7-4e1d-8cf4-eea6062e6d9e')\"\n",
              "              title=\"Convert this dataframe to an interactive table.\"\n",
              "              style=\"display:none;\">\n",
              "        \n",
              "  <svg xmlns=\"http://www.w3.org/2000/svg\" height=\"24px\"viewBox=\"0 0 24 24\"\n",
              "       width=\"24px\">\n",
              "    <path d=\"M0 0h24v24H0V0z\" fill=\"none\"/>\n",
              "    <path d=\"M18.56 5.44l.94 2.06.94-2.06 2.06-.94-2.06-.94-.94-2.06-.94 2.06-2.06.94zm-11 1L8.5 8.5l.94-2.06 2.06-.94-2.06-.94L8.5 2.5l-.94 2.06-2.06.94zm10 10l.94 2.06.94-2.06 2.06-.94-2.06-.94-.94-2.06-.94 2.06-2.06.94z\"/><path d=\"M17.41 7.96l-1.37-1.37c-.4-.4-.92-.59-1.43-.59-.52 0-1.04.2-1.43.59L10.3 9.45l-7.72 7.72c-.78.78-.78 2.05 0 2.83L4 21.41c.39.39.9.59 1.41.59.51 0 1.02-.2 1.41-.59l7.78-7.78 2.81-2.81c.8-.78.8-2.07 0-2.86zM5.41 20L4 18.59l7.72-7.72 1.47 1.35L5.41 20z\"/>\n",
              "  </svg>\n",
              "      </button>\n",
              "      \n",
              "  <style>\n",
              "    .colab-df-container {\n",
              "      display:flex;\n",
              "      flex-wrap:wrap;\n",
              "      gap: 12px;\n",
              "    }\n",
              "\n",
              "    .colab-df-convert {\n",
              "      background-color: #E8F0FE;\n",
              "      border: none;\n",
              "      border-radius: 50%;\n",
              "      cursor: pointer;\n",
              "      display: none;\n",
              "      fill: #1967D2;\n",
              "      height: 32px;\n",
              "      padding: 0 0 0 0;\n",
              "      width: 32px;\n",
              "    }\n",
              "\n",
              "    .colab-df-convert:hover {\n",
              "      background-color: #E2EBFA;\n",
              "      box-shadow: 0px 1px 2px rgba(60, 64, 67, 0.3), 0px 1px 3px 1px rgba(60, 64, 67, 0.15);\n",
              "      fill: #174EA6;\n",
              "    }\n",
              "\n",
              "    [theme=dark] .colab-df-convert {\n",
              "      background-color: #3B4455;\n",
              "      fill: #D2E3FC;\n",
              "    }\n",
              "\n",
              "    [theme=dark] .colab-df-convert:hover {\n",
              "      background-color: #434B5C;\n",
              "      box-shadow: 0px 1px 3px 1px rgba(0, 0, 0, 0.15);\n",
              "      filter: drop-shadow(0px 1px 2px rgba(0, 0, 0, 0.3));\n",
              "      fill: #FFFFFF;\n",
              "    }\n",
              "  </style>\n",
              "\n",
              "      <script>\n",
              "        const buttonEl =\n",
              "          document.querySelector('#df-0e40db44-c6f7-4e1d-8cf4-eea6062e6d9e button.colab-df-convert');\n",
              "        buttonEl.style.display =\n",
              "          google.colab.kernel.accessAllowed ? 'block' : 'none';\n",
              "\n",
              "        async function convertToInteractive(key) {\n",
              "          const element = document.querySelector('#df-0e40db44-c6f7-4e1d-8cf4-eea6062e6d9e');\n",
              "          const dataTable =\n",
              "            await google.colab.kernel.invokeFunction('convertToInteractive',\n",
              "                                                     [key], {});\n",
              "          if (!dataTable) return;\n",
              "\n",
              "          const docLinkHtml = 'Like what you see? Visit the ' +\n",
              "            '<a target=\"_blank\" href=https://colab.research.google.com/notebooks/data_table.ipynb>data table notebook</a>'\n",
              "            + ' to learn more about interactive tables.';\n",
              "          element.innerHTML = '';\n",
              "          dataTable['output_type'] = 'display_data';\n",
              "          await google.colab.output.renderOutput(dataTable, element);\n",
              "          const docLink = document.createElement('div');\n",
              "          docLink.innerHTML = docLinkHtml;\n",
              "          element.appendChild(docLink);\n",
              "        }\n",
              "      </script>\n",
              "    </div>\n",
              "  </div>\n",
              "  "
            ]
          },
          "metadata": {},
          "execution_count": 607
        }
      ],
      "source": [
        "x_noisy.describe()"
      ]
    },
    {
      "cell_type": "code",
      "execution_count": null,
      "metadata": {
        "id": "nZw9kZDLhywX"
      },
      "outputs": [],
      "source": [
        "## ExerciseAngina"
      ]
    },
    {
      "cell_type": "code",
      "execution_count": null,
      "metadata": {
        "colab": {
          "base_uri": "https://localhost:8080/",
          "height": 297
        },
        "id": "yD7DxTAbh0jx",
        "outputId": "bdc034df-cdcb-40c5-905c-9a90699c1e71"
      },
      "outputs": [
        {
          "output_type": "execute_result",
          "data": {
            "text/plain": [
              "<matplotlib.axes._subplots.AxesSubplot at 0x7f1deab15910>"
            ]
          },
          "metadata": {},
          "execution_count": 609
        },
        {
          "output_type": "display_data",
          "data": {
            "text/plain": [
              "<Figure size 432x288 with 1 Axes>"
            ],
            "image/png": "[encoded data removed]"
          },
          "metadata": {
            "needs_background": "light"
          }
        }
      ],
      "source": [
        "sns.distplot(x_noisy['ExerciseAngina'])"
      ]
    },
    {
      "cell_type": "code",
      "execution_count": null,
      "metadata": {
        "colab": {
          "base_uri": "https://localhost:8080/",
          "height": 297
        },
        "id": "uFV-rIOuh27G",
        "outputId": "ce1da7b4-aaa5-46f7-8226-cf65fdbdd6bc"
      },
      "outputs": [
        {
          "output_type": "execute_result",
          "data": {
            "text/plain": [
              "<matplotlib.axes._subplots.AxesSubplot at 0x7f1deaa84110>"
            ]
          },
          "metadata": {},
          "execution_count": 610
        },
        {
          "output_type": "display_data",
          "data": {
            "text/plain": [
              "<Figure size 432x288 with 1 Axes>"
            ],
            "image/png": "[encoded data removed]"
          },
          "metadata": {
            "needs_background": "light"
          }
        }
      ],
      "source": [
        "sns.boxplot(x_noisy['ExerciseAngina'])"
      ]
    },
    {
      "cell_type": "code",
      "execution_count": null,
      "metadata": {
        "id": "ueAJzeFBh5aY"
      },
      "outputs": [],
      "source": [
        "upper_limit = x_noisy['ExerciseAngina'].quantile(0.95)\n",
        "lower_limit = x_noisy['ExerciseAngina'].quantile(0.05)"
      ]
    },
    {
      "cell_type": "code",
      "execution_count": null,
      "metadata": {
        "colab": {
          "base_uri": "https://localhost:8080/"
        },
        "id": "V1XaPoWlh7SO",
        "outputId": "a19be299-fb83-4f14-ec40-a34f68604cad"
      },
      "outputs": [
        {
          "output_type": "execute_result",
          "data": {
            "text/plain": [
              "0.0"
            ]
          },
          "metadata": {},
          "execution_count": 612
        }
      ],
      "source": [
        "lower_limit"
      ]
    },
    {
      "cell_type": "code",
      "execution_count": null,
      "metadata": {
        "colab": {
          "base_uri": "https://localhost:8080/"
        },
        "id": "4NoXwoFAh9jU",
        "outputId": "acd8fe35-b2d8-4872-b3ea-19b5c289fb37"
      },
      "outputs": [
        {
          "output_type": "execute_result",
          "data": {
            "text/plain": [
              "1.0"
            ]
          },
          "metadata": {},
          "execution_count": 613
        }
      ],
      "source": [
        "upper_limit"
      ]
    },
    {
      "cell_type": "code",
      "execution_count": null,
      "metadata": {
        "id": "yTGvXUX8iAcF"
      },
      "outputs": [],
      "source": [
        "x_noisy['ExerciseAngina'] = np.where(x_noisy['ExerciseAngina'] >= upper_limit,\n",
        "        upper_limit,\n",
        "        np.where(x_noisy['ExerciseAngina'] <= lower_limit,\n",
        "        lower_limit,\n",
        "        x_noisy['ExerciseAngina']))"
      ]
    },
    {
      "cell_type": "code",
      "execution_count": null,
      "metadata": {
        "colab": {
          "base_uri": "https://localhost:8080/",
          "height": 297
        },
        "id": "HTwuYhUuiDcE",
        "outputId": "9c0223c8-537a-4ed9-ca46-729fc29117e1"
      },
      "outputs": [
        {
          "output_type": "execute_result",
          "data": {
            "text/plain": [
              "<matplotlib.axes._subplots.AxesSubplot at 0x7f1deaa12850>"
            ]
          },
          "metadata": {},
          "execution_count": 615
        },
        {
          "output_type": "display_data",
          "data": {
            "text/plain": [
              "<Figure size 432x288 with 1 Axes>"
            ],
            "image/png": "[encoded data removed]"
          },
          "metadata": {
            "needs_background": "light"
          }
        }
      ],
      "source": [
        "sns.distplot(x_noisy['ExerciseAngina'])\n",
        "#sns.boxplot(x_noisy['ExerciseAngina'])"
      ]
    },
    {
      "cell_type": "code",
      "execution_count": null,
      "metadata": {
        "colab": {
          "base_uri": "https://localhost:8080/",
          "height": 364
        },
        "id": "tx6rOEzgiGHC",
        "outputId": "7665162b-a35f-445e-dcfd-118908cb1b7c"
      },
      "outputs": [
        {
          "output_type": "execute_result",
          "data": {
            "text/plain": [
              "              _c0         Age         sex  ChestPainType   RestingBP  \\\n",
              "count  918.000000  826.000000  826.000000     826.000000  854.000000   \n",
              "mean   458.500000   53.060533    0.757869       0.448547  132.501474   \n",
              "std    265.148072    9.471423    0.428633       0.302641   17.469139   \n",
              "min      0.000000   31.000000    0.000000       0.000000   95.650669   \n",
              "25%    229.250000   46.000000    1.000000       0.000000  120.002061   \n",
              "50%    458.500000   54.000000    1.000000       0.500000  130.077703   \n",
              "75%    687.750000   60.000000    1.000000       0.500000  140.140184   \n",
              "max    917.000000   74.000000    1.000000       1.000000  180.002266   \n",
              "\n",
              "       Cholesterol   FastingBS  RestingECG       MaxHR  ExerciseAngina  \\\n",
              "count   826.000000  854.000000  854.000000  854.000000      826.000000   \n",
              "mean    198.954924    0.235363    0.355094  136.854579        0.399516   \n",
              "std     107.032165    0.424474    0.443800   25.176195        0.490096   \n",
              "min       0.007346    0.000000    0.000000   75.738335        0.000000   \n",
              "25%     174.905043    0.000000    0.000000  119.924836        0.000000   \n",
              "50%     222.930355    0.000000    0.000000  137.982217        0.000000   \n",
              "75%     268.028952    0.000000    0.750000  155.269524        1.000000   \n",
              "max     415.874868    1.000000    1.000000  186.528942        1.000000   \n",
              "\n",
              "          Oldpeak    ST_Slope  HeartDisease  \n",
              "count  854.000000  854.000000    918.000000  \n",
              "mean     0.902828    0.312096      0.553377  \n",
              "std      1.079759    1.999111      0.497414  \n",
              "min     -2.557557  -40.000000      0.000000  \n",
              "25%      0.022781    0.000000      0.000000  \n",
              "50%      0.594403    0.000000      1.000000  \n",
              "75%      1.561761    0.750000      1.000000  \n",
              "max      6.207822    1.500000      1.000000  "
            ],
            "text/html": [
              "\n",
              "  <div id=\"df-88418d1f-8fb6-4c18-94b1-94056b20afe3\">\n",
              "    <div class=\"colab-df-container\">\n",
              "      <div>\n",
              "<style scoped>\n",
              "    .dataframe tbody tr th:only-of-type {\n",
              "        vertical-align: middle;\n",
              "    }\n",
              "\n",
              "    .dataframe tbody tr th {\n",
              "        vertical-align: top;\n",
              "    }\n",
              "\n",
              "    .dataframe thead th {\n",
              "        text-align: right;\n",
              "    }\n",
              "</style>\n",
              "<table border=\"1\" class=\"dataframe\">\n",
              "  <thead>\n",
              "    <tr style=\"text-align: right;\">\n",
              "      <th></th>\n",
              "      <th>_c0</th>\n",
              "      <th>Age</th>\n",
              "      <th>sex</th>\n",
              "      <th>ChestPainType</th>\n",
              "      <th>RestingBP</th>\n",
              "      <th>Cholesterol</th>\n",
              "      <th>FastingBS</th>\n",
              "      <th>RestingECG</th>\n",
              "      <th>MaxHR</th>\n",
              "      <th>ExerciseAngina</th>\n",
              "      <th>Oldpeak</th>\n",
              "      <th>ST_Slope</th>\n",
              "      <th>HeartDisease</th>\n",
              "    </tr>\n",
              "  </thead>\n",
              "  <tbody>\n",
              "    <tr>\n",
              "      <th>count</th>\n",
              "      <td>918.000000</td>\n",
              "      <td>826.000000</td>\n",
              "      <td>826.000000</td>\n",
              "      <td>826.000000</td>\n",
              "      <td>854.000000</td>\n",
              "      <td>826.000000</td>\n",
              "      <td>854.000000</td>\n",
              "      <td>854.000000</td>\n",
              "      <td>854.000000</td>\n",
              "      <td>826.000000</td>\n",
              "      <td>854.000000</td>\n",
              "      <td>854.000000</td>\n",
              "      <td>918.000000</td>\n",
              "    </tr>\n",
              "    <tr>\n",
              "      <th>mean</th>\n",
              "      <td>458.500000</td>\n",
              "      <td>53.060533</td>\n",
              "      <td>0.757869</td>\n",
              "      <td>0.448547</td>\n",
              "      <td>132.501474</td>\n",
              "      <td>198.954924</td>\n",
              "      <td>0.235363</td>\n",
              "      <td>0.355094</td>\n",
              "      <td>136.854579</td>\n",
              "      <td>0.399516</td>\n",
              "      <td>0.902828</td>\n",
              "      <td>0.312096</td>\n",
              "      <td>0.553377</td>\n",
              "    </tr>\n",
              "    <tr>\n",
              "      <th>std</th>\n",
              "      <td>265.148072</td>\n",
              "      <td>9.471423</td>\n",
              "      <td>0.428633</td>\n",
              "      <td>0.302641</td>\n",
              "      <td>17.469139</td>\n",
              "      <td>107.032165</td>\n",
              "      <td>0.424474</td>\n",
              "      <td>0.443800</td>\n",
              "      <td>25.176195</td>\n",
              "      <td>0.490096</td>\n",
              "      <td>1.079759</td>\n",
              "      <td>1.999111</td>\n",
              "      <td>0.497414</td>\n",
              "    </tr>\n",
              "    <tr>\n",
              "      <th>min</th>\n",
              "      <td>0.000000</td>\n",
              "      <td>31.000000</td>\n",
              "      <td>0.000000</td>\n",
              "      <td>0.000000</td>\n",
              "      <td>95.650669</td>\n",
              "      <td>0.007346</td>\n",
              "      <td>0.000000</td>\n",
              "      <td>0.000000</td>\n",
              "      <td>75.738335</td>\n",
              "      <td>0.000000</td>\n",
              "      <td>-2.557557</td>\n",
              "      <td>-40.000000</td>\n",
              "      <td>0.000000</td>\n",
              "    </tr>\n",
              "    <tr>\n",
              "      <th>25%</th>\n",
              "      <td>229.250000</td>\n",
              "      <td>46.000000</td>\n",
              "      <td>1.000000</td>\n",
              "      <td>0.000000</td>\n",
              "      <td>120.002061</td>\n",
              "      <td>174.905043</td>\n",
              "      <td>0.000000</td>\n",
              "      <td>0.000000</td>\n",
              "      <td>119.924836</td>\n",
              "      <td>0.000000</td>\n",
              "      <td>0.022781</td>\n",
              "      <td>0.000000</td>\n",
              "      <td>0.000000</td>\n",
              "    </tr>\n",
              "    <tr>\n",
              "      <th>50%</th>\n",
              "      <td>458.500000</td>\n",
              "      <td>54.000000</td>\n",
              "      <td>1.000000</td>\n",
              "      <td>0.500000</td>\n",
              "      <td>130.077703</td>\n",
              "      <td>222.930355</td>\n",
              "      <td>0.000000</td>\n",
              "      <td>0.000000</td>\n",
              "      <td>137.982217</td>\n",
              "      <td>0.000000</td>\n",
              "      <td>0.594403</td>\n",
              "      <td>0.000000</td>\n",
              "      <td>1.000000</td>\n",
              "    </tr>\n",
              "    <tr>\n",
              "      <th>75%</th>\n",
              "      <td>687.750000</td>\n",
              "      <td>60.000000</td>\n",
              "      <td>1.000000</td>\n",
              "      <td>0.500000</td>\n",
              "      <td>140.140184</td>\n",
              "      <td>268.028952</td>\n",
              "      <td>0.000000</td>\n",
              "      <td>0.750000</td>\n",
              "      <td>155.269524</td>\n",
              "      <td>1.000000</td>\n",
              "      <td>1.561761</td>\n",
              "      <td>0.750000</td>\n",
              "      <td>1.000000</td>\n",
              "    </tr>\n",
              "    <tr>\n",
              "      <th>max</th>\n",
              "      <td>917.000000</td>\n",
              "      <td>74.000000</td>\n",
              "      <td>1.000000</td>\n",
              "      <td>1.000000</td>\n",
              "      <td>180.002266</td>\n",
              "      <td>415.874868</td>\n",
              "      <td>1.000000</td>\n",
              "      <td>1.000000</td>\n",
              "      <td>186.528942</td>\n",
              "      <td>1.000000</td>\n",
              "      <td>6.207822</td>\n",
              "      <td>1.500000</td>\n",
              "      <td>1.000000</td>\n",
              "    </tr>\n",
              "  </tbody>\n",
              "</table>\n",
              "</div>\n",
              "      <button class=\"colab-df-convert\" onclick=\"convertToInteractive('df-88418d1f-8fb6-4c18-94b1-94056b20afe3')\"\n",
              "              title=\"Convert this dataframe to an interactive table.\"\n",
              "              style=\"display:none;\">\n",
              "        \n",
              "  <svg xmlns=\"http://www.w3.org/2000/svg\" height=\"24px\"viewBox=\"0 0 24 24\"\n",
              "       width=\"24px\">\n",
              "    <path d=\"M0 0h24v24H0V0z\" fill=\"none\"/>\n",
              "    <path d=\"M18.56 5.44l.94 2.06.94-2.06 2.06-.94-2.06-.94-.94-2.06-.94 2.06-2.06.94zm-11 1L8.5 8.5l.94-2.06 2.06-.94-2.06-.94L8.5 2.5l-.94 2.06-2.06.94zm10 10l.94 2.06.94-2.06 2.06-.94-2.06-.94-.94-2.06-.94 2.06-2.06.94z\"/><path d=\"M17.41 7.96l-1.37-1.37c-.4-.4-.92-.59-1.43-.59-.52 0-1.04.2-1.43.59L10.3 9.45l-7.72 7.72c-.78.78-.78 2.05 0 2.83L4 21.41c.39.39.9.59 1.41.59.51 0 1.02-.2 1.41-.59l7.78-7.78 2.81-2.81c.8-.78.8-2.07 0-2.86zM5.41 20L4 18.59l7.72-7.72 1.47 1.35L5.41 20z\"/>\n",
              "  </svg>\n",
              "      </button>\n",
              "      \n",
              "  <style>\n",
              "    .colab-df-container {\n",
              "      display:flex;\n",
              "      flex-wrap:wrap;\n",
              "      gap: 12px;\n",
              "    }\n",
              "\n",
              "    .colab-df-convert {\n",
              "      background-color: #E8F0FE;\n",
              "      border: none;\n",
              "      border-radius: 50%;\n",
              "      cursor: pointer;\n",
              "      display: none;\n",
              "      fill: #1967D2;\n",
              "      height: 32px;\n",
              "      padding: 0 0 0 0;\n",
              "      width: 32px;\n",
              "    }\n",
              "\n",
              "    .colab-df-convert:hover {\n",
              "      background-color: #E2EBFA;\n",
              "      box-shadow: 0px 1px 2px rgba(60, 64, 67, 0.3), 0px 1px 3px 1px rgba(60, 64, 67, 0.15);\n",
              "      fill: #174EA6;\n",
              "    }\n",
              "\n",
              "    [theme=dark] .colab-df-convert {\n",
              "      background-color: #3B4455;\n",
              "      fill: #D2E3FC;\n",
              "    }\n",
              "\n",
              "    [theme=dark] .colab-df-convert:hover {\n",
              "      background-color: #434B5C;\n",
              "      box-shadow: 0px 1px 3px 1px rgba(0, 0, 0, 0.15);\n",
              "      filter: drop-shadow(0px 1px 2px rgba(0, 0, 0, 0.3));\n",
              "      fill: #FFFFFF;\n",
              "    }\n",
              "  </style>\n",
              "\n",
              "      <script>\n",
              "        const buttonEl =\n",
              "          document.querySelector('#df-88418d1f-8fb6-4c18-94b1-94056b20afe3 button.colab-df-convert');\n",
              "        buttonEl.style.display =\n",
              "          google.colab.kernel.accessAllowed ? 'block' : 'none';\n",
              "\n",
              "        async function convertToInteractive(key) {\n",
              "          const element = document.querySelector('#df-88418d1f-8fb6-4c18-94b1-94056b20afe3');\n",
              "          const dataTable =\n",
              "            await google.colab.kernel.invokeFunction('convertToInteractive',\n",
              "                                                     [key], {});\n",
              "          if (!dataTable) return;\n",
              "\n",
              "          const docLinkHtml = 'Like what you see? Visit the ' +\n",
              "            '<a target=\"_blank\" href=https://colab.research.google.com/notebooks/data_table.ipynb>data table notebook</a>'\n",
              "            + ' to learn more about interactive tables.';\n",
              "          element.innerHTML = '';\n",
              "          dataTable['output_type'] = 'display_data';\n",
              "          await google.colab.output.renderOutput(dataTable, element);\n",
              "          const docLink = document.createElement('div');\n",
              "          docLink.innerHTML = docLinkHtml;\n",
              "          element.appendChild(docLink);\n",
              "        }\n",
              "      </script>\n",
              "    </div>\n",
              "  </div>\n",
              "  "
            ]
          },
          "metadata": {},
          "execution_count": 616
        }
      ],
      "source": [
        "x_noisy.describe()"
      ]
    },
    {
      "cell_type": "code",
      "execution_count": null,
      "metadata": {
        "id": "S_If1svSiIIn"
      },
      "outputs": [],
      "source": [
        "## Oldpeak"
      ]
    },
    {
      "cell_type": "code",
      "execution_count": null,
      "metadata": {
        "colab": {
          "base_uri": "https://localhost:8080/",
          "height": 297
        },
        "id": "lk5MEwQBiJ8B",
        "outputId": "243573b0-6adc-453a-ccda-fd9f0ac19ef0"
      },
      "outputs": [
        {
          "output_type": "execute_result",
          "data": {
            "text/plain": [
              "<matplotlib.axes._subplots.AxesSubplot at 0x7f1dea9cb210>"
            ]
          },
          "metadata": {},
          "execution_count": 618
        },
        {
          "output_type": "display_data",
          "data": {
            "text/plain": [
              "<Figure size 432x288 with 1 Axes>"
            ],
            "image/png": "[encoded data removed]"
          },
          "metadata": {
            "needs_background": "light"
          }
        }
      ],
      "source": [
        "sns.distplot(x_noisy['Oldpeak'])"
      ]
    },
    {
      "cell_type": "code",
      "execution_count": null,
      "metadata": {
        "colab": {
          "base_uri": "https://localhost:8080/",
          "height": 297
        },
        "id": "HdMuvnvUiL6F",
        "outputId": "c42e93de-01e2-496d-b424-711d4e249357"
      },
      "outputs": [
        {
          "output_type": "execute_result",
          "data": {
            "text/plain": [
              "<matplotlib.axes._subplots.AxesSubplot at 0x7f1dea95e850>"
            ]
          },
          "metadata": {},
          "execution_count": 619
        },
        {
          "output_type": "display_data",
          "data": {
            "text/plain": [
              "<Figure size 432x288 with 1 Axes>"
            ],
            "image/png": "[encoded data removed]"
          },
          "metadata": {
            "needs_background": "light"
          }
        }
      ],
      "source": [
        "sns.boxplot(x_noisy['Oldpeak'])"
      ]
    },
    {
      "cell_type": "code",
      "execution_count": null,
      "metadata": {
        "id": "6UR7bAtviOLT"
      },
      "outputs": [],
      "source": [
        "upper_limit = x_noisy['Oldpeak'].quantile(0.99)\n",
        "lower_limit = x_noisy['Oldpeak'].quantile(0.01)"
      ]
    },
    {
      "cell_type": "code",
      "execution_count": null,
      "metadata": {
        "id": "ZLaVJrsZiQQq",
        "colab": {
          "base_uri": "https://localhost:8080/"
        },
        "outputId": "8c874cef-5105-4407-a483-3ee8c63e376a"
      },
      "outputs": [
        {
          "output_type": "execute_result",
          "data": {
            "text/plain": [
              "-0.6509815737576696"
            ]
          },
          "metadata": {},
          "execution_count": 621
        }
      ],
      "source": [
        "lower_limit"
      ]
    },
    {
      "cell_type": "code",
      "execution_count": null,
      "metadata": {
        "id": "KOtXflnRiSC8",
        "colab": {
          "base_uri": "https://localhost:8080/"
        },
        "outputId": "7c550dc7-68bf-483a-e6cd-21f601e366b4"
      },
      "outputs": [
        {
          "output_type": "execute_result",
          "data": {
            "text/plain": [
              "4.023983061554084"
            ]
          },
          "metadata": {},
          "execution_count": 622
        }
      ],
      "source": [
        "upper_limit"
      ]
    },
    {
      "cell_type": "code",
      "execution_count": null,
      "metadata": {
        "id": "D6JvxK3uiUuu"
      },
      "outputs": [],
      "source": [
        "x_noisy['Oldpeak'] = np.where(x_noisy['Oldpeak'] >= upper_limit,\n",
        "        upper_limit,\n",
        "        np.where(x_noisy['Oldpeak'] <= lower_limit,\n",
        "        lower_limit,\n",
        "        x_noisy['Oldpeak']))"
      ]
    },
    {
      "cell_type": "code",
      "execution_count": null,
      "metadata": {
        "id": "Ms01YLNhiXEv",
        "colab": {
          "base_uri": "https://localhost:8080/",
          "height": 297
        },
        "outputId": "ba42e3b2-90e1-4a4f-e38e-6ebe78c8a187"
      },
      "outputs": [
        {
          "output_type": "execute_result",
          "data": {
            "text/plain": [
              "<matplotlib.axes._subplots.AxesSubplot at 0x7f1dea83eb50>"
            ]
          },
          "metadata": {},
          "execution_count": 624
        },
        {
          "output_type": "display_data",
          "data": {
            "text/plain": [
              "<Figure size 432x288 with 1 Axes>"
            ],
            "image/png": "[encoded data removed]"
          },
          "metadata": {
            "needs_background": "light"
          }
        }
      ],
      "source": [
        "sns.distplot(x_noisy['Oldpeak'])\n",
        "sns.boxplot(x_noisy['Oldpeak'])"
      ]
    },
    {
      "cell_type": "code",
      "execution_count": null,
      "metadata": {
        "id": "Y0Qn6EjbiZQ8",
        "colab": {
          "base_uri": "https://localhost:8080/",
          "height": 297
        },
        "outputId": "7bf40388-645b-44ed-853f-8b4a388e20fb"
      },
      "outputs": [
        {
          "output_type": "execute_result",
          "data": {
            "text/plain": [
              "<matplotlib.axes._subplots.AxesSubplot at 0x7f1dea7ccd90>"
            ]
          },
          "metadata": {},
          "execution_count": 625
        },
        {
          "output_type": "display_data",
          "data": {
            "text/plain": [
              "<Figure size 432x288 with 1 Axes>"
            ],
            "image/png": "[encoded data removed]"
          },
          "metadata": {
            "needs_background": "light"
          }
        }
      ],
      "source": [
        "sns.distplot(x_noisy['Oldpeak'])"
      ]
    },
    {
      "cell_type": "code",
      "execution_count": null,
      "metadata": {
        "id": "YkabD1CKibjX",
        "colab": {
          "base_uri": "https://localhost:8080/",
          "height": 364
        },
        "outputId": "31f1b122-f483-49cb-d419-419c3eef6590"
      },
      "outputs": [
        {
          "output_type": "execute_result",
          "data": {
            "text/plain": [
              "              _c0         Age         sex  ChestPainType   RestingBP  \\\n",
              "count  918.000000  826.000000  826.000000     826.000000  854.000000   \n",
              "mean   458.500000   53.060533    0.757869       0.448547  132.501474   \n",
              "std    265.148072    9.471423    0.428633       0.302641   17.469139   \n",
              "min      0.000000   31.000000    0.000000       0.000000   95.650669   \n",
              "25%    229.250000   46.000000    1.000000       0.000000  120.002061   \n",
              "50%    458.500000   54.000000    1.000000       0.500000  130.077703   \n",
              "75%    687.750000   60.000000    1.000000       0.500000  140.140184   \n",
              "max    917.000000   74.000000    1.000000       1.000000  180.002266   \n",
              "\n",
              "       Cholesterol   FastingBS  RestingECG       MaxHR  ExerciseAngina  \\\n",
              "count   826.000000  854.000000  854.000000  854.000000      826.000000   \n",
              "mean    198.954924    0.235363    0.355094  136.854579        0.399516   \n",
              "std     107.032165    0.424474    0.443800   25.176195        0.490096   \n",
              "min       0.007346    0.000000    0.000000   75.738335        0.000000   \n",
              "25%     174.905043    0.000000    0.000000  119.924836        0.000000   \n",
              "50%     222.930355    0.000000    0.000000  137.982217        0.000000   \n",
              "75%     268.028952    0.000000    0.750000  155.269524        1.000000   \n",
              "max     415.874868    1.000000    1.000000  186.528942        1.000000   \n",
              "\n",
              "          Oldpeak    ST_Slope  HeartDisease  \n",
              "count  854.000000  854.000000    918.000000  \n",
              "mean     0.902860    0.312096      0.553377  \n",
              "std      1.039089    1.999111      0.497414  \n",
              "min     -0.650982  -40.000000      0.000000  \n",
              "25%      0.022781    0.000000      0.000000  \n",
              "50%      0.594403    0.000000      1.000000  \n",
              "75%      1.561761    0.750000      1.000000  \n",
              "max      4.023983    1.500000      1.000000  "
            ],
            "text/html": [
              "\n",
              "  <div id=\"df-30fac65f-7d2b-46d2-99f5-ad1bf716e2c1\">\n",
              "    <div class=\"colab-df-container\">\n",
              "      <div>\n",
              "<style scoped>\n",
              "    .dataframe tbody tr th:only-of-type {\n",
              "        vertical-align: middle;\n",
              "    }\n",
              "\n",
              "    .dataframe tbody tr th {\n",
              "        vertical-align: top;\n",
              "    }\n",
              "\n",
              "    .dataframe thead th {\n",
              "        text-align: right;\n",
              "    }\n",
              "</style>\n",
              "<table border=\"1\" class=\"dataframe\">\n",
              "  <thead>\n",
              "    <tr style=\"text-align: right;\">\n",
              "      <th></th>\n",
              "      <th>_c0</th>\n",
              "      <th>Age</th>\n",
              "      <th>sex</th>\n",
              "      <th>ChestPainType</th>\n",
              "      <th>RestingBP</th>\n",
              "      <th>Cholesterol</th>\n",
              "      <th>FastingBS</th>\n",
              "      <th>RestingECG</th>\n",
              "      <th>MaxHR</th>\n",
              "      <th>ExerciseAngina</th>\n",
              "      <th>Oldpeak</th>\n",
              "      <th>ST_Slope</th>\n",
              "      <th>HeartDisease</th>\n",
              "    </tr>\n",
              "  </thead>\n",
              "  <tbody>\n",
              "    <tr>\n",
              "      <th>count</th>\n",
              "      <td>918.000000</td>\n",
              "      <td>826.000000</td>\n",
              "      <td>826.000000</td>\n",
              "      <td>826.000000</td>\n",
              "      <td>854.000000</td>\n",
              "      <td>826.000000</td>\n",
              "      <td>854.000000</td>\n",
              "      <td>854.000000</td>\n",
              "      <td>854.000000</td>\n",
              "      <td>826.000000</td>\n",
              "      <td>854.000000</td>\n",
              "      <td>854.000000</td>\n",
              "      <td>918.000000</td>\n",
              "    </tr>\n",
              "    <tr>\n",
              "      <th>mean</th>\n",
              "      <td>458.500000</td>\n",
              "      <td>53.060533</td>\n",
              "      <td>0.757869</td>\n",
              "      <td>0.448547</td>\n",
              "      <td>132.501474</td>\n",
              "      <td>198.954924</td>\n",
              "      <td>0.235363</td>\n",
              "      <td>0.355094</td>\n",
              "      <td>136.854579</td>\n",
              "      <td>0.399516</td>\n",
              "      <td>0.902860</td>\n",
              "      <td>0.312096</td>\n",
              "      <td>0.553377</td>\n",
              "    </tr>\n",
              "    <tr>\n",
              "      <th>std</th>\n",
              "      <td>265.148072</td>\n",
              "      <td>9.471423</td>\n",
              "      <td>0.428633</td>\n",
              "      <td>0.302641</td>\n",
              "      <td>17.469139</td>\n",
              "      <td>107.032165</td>\n",
              "      <td>0.424474</td>\n",
              "      <td>0.443800</td>\n",
              "      <td>25.176195</td>\n",
              "      <td>0.490096</td>\n",
              "      <td>1.039089</td>\n",
              "      <td>1.999111</td>\n",
              "      <td>0.497414</td>\n",
              "    </tr>\n",
              "    <tr>\n",
              "      <th>min</th>\n",
              "      <td>0.000000</td>\n",
              "      <td>31.000000</td>\n",
              "      <td>0.000000</td>\n",
              "      <td>0.000000</td>\n",
              "      <td>95.650669</td>\n",
              "      <td>0.007346</td>\n",
              "      <td>0.000000</td>\n",
              "      <td>0.000000</td>\n",
              "      <td>75.738335</td>\n",
              "      <td>0.000000</td>\n",
              "      <td>-0.650982</td>\n",
              "      <td>-40.000000</td>\n",
              "      <td>0.000000</td>\n",
              "    </tr>\n",
              "    <tr>\n",
              "      <th>25%</th>\n",
              "      <td>229.250000</td>\n",
              "      <td>46.000000</td>\n",
              "      <td>1.000000</td>\n",
              "      <td>0.000000</td>\n",
              "      <td>120.002061</td>\n",
              "      <td>174.905043</td>\n",
              "      <td>0.000000</td>\n",
              "      <td>0.000000</td>\n",
              "      <td>119.924836</td>\n",
              "      <td>0.000000</td>\n",
              "      <td>0.022781</td>\n",
              "      <td>0.000000</td>\n",
              "      <td>0.000000</td>\n",
              "    </tr>\n",
              "    <tr>\n",
              "      <th>50%</th>\n",
              "      <td>458.500000</td>\n",
              "      <td>54.000000</td>\n",
              "      <td>1.000000</td>\n",
              "      <td>0.500000</td>\n",
              "      <td>130.077703</td>\n",
              "      <td>222.930355</td>\n",
              "      <td>0.000000</td>\n",
              "      <td>0.000000</td>\n",
              "      <td>137.982217</td>\n",
              "      <td>0.000000</td>\n",
              "      <td>0.594403</td>\n",
              "      <td>0.000000</td>\n",
              "      <td>1.000000</td>\n",
              "    </tr>\n",
              "    <tr>\n",
              "      <th>75%</th>\n",
              "      <td>687.750000</td>\n",
              "      <td>60.000000</td>\n",
              "      <td>1.000000</td>\n",
              "      <td>0.500000</td>\n",
              "      <td>140.140184</td>\n",
              "      <td>268.028952</td>\n",
              "      <td>0.000000</td>\n",
              "      <td>0.750000</td>\n",
              "      <td>155.269524</td>\n",
              "      <td>1.000000</td>\n",
              "      <td>1.561761</td>\n",
              "      <td>0.750000</td>\n",
              "      <td>1.000000</td>\n",
              "    </tr>\n",
              "    <tr>\n",
              "      <th>max</th>\n",
              "      <td>917.000000</td>\n",
              "      <td>74.000000</td>\n",
              "      <td>1.000000</td>\n",
              "      <td>1.000000</td>\n",
              "      <td>180.002266</td>\n",
              "      <td>415.874868</td>\n",
              "      <td>1.000000</td>\n",
              "      <td>1.000000</td>\n",
              "      <td>186.528942</td>\n",
              "      <td>1.000000</td>\n",
              "      <td>4.023983</td>\n",
              "      <td>1.500000</td>\n",
              "      <td>1.000000</td>\n",
              "    </tr>\n",
              "  </tbody>\n",
              "</table>\n",
              "</div>\n",
              "      <button class=\"colab-df-convert\" onclick=\"convertToInteractive('df-30fac65f-7d2b-46d2-99f5-ad1bf716e2c1')\"\n",
              "              title=\"Convert this dataframe to an interactive table.\"\n",
              "              style=\"display:none;\">\n",
              "        \n",
              "  <svg xmlns=\"http://www.w3.org/2000/svg\" height=\"24px\"viewBox=\"0 0 24 24\"\n",
              "       width=\"24px\">\n",
              "    <path d=\"M0 0h24v24H0V0z\" fill=\"none\"/>\n",
              "    <path d=\"M18.56 5.44l.94 2.06.94-2.06 2.06-.94-2.06-.94-.94-2.06-.94 2.06-2.06.94zm-11 1L8.5 8.5l.94-2.06 2.06-.94-2.06-.94L8.5 2.5l-.94 2.06-2.06.94zm10 10l.94 2.06.94-2.06 2.06-.94-2.06-.94-.94-2.06-.94 2.06-2.06.94z\"/><path d=\"M17.41 7.96l-1.37-1.37c-.4-.4-.92-.59-1.43-.59-.52 0-1.04.2-1.43.59L10.3 9.45l-7.72 7.72c-.78.78-.78 2.05 0 2.83L4 21.41c.39.39.9.59 1.41.59.51 0 1.02-.2 1.41-.59l7.78-7.78 2.81-2.81c.8-.78.8-2.07 0-2.86zM5.41 20L4 18.59l7.72-7.72 1.47 1.35L5.41 20z\"/>\n",
              "  </svg>\n",
              "      </button>\n",
              "      \n",
              "  <style>\n",
              "    .colab-df-container {\n",
              "      display:flex;\n",
              "      flex-wrap:wrap;\n",
              "      gap: 12px;\n",
              "    }\n",
              "\n",
              "    .colab-df-convert {\n",
              "      background-color: #E8F0FE;\n",
              "      border: none;\n",
              "      border-radius: 50%;\n",
              "      cursor: pointer;\n",
              "      display: none;\n",
              "      fill: #1967D2;\n",
              "      height: 32px;\n",
              "      padding: 0 0 0 0;\n",
              "      width: 32px;\n",
              "    }\n",
              "\n",
              "    .colab-df-convert:hover {\n",
              "      background-color: #E2EBFA;\n",
              "      box-shadow: 0px 1px 2px rgba(60, 64, 67, 0.3), 0px 1px 3px 1px rgba(60, 64, 67, 0.15);\n",
              "      fill: #174EA6;\n",
              "    }\n",
              "\n",
              "    [theme=dark] .colab-df-convert {\n",
              "      background-color: #3B4455;\n",
              "      fill: #D2E3FC;\n",
              "    }\n",
              "\n",
              "    [theme=dark] .colab-df-convert:hover {\n",
              "      background-color: #434B5C;\n",
              "      box-shadow: 0px 1px 3px 1px rgba(0, 0, 0, 0.15);\n",
              "      filter: drop-shadow(0px 1px 2px rgba(0, 0, 0, 0.3));\n",
              "      fill: #FFFFFF;\n",
              "    }\n",
              "  </style>\n",
              "\n",
              "      <script>\n",
              "        const buttonEl =\n",
              "          document.querySelector('#df-30fac65f-7d2b-46d2-99f5-ad1bf716e2c1 button.colab-df-convert');\n",
              "        buttonEl.style.display =\n",
              "          google.colab.kernel.accessAllowed ? 'block' : 'none';\n",
              "\n",
              "        async function convertToInteractive(key) {\n",
              "          const element = document.querySelector('#df-30fac65f-7d2b-46d2-99f5-ad1bf716e2c1');\n",
              "          const dataTable =\n",
              "            await google.colab.kernel.invokeFunction('convertToInteractive',\n",
              "                                                     [key], {});\n",
              "          if (!dataTable) return;\n",
              "\n",
              "          const docLinkHtml = 'Like what you see? Visit the ' +\n",
              "            '<a target=\"_blank\" href=https://colab.research.google.com/notebooks/data_table.ipynb>data table notebook</a>'\n",
              "            + ' to learn more about interactive tables.';\n",
              "          element.innerHTML = '';\n",
              "          dataTable['output_type'] = 'display_data';\n",
              "          await google.colab.output.renderOutput(dataTable, element);\n",
              "          const docLink = document.createElement('div');\n",
              "          docLink.innerHTML = docLinkHtml;\n",
              "          element.appendChild(docLink);\n",
              "        }\n",
              "      </script>\n",
              "    </div>\n",
              "  </div>\n",
              "  "
            ]
          },
          "metadata": {},
          "execution_count": 626
        }
      ],
      "source": [
        "x_noisy.describe()"
      ]
    },
    {
      "cell_type": "code",
      "execution_count": null,
      "metadata": {
        "id": "XDjFf25tid7R"
      },
      "outputs": [],
      "source": [
        "# ST_Slope"
      ]
    },
    {
      "cell_type": "code",
      "execution_count": null,
      "metadata": {
        "id": "eQjyXnBMigN8",
        "colab": {
          "base_uri": "https://localhost:8080/",
          "height": 298
        },
        "outputId": "a8be8f04-9dd7-4aad-dc86-25f8ca76d11c"
      },
      "outputs": [
        {
          "output_type": "execute_result",
          "data": {
            "text/plain": [
              "<matplotlib.axes._subplots.AxesSubplot at 0x7f1dea739550>"
            ]
          },
          "metadata": {},
          "execution_count": 628
        },
        {
          "output_type": "display_data",
          "data": {
            "text/plain": [
              "<Figure size 432x288 with 1 Axes>"
            ],
            "image/png": "[encoded data removed]"
          },
          "metadata": {
            "needs_background": "light"
          }
        }
      ],
      "source": [
        "sns.distplot(x_noisy['ST_Slope'])"
      ]
    },
    {
      "cell_type": "code",
      "execution_count": null,
      "metadata": {
        "id": "mP9DKBn3iiqq",
        "colab": {
          "base_uri": "https://localhost:8080/",
          "height": 298
        },
        "outputId": "d6092e35-a7b3-440f-d375-a2bb5a6b3cd5"
      },
      "outputs": [
        {
          "output_type": "execute_result",
          "data": {
            "text/plain": [
              "<matplotlib.axes._subplots.AxesSubplot at 0x7f1dea5fad10>"
            ]
          },
          "metadata": {},
          "execution_count": 629
        },
        {
          "output_type": "display_data",
          "data": {
            "text/plain": [
              "<Figure size 432x288 with 1 Axes>"
            ],
            "image/png": "[encoded data removed]"
          },
          "metadata": {
            "needs_background": "light"
          }
        }
      ],
      "source": [
        "sns.boxplot(x_noisy['ST_Slope'])"
      ]
    },
    {
      "cell_type": "code",
      "execution_count": null,
      "metadata": {
        "id": "e5ef8Y-hik1m"
      },
      "outputs": [],
      "source": [
        "upper_limit = x_noisy['ST_Slope'].quantile(0.99)\n",
        "lower_limit = x_noisy['ST_Slope'].quantile(0.01)"
      ]
    },
    {
      "cell_type": "code",
      "execution_count": null,
      "metadata": {
        "id": "xAqjVI3linE1",
        "colab": {
          "base_uri": "https://localhost:8080/"
        },
        "outputId": "c5938daa-d3c6-4ddf-f080-d5da5c3251ea"
      },
      "outputs": [
        {
          "output_type": "execute_result",
          "data": {
            "text/plain": [
              "0.0"
            ]
          },
          "metadata": {},
          "execution_count": 631
        }
      ],
      "source": [
        "lower_limit"
      ]
    },
    {
      "cell_type": "code",
      "execution_count": null,
      "metadata": {
        "id": "nh1CDFk6ipE4",
        "colab": {
          "base_uri": "https://localhost:8080/"
        },
        "outputId": "32a8336f-5aba-48e4-c9f4-335769440612"
      },
      "outputs": [
        {
          "output_type": "execute_result",
          "data": {
            "text/plain": [
              "1.0"
            ]
          },
          "metadata": {},
          "execution_count": 632
        }
      ],
      "source": [
        "upper_limit"
      ]
    },
    {
      "cell_type": "code",
      "execution_count": null,
      "metadata": {
        "id": "wch-o9yEirjW"
      },
      "outputs": [],
      "source": [
        "x_noisy['ST_Slope'] = np.where(x_noisy['ST_Slope'] >= upper_limit,\n",
        "        upper_limit,\n",
        "        np.where(x_noisy['ST_Slope'] <= lower_limit,\n",
        "        lower_limit,\n",
        "        x_noisy['ST_Slope']))"
      ]
    },
    {
      "cell_type": "code",
      "execution_count": null,
      "metadata": {
        "id": "XyUsb5XqiuVj",
        "colab": {
          "base_uri": "https://localhost:8080/",
          "height": 298
        },
        "outputId": "4eb77dd4-3da2-4680-8c3c-1e9657f8b69c"
      },
      "outputs": [
        {
          "output_type": "execute_result",
          "data": {
            "text/plain": [
              "<matplotlib.axes._subplots.AxesSubplot at 0x7f1dea5dcf10>"
            ]
          },
          "metadata": {},
          "execution_count": 634
        },
        {
          "output_type": "display_data",
          "data": {
            "text/plain": [
              "<Figure size 432x288 with 1 Axes>"
            ],
            "image/png": "[encoded data removed]"
          },
          "metadata": {
            "needs_background": "light"
          }
        }
      ],
      "source": [
        "#sns.distplot(x_noisy['ST_Slope'])\n",
        "sns.boxplot(x_noisy['ST_Slope'])"
      ]
    },
    {
      "cell_type": "code",
      "execution_count": null,
      "metadata": {
        "id": "Hv-xgV8fixwZ",
        "colab": {
          "base_uri": "https://localhost:8080/",
          "height": 298
        },
        "outputId": "a52bccda-2a8a-4c6c-dedd-97e00426c7ee"
      },
      "outputs": [
        {
          "output_type": "execute_result",
          "data": {
            "text/plain": [
              "<matplotlib.axes._subplots.AxesSubplot at 0x7f1dea594250>"
            ]
          },
          "metadata": {},
          "execution_count": 635
        },
        {
          "output_type": "display_data",
          "data": {
            "text/plain": [
              "<Figure size 432x288 with 1 Axes>"
            ],
            "image/png": "[encoded data removed]"
          },
          "metadata": {
            "needs_background": "light"
          }
        }
      ],
      "source": [
        "sns.distplot(x_noisy['ST_Slope'])"
      ]
    },
    {
      "cell_type": "code",
      "execution_count": null,
      "metadata": {
        "id": "NlHR_q0ri0dj",
        "colab": {
          "base_uri": "https://localhost:8080/"
        },
        "outputId": "00c3862a-592e-4caf-a0cc-f898d41c49fa"
      },
      "outputs": [
        {
          "output_type": "execute_result",
          "data": {
            "text/plain": [
              "ST_Slope\n",
              "0.00    433\n",
              "0.75    308\n",
              "1.00    113\n",
              "dtype: int64"
            ]
          },
          "metadata": {},
          "execution_count": 636
        }
      ],
      "source": [
        "x_noisy.groupby(['ST_Slope']).size()"
      ]
    },
    {
      "cell_type": "code",
      "execution_count": null,
      "metadata": {
        "id": "S47REVcki2_K",
        "colab": {
          "base_uri": "https://localhost:8080/",
          "height": 364
        },
        "outputId": "9cb34ee4-405f-4a09-c70b-4aa013e09c2d"
      },
      "outputs": [
        {
          "output_type": "execute_result",
          "data": {
            "text/plain": [
              "              _c0         Age         sex  ChestPainType   RestingBP  \\\n",
              "count  918.000000  826.000000  826.000000     826.000000  854.000000   \n",
              "mean   458.500000   53.060533    0.757869       0.448547  132.501474   \n",
              "std    265.148072    9.471423    0.428633       0.302641   17.469139   \n",
              "min      0.000000   31.000000    0.000000       0.000000   95.650669   \n",
              "25%    229.250000   46.000000    1.000000       0.000000  120.002061   \n",
              "50%    458.500000   54.000000    1.000000       0.500000  130.077703   \n",
              "75%    687.750000   60.000000    1.000000       0.500000  140.140184   \n",
              "max    917.000000   74.000000    1.000000       1.000000  180.002266   \n",
              "\n",
              "       Cholesterol   FastingBS  RestingECG       MaxHR  ExerciseAngina  \\\n",
              "count   826.000000  854.000000  854.000000  854.000000      826.000000   \n",
              "mean    198.954924    0.235363    0.355094  136.854579        0.399516   \n",
              "std     107.032165    0.424474    0.443800   25.176195        0.490096   \n",
              "min       0.007346    0.000000    0.000000   75.738335        0.000000   \n",
              "25%     174.905043    0.000000    0.000000  119.924836        0.000000   \n",
              "50%     222.930355    0.000000    0.000000  137.982217        0.000000   \n",
              "75%     268.028952    0.000000    0.750000  155.269524        1.000000   \n",
              "max     415.874868    1.000000    1.000000  186.528942        1.000000   \n",
              "\n",
              "          Oldpeak    ST_Slope  HeartDisease  \n",
              "count  854.000000  854.000000    918.000000  \n",
              "mean     0.902860    0.402810      0.553377  \n",
              "std      1.039089    0.416094      0.497414  \n",
              "min     -0.650982    0.000000      0.000000  \n",
              "25%      0.022781    0.000000      0.000000  \n",
              "50%      0.594403    0.000000      1.000000  \n",
              "75%      1.561761    0.750000      1.000000  \n",
              "max      4.023983    1.000000      1.000000  "
            ],
            "text/html": [
              "\n",
              "  <div id=\"df-51267eed-d1ff-466b-9751-79c9e045511c\">\n",
              "    <div class=\"colab-df-container\">\n",
              "      <div>\n",
              "<style scoped>\n",
              "    .dataframe tbody tr th:only-of-type {\n",
              "        vertical-align: middle;\n",
              "    }\n",
              "\n",
              "    .dataframe tbody tr th {\n",
              "        vertical-align: top;\n",
              "    }\n",
              "\n",
              "    .dataframe thead th {\n",
              "        text-align: right;\n",
              "    }\n",
              "</style>\n",
              "<table border=\"1\" class=\"dataframe\">\n",
              "  <thead>\n",
              "    <tr style=\"text-align: right;\">\n",
              "      <th></th>\n",
              "      <th>_c0</th>\n",
              "      <th>Age</th>\n",
              "      <th>sex</th>\n",
              "      <th>ChestPainType</th>\n",
              "      <th>RestingBP</th>\n",
              "      <th>Cholesterol</th>\n",
              "      <th>FastingBS</th>\n",
              "      <th>RestingECG</th>\n",
              "      <th>MaxHR</th>\n",
              "      <th>ExerciseAngina</th>\n",
              "      <th>Oldpeak</th>\n",
              "      <th>ST_Slope</th>\n",
              "      <th>HeartDisease</th>\n",
              "    </tr>\n",
              "  </thead>\n",
              "  <tbody>\n",
              "    <tr>\n",
              "      <th>count</th>\n",
              "      <td>918.000000</td>\n",
              "      <td>826.000000</td>\n",
              "      <td>826.000000</td>\n",
              "      <td>826.000000</td>\n",
              "      <td>854.000000</td>\n",
              "      <td>826.000000</td>\n",
              "      <td>854.000000</td>\n",
              "      <td>854.000000</td>\n",
              "      <td>854.000000</td>\n",
              "      <td>826.000000</td>\n",
              "      <td>854.000000</td>\n",
              "      <td>854.000000</td>\n",
              "      <td>918.000000</td>\n",
              "    </tr>\n",
              "    <tr>\n",
              "      <th>mean</th>\n",
              "      <td>458.500000</td>\n",
              "      <td>53.060533</td>\n",
              "      <td>0.757869</td>\n",
              "      <td>0.448547</td>\n",
              "      <td>132.501474</td>\n",
              "      <td>198.954924</td>\n",
              "      <td>0.235363</td>\n",
              "      <td>0.355094</td>\n",
              "      <td>136.854579</td>\n",
              "      <td>0.399516</td>\n",
              "      <td>0.902860</td>\n",
              "      <td>0.402810</td>\n",
              "      <td>0.553377</td>\n",
              "    </tr>\n",
              "    <tr>\n",
              "      <th>std</th>\n",
              "      <td>265.148072</td>\n",
              "      <td>9.471423</td>\n",
              "      <td>0.428633</td>\n",
              "      <td>0.302641</td>\n",
              "      <td>17.469139</td>\n",
              "      <td>107.032165</td>\n",
              "      <td>0.424474</td>\n",
              "      <td>0.443800</td>\n",
              "      <td>25.176195</td>\n",
              "      <td>0.490096</td>\n",
              "      <td>1.039089</td>\n",
              "      <td>0.416094</td>\n",
              "      <td>0.497414</td>\n",
              "    </tr>\n",
              "    <tr>\n",
              "      <th>min</th>\n",
              "      <td>0.000000</td>\n",
              "      <td>31.000000</td>\n",
              "      <td>0.000000</td>\n",
              "      <td>0.000000</td>\n",
              "      <td>95.650669</td>\n",
              "      <td>0.007346</td>\n",
              "      <td>0.000000</td>\n",
              "      <td>0.000000</td>\n",
              "      <td>75.738335</td>\n",
              "      <td>0.000000</td>\n",
              "      <td>-0.650982</td>\n",
              "      <td>0.000000</td>\n",
              "      <td>0.000000</td>\n",
              "    </tr>\n",
              "    <tr>\n",
              "      <th>25%</th>\n",
              "      <td>229.250000</td>\n",
              "      <td>46.000000</td>\n",
              "      <td>1.000000</td>\n",
              "      <td>0.000000</td>\n",
              "      <td>120.002061</td>\n",
              "      <td>174.905043</td>\n",
              "      <td>0.000000</td>\n",
              "      <td>0.000000</td>\n",
              "      <td>119.924836</td>\n",
              "      <td>0.000000</td>\n",
              "      <td>0.022781</td>\n",
              "      <td>0.000000</td>\n",
              "      <td>0.000000</td>\n",
              "    </tr>\n",
              "    <tr>\n",
              "      <th>50%</th>\n",
              "      <td>458.500000</td>\n",
              "      <td>54.000000</td>\n",
              "      <td>1.000000</td>\n",
              "      <td>0.500000</td>\n",
              "      <td>130.077703</td>\n",
              "      <td>222.930355</td>\n",
              "      <td>0.000000</td>\n",
              "      <td>0.000000</td>\n",
              "      <td>137.982217</td>\n",
              "      <td>0.000000</td>\n",
              "      <td>0.594403</td>\n",
              "      <td>0.000000</td>\n",
              "      <td>1.000000</td>\n",
              "    </tr>\n",
              "    <tr>\n",
              "      <th>75%</th>\n",
              "      <td>687.750000</td>\n",
              "      <td>60.000000</td>\n",
              "      <td>1.000000</td>\n",
              "      <td>0.500000</td>\n",
              "      <td>140.140184</td>\n",
              "      <td>268.028952</td>\n",
              "      <td>0.000000</td>\n",
              "      <td>0.750000</td>\n",
              "      <td>155.269524</td>\n",
              "      <td>1.000000</td>\n",
              "      <td>1.561761</td>\n",
              "      <td>0.750000</td>\n",
              "      <td>1.000000</td>\n",
              "    </tr>\n",
              "    <tr>\n",
              "      <th>max</th>\n",
              "      <td>917.000000</td>\n",
              "      <td>74.000000</td>\n",
              "      <td>1.000000</td>\n",
              "      <td>1.000000</td>\n",
              "      <td>180.002266</td>\n",
              "      <td>415.874868</td>\n",
              "      <td>1.000000</td>\n",
              "      <td>1.000000</td>\n",
              "      <td>186.528942</td>\n",
              "      <td>1.000000</td>\n",
              "      <td>4.023983</td>\n",
              "      <td>1.000000</td>\n",
              "      <td>1.000000</td>\n",
              "    </tr>\n",
              "  </tbody>\n",
              "</table>\n",
              "</div>\n",
              "      <button class=\"colab-df-convert\" onclick=\"convertToInteractive('df-51267eed-d1ff-466b-9751-79c9e045511c')\"\n",
              "              title=\"Convert this dataframe to an interactive table.\"\n",
              "              style=\"display:none;\">\n",
              "        \n",
              "  <svg xmlns=\"http://www.w3.org/2000/svg\" height=\"24px\"viewBox=\"0 0 24 24\"\n",
              "       width=\"24px\">\n",
              "    <path d=\"M0 0h24v24H0V0z\" fill=\"none\"/>\n",
              "    <path d=\"M18.56 5.44l.94 2.06.94-2.06 2.06-.94-2.06-.94-.94-2.06-.94 2.06-2.06.94zm-11 1L8.5 8.5l.94-2.06 2.06-.94-2.06-.94L8.5 2.5l-.94 2.06-2.06.94zm10 10l.94 2.06.94-2.06 2.06-.94-2.06-.94-.94-2.06-.94 2.06-2.06.94z\"/><path d=\"M17.41 7.96l-1.37-1.37c-.4-.4-.92-.59-1.43-.59-.52 0-1.04.2-1.43.59L10.3 9.45l-7.72 7.72c-.78.78-.78 2.05 0 2.83L4 21.41c.39.39.9.59 1.41.59.51 0 1.02-.2 1.41-.59l7.78-7.78 2.81-2.81c.8-.78.8-2.07 0-2.86zM5.41 20L4 18.59l7.72-7.72 1.47 1.35L5.41 20z\"/>\n",
              "  </svg>\n",
              "      </button>\n",
              "      \n",
              "  <style>\n",
              "    .colab-df-container {\n",
              "      display:flex;\n",
              "      flex-wrap:wrap;\n",
              "      gap: 12px;\n",
              "    }\n",
              "\n",
              "    .colab-df-convert {\n",
              "      background-color: #E8F0FE;\n",
              "      border: none;\n",
              "      border-radius: 50%;\n",
              "      cursor: pointer;\n",
              "      display: none;\n",
              "      fill: #1967D2;\n",
              "      height: 32px;\n",
              "      padding: 0 0 0 0;\n",
              "      width: 32px;\n",
              "    }\n",
              "\n",
              "    .colab-df-convert:hover {\n",
              "      background-color: #E2EBFA;\n",
              "      box-shadow: 0px 1px 2px rgba(60, 64, 67, 0.3), 0px 1px 3px 1px rgba(60, 64, 67, 0.15);\n",
              "      fill: #174EA6;\n",
              "    }\n",
              "\n",
              "    [theme=dark] .colab-df-convert {\n",
              "      background-color: #3B4455;\n",
              "      fill: #D2E3FC;\n",
              "    }\n",
              "\n",
              "    [theme=dark] .colab-df-convert:hover {\n",
              "      background-color: #434B5C;\n",
              "      box-shadow: 0px 1px 3px 1px rgba(0, 0, 0, 0.15);\n",
              "      filter: drop-shadow(0px 1px 2px rgba(0, 0, 0, 0.3));\n",
              "      fill: #FFFFFF;\n",
              "    }\n",
              "  </style>\n",
              "\n",
              "      <script>\n",
              "        const buttonEl =\n",
              "          document.querySelector('#df-51267eed-d1ff-466b-9751-79c9e045511c button.colab-df-convert');\n",
              "        buttonEl.style.display =\n",
              "          google.colab.kernel.accessAllowed ? 'block' : 'none';\n",
              "\n",
              "        async function convertToInteractive(key) {\n",
              "          const element = document.querySelector('#df-51267eed-d1ff-466b-9751-79c9e045511c');\n",
              "          const dataTable =\n",
              "            await google.colab.kernel.invokeFunction('convertToInteractive',\n",
              "                                                     [key], {});\n",
              "          if (!dataTable) return;\n",
              "\n",
              "          const docLinkHtml = 'Like what you see? Visit the ' +\n",
              "            '<a target=\"_blank\" href=https://colab.research.google.com/notebooks/data_table.ipynb>data table notebook</a>'\n",
              "            + ' to learn more about interactive tables.';\n",
              "          element.innerHTML = '';\n",
              "          dataTable['output_type'] = 'display_data';\n",
              "          await google.colab.output.renderOutput(dataTable, element);\n",
              "          const docLink = document.createElement('div');\n",
              "          docLink.innerHTML = docLinkHtml;\n",
              "          element.appendChild(docLink);\n",
              "        }\n",
              "      </script>\n",
              "    </div>\n",
              "  </div>\n",
              "  "
            ]
          },
          "metadata": {},
          "execution_count": 637
        }
      ],
      "source": [
        "x_noisy.describe()"
      ]
    },
    {
      "cell_type": "code",
      "execution_count": null,
      "metadata": {
        "id": "BHtojITbi51X",
        "colab": {
          "base_uri": "https://localhost:8080/"
        },
        "outputId": "aee0f699-7b75-40df-fae7-6ac7efa25dbf"
      },
      "outputs": [
        {
          "output_type": "stream",
          "name": "stdout",
          "text": [
            "     _c0   Age  sex  ChestPainType   RestingBP  Cholesterol  FastingBS  \\\n",
            "0      0  39.0  1.0           0.75  140.074667   289.102861        0.0   \n",
            "1      1  49.0  0.0           0.00  159.993632   179.936714        0.0   \n",
            "2      2  36.0  1.0           0.75  129.931487   283.078622        0.0   \n",
            "3      3  48.0  0.0           0.50  137.856413   213.981550        0.0   \n",
            "4      4  54.0  1.0           0.00  149.905604   195.281793        0.0   \n",
            "..   ...   ...  ...            ...         ...          ...        ...   \n",
            "913  913  44.0  1.0            NaN  109.942225          NaN        0.0   \n",
            "914  914  67.0  1.0           0.50  143.945443          NaN        1.0   \n",
            "915  915  57.0  1.0           0.50  129.981999   130.934711        0.0   \n",
            "916  916   NaN  0.0           1.00  129.971256   235.883080        0.0   \n",
            "917  917  37.0  1.0           0.00  138.114228   174.903332        0.0   \n",
            "\n",
            "     RestingECG       MaxHR  ExerciseAngina   Oldpeak  ST_Slope  HeartDisease  \n",
            "0          0.00  172.090992             0.0 -0.054836      0.75             0  \n",
            "1          0.00  155.926912             0.0  1.109584      0.00             1  \n",
            "2          0.75   97.972960             0.0  0.182897       NaN             0  \n",
            "3          0.00  107.996869             1.0  1.526186      0.00             1  \n",
            "4           NaN  122.055576             0.0  0.098028      0.75             0  \n",
            "..          ...         ...             ...       ...       ...           ...  \n",
            "913        0.00  131.876501             0.0  1.209299      0.00             1  \n",
            "914        0.00  141.003780             0.0  3.347847      0.00             1  \n",
            "915         NaN  115.085670             1.0  1.192848      0.00             1  \n",
            "916        1.00  173.963094             0.0  0.022987      0.00             1  \n",
            "917        0.00  173.242775             0.0  0.192222      1.00             0  \n",
            "\n",
            "[918 rows x 13 columns]\n"
          ]
        }
      ],
      "source": [
        "print(x_noisy)"
      ]
    },
    {
      "cell_type": "code",
      "execution_count": null,
      "metadata": {
        "id": "E3wT72lMi8mN"
      },
      "outputs": [],
      "source": [
        "#### outliers have been removed "
      ]
    },
    {
      "cell_type": "code",
      "execution_count": null,
      "metadata": {
        "id": "b_jnCtAIjDiL"
      },
      "outputs": [],
      "source": [
        "## twra prepei na antikathistisw tis NaN times "
      ]
    },
    {
      "cell_type": "code",
      "execution_count": null,
      "metadata": {
        "id": "heL5G-tVjGA-"
      },
      "outputs": [],
      "source": [
        "##################################3####  Replace NaN times ##########################################"
      ]
    },
    {
      "cell_type": "code",
      "execution_count": null,
      "metadata": {
        "id": "ZVYRXAzUjJiO"
      },
      "outputs": [],
      "source": [
        "#### fill NaN values "
      ]
    },
    {
      "cell_type": "code",
      "execution_count": null,
      "metadata": {
        "id": "wMQuxPkcjMJQ",
        "colab": {
          "base_uri": "https://localhost:8080/"
        },
        "outputId": "55af2307-e634-49f0-99ff-b46a0af5bbcf"
      },
      "outputs": [
        {
          "output_type": "stream",
          "name": "stdout",
          "text": [
            "     _c0   Age  sex  ChestPainType   RestingBP  Cholesterol  FastingBS  \\\n",
            "0      0  39.0  1.0           0.75  140.074667   289.102861        0.0   \n",
            "1      1  49.0  0.0           0.00  159.993632   179.936714        0.0   \n",
            "2      2  36.0  1.0           0.75  129.931487   283.078622        0.0   \n",
            "3      3  48.0  0.0           0.50  137.856413   213.981550        0.0   \n",
            "4      4  54.0  1.0           0.00  149.905604   195.281793        0.0   \n",
            "..   ...   ...  ...            ...         ...          ...        ...   \n",
            "913  913  44.0  1.0            NaN  109.942225          NaN        0.0   \n",
            "914  914  67.0  1.0           0.50  143.945443          NaN        1.0   \n",
            "915  915  57.0  1.0           0.50  129.981999   130.934711        0.0   \n",
            "916  916   NaN  0.0           1.00  129.971256   235.883080        0.0   \n",
            "917  917  37.0  1.0           0.00  138.114228   174.903332        0.0   \n",
            "\n",
            "     RestingECG       MaxHR  ExerciseAngina   Oldpeak  ST_Slope  HeartDisease  \n",
            "0          0.00  172.090992             0.0 -0.054836      0.75             0  \n",
            "1          0.00  155.926912             0.0  1.109584      0.00             1  \n",
            "2          0.75   97.972960             0.0  0.182897       NaN             0  \n",
            "3          0.00  107.996869             1.0  1.526186      0.00             1  \n",
            "4           NaN  122.055576             0.0  0.098028      0.75             0  \n",
            "..          ...         ...             ...       ...       ...           ...  \n",
            "913        0.00  131.876501             0.0  1.209299      0.00             1  \n",
            "914        0.00  141.003780             0.0  3.347847      0.00             1  \n",
            "915         NaN  115.085670             1.0  1.192848      0.00             1  \n",
            "916        1.00  173.963094             0.0  0.022987      0.00             1  \n",
            "917        0.00  173.242775             0.0  0.192222      1.00             0  \n",
            "\n",
            "[918 rows x 13 columns]\n"
          ]
        }
      ],
      "source": [
        "print(x_noisy)"
      ]
    },
    {
      "cell_type": "code",
      "execution_count": null,
      "metadata": {
        "id": "i7Xc2pkgjSKa",
        "colab": {
          "base_uri": "https://localhost:8080/",
          "height": 364
        },
        "outputId": "c6ad2e9f-c2f5-40be-c665-657b4549b9b0"
      },
      "outputs": [
        {
          "output_type": "execute_result",
          "data": {
            "text/plain": [
              "              _c0         Age         sex  ChestPainType   RestingBP  \\\n",
              "count  918.000000  826.000000  826.000000     826.000000  854.000000   \n",
              "mean   458.500000   53.060533    0.757869       0.448547  132.501474   \n",
              "std    265.148072    9.471423    0.428633       0.302641   17.469139   \n",
              "min      0.000000   31.000000    0.000000       0.000000   95.650669   \n",
              "25%    229.250000   46.000000    1.000000       0.000000  120.002061   \n",
              "50%    458.500000   54.000000    1.000000       0.500000  130.077703   \n",
              "75%    687.750000   60.000000    1.000000       0.500000  140.140184   \n",
              "max    917.000000   74.000000    1.000000       1.000000  180.002266   \n",
              "\n",
              "       Cholesterol   FastingBS  RestingECG       MaxHR  ExerciseAngina  \\\n",
              "count   826.000000  854.000000  854.000000  854.000000      826.000000   \n",
              "mean    198.954924    0.235363    0.355094  136.854579        0.399516   \n",
              "std     107.032165    0.424474    0.443800   25.176195        0.490096   \n",
              "min       0.007346    0.000000    0.000000   75.738335        0.000000   \n",
              "25%     174.905043    0.000000    0.000000  119.924836        0.000000   \n",
              "50%     222.930355    0.000000    0.000000  137.982217        0.000000   \n",
              "75%     268.028952    0.000000    0.750000  155.269524        1.000000   \n",
              "max     415.874868    1.000000    1.000000  186.528942        1.000000   \n",
              "\n",
              "          Oldpeak    ST_Slope  HeartDisease  \n",
              "count  854.000000  854.000000    918.000000  \n",
              "mean     0.902860    0.402810      0.553377  \n",
              "std      1.039089    0.416094      0.497414  \n",
              "min     -0.650982    0.000000      0.000000  \n",
              "25%      0.022781    0.000000      0.000000  \n",
              "50%      0.594403    0.000000      1.000000  \n",
              "75%      1.561761    0.750000      1.000000  \n",
              "max      4.023983    1.000000      1.000000  "
            ],
            "text/html": [
              "\n",
              "  <div id=\"df-bd1f17ff-6f4f-4f63-9724-ed4e9dd58f7a\">\n",
              "    <div class=\"colab-df-container\">\n",
              "      <div>\n",
              "<style scoped>\n",
              "    .dataframe tbody tr th:only-of-type {\n",
              "        vertical-align: middle;\n",
              "    }\n",
              "\n",
              "    .dataframe tbody tr th {\n",
              "        vertical-align: top;\n",
              "    }\n",
              "\n",
              "    .dataframe thead th {\n",
              "        text-align: right;\n",
              "    }\n",
              "</style>\n",
              "<table border=\"1\" class=\"dataframe\">\n",
              "  <thead>\n",
              "    <tr style=\"text-align: right;\">\n",
              "      <th></th>\n",
              "      <th>_c0</th>\n",
              "      <th>Age</th>\n",
              "      <th>sex</th>\n",
              "      <th>ChestPainType</th>\n",
              "      <th>RestingBP</th>\n",
              "      <th>Cholesterol</th>\n",
              "      <th>FastingBS</th>\n",
              "      <th>RestingECG</th>\n",
              "      <th>MaxHR</th>\n",
              "      <th>ExerciseAngina</th>\n",
              "      <th>Oldpeak</th>\n",
              "      <th>ST_Slope</th>\n",
              "      <th>HeartDisease</th>\n",
              "    </tr>\n",
              "  </thead>\n",
              "  <tbody>\n",
              "    <tr>\n",
              "      <th>count</th>\n",
              "      <td>918.000000</td>\n",
              "      <td>826.000000</td>\n",
              "      <td>826.000000</td>\n",
              "      <td>826.000000</td>\n",
              "      <td>854.000000</td>\n",
              "      <td>826.000000</td>\n",
              "      <td>854.000000</td>\n",
              "      <td>854.000000</td>\n",
              "      <td>854.000000</td>\n",
              "      <td>826.000000</td>\n",
              "      <td>854.000000</td>\n",
              "      <td>854.000000</td>\n",
              "      <td>918.000000</td>\n",
              "    </tr>\n",
              "    <tr>\n",
              "      <th>mean</th>\n",
              "      <td>458.500000</td>\n",
              "      <td>53.060533</td>\n",
              "      <td>0.757869</td>\n",
              "      <td>0.448547</td>\n",
              "      <td>132.501474</td>\n",
              "      <td>198.954924</td>\n",
              "      <td>0.235363</td>\n",
              "      <td>0.355094</td>\n",
              "      <td>136.854579</td>\n",
              "      <td>0.399516</td>\n",
              "      <td>0.902860</td>\n",
              "      <td>0.402810</td>\n",
              "      <td>0.553377</td>\n",
              "    </tr>\n",
              "    <tr>\n",
              "      <th>std</th>\n",
              "      <td>265.148072</td>\n",
              "      <td>9.471423</td>\n",
              "      <td>0.428633</td>\n",
              "      <td>0.302641</td>\n",
              "      <td>17.469139</td>\n",
              "      <td>107.032165</td>\n",
              "      <td>0.424474</td>\n",
              "      <td>0.443800</td>\n",
              "      <td>25.176195</td>\n",
              "      <td>0.490096</td>\n",
              "      <td>1.039089</td>\n",
              "      <td>0.416094</td>\n",
              "      <td>0.497414</td>\n",
              "    </tr>\n",
              "    <tr>\n",
              "      <th>min</th>\n",
              "      <td>0.000000</td>\n",
              "      <td>31.000000</td>\n",
              "      <td>0.000000</td>\n",
              "      <td>0.000000</td>\n",
              "      <td>95.650669</td>\n",
              "      <td>0.007346</td>\n",
              "      <td>0.000000</td>\n",
              "      <td>0.000000</td>\n",
              "      <td>75.738335</td>\n",
              "      <td>0.000000</td>\n",
              "      <td>-0.650982</td>\n",
              "      <td>0.000000</td>\n",
              "      <td>0.000000</td>\n",
              "    </tr>\n",
              "    <tr>\n",
              "      <th>25%</th>\n",
              "      <td>229.250000</td>\n",
              "      <td>46.000000</td>\n",
              "      <td>1.000000</td>\n",
              "      <td>0.000000</td>\n",
              "      <td>120.002061</td>\n",
              "      <td>174.905043</td>\n",
              "      <td>0.000000</td>\n",
              "      <td>0.000000</td>\n",
              "      <td>119.924836</td>\n",
              "      <td>0.000000</td>\n",
              "      <td>0.022781</td>\n",
              "      <td>0.000000</td>\n",
              "      <td>0.000000</td>\n",
              "    </tr>\n",
              "    <tr>\n",
              "      <th>50%</th>\n",
              "      <td>458.500000</td>\n",
              "      <td>54.000000</td>\n",
              "      <td>1.000000</td>\n",
              "      <td>0.500000</td>\n",
              "      <td>130.077703</td>\n",
              "      <td>222.930355</td>\n",
              "      <td>0.000000</td>\n",
              "      <td>0.000000</td>\n",
              "      <td>137.982217</td>\n",
              "      <td>0.000000</td>\n",
              "      <td>0.594403</td>\n",
              "      <td>0.000000</td>\n",
              "      <td>1.000000</td>\n",
              "    </tr>\n",
              "    <tr>\n",
              "      <th>75%</th>\n",
              "      <td>687.750000</td>\n",
              "      <td>60.000000</td>\n",
              "      <td>1.000000</td>\n",
              "      <td>0.500000</td>\n",
              "      <td>140.140184</td>\n",
              "      <td>268.028952</td>\n",
              "      <td>0.000000</td>\n",
              "      <td>0.750000</td>\n",
              "      <td>155.269524</td>\n",
              "      <td>1.000000</td>\n",
              "      <td>1.561761</td>\n",
              "      <td>0.750000</td>\n",
              "      <td>1.000000</td>\n",
              "    </tr>\n",
              "    <tr>\n",
              "      <th>max</th>\n",
              "      <td>917.000000</td>\n",
              "      <td>74.000000</td>\n",
              "      <td>1.000000</td>\n",
              "      <td>1.000000</td>\n",
              "      <td>180.002266</td>\n",
              "      <td>415.874868</td>\n",
              "      <td>1.000000</td>\n",
              "      <td>1.000000</td>\n",
              "      <td>186.528942</td>\n",
              "      <td>1.000000</td>\n",
              "      <td>4.023983</td>\n",
              "      <td>1.000000</td>\n",
              "      <td>1.000000</td>\n",
              "    </tr>\n",
              "  </tbody>\n",
              "</table>\n",
              "</div>\n",
              "      <button class=\"colab-df-convert\" onclick=\"convertToInteractive('df-bd1f17ff-6f4f-4f63-9724-ed4e9dd58f7a')\"\n",
              "              title=\"Convert this dataframe to an interactive table.\"\n",
              "              style=\"display:none;\">\n",
              "        \n",
              "  <svg xmlns=\"http://www.w3.org/2000/svg\" height=\"24px\"viewBox=\"0 0 24 24\"\n",
              "       width=\"24px\">\n",
              "    <path d=\"M0 0h24v24H0V0z\" fill=\"none\"/>\n",
              "    <path d=\"M18.56 5.44l.94 2.06.94-2.06 2.06-.94-2.06-.94-.94-2.06-.94 2.06-2.06.94zm-11 1L8.5 8.5l.94-2.06 2.06-.94-2.06-.94L8.5 2.5l-.94 2.06-2.06.94zm10 10l.94 2.06.94-2.06 2.06-.94-2.06-.94-.94-2.06-.94 2.06-2.06.94z\"/><path d=\"M17.41 7.96l-1.37-1.37c-.4-.4-.92-.59-1.43-.59-.52 0-1.04.2-1.43.59L10.3 9.45l-7.72 7.72c-.78.78-.78 2.05 0 2.83L4 21.41c.39.39.9.59 1.41.59.51 0 1.02-.2 1.41-.59l7.78-7.78 2.81-2.81c.8-.78.8-2.07 0-2.86zM5.41 20L4 18.59l7.72-7.72 1.47 1.35L5.41 20z\"/>\n",
              "  </svg>\n",
              "      </button>\n",
              "      \n",
              "  <style>\n",
              "    .colab-df-container {\n",
              "      display:flex;\n",
              "      flex-wrap:wrap;\n",
              "      gap: 12px;\n",
              "    }\n",
              "\n",
              "    .colab-df-convert {\n",
              "      background-color: #E8F0FE;\n",
              "      border: none;\n",
              "      border-radius: 50%;\n",
              "      cursor: pointer;\n",
              "      display: none;\n",
              "      fill: #1967D2;\n",
              "      height: 32px;\n",
              "      padding: 0 0 0 0;\n",
              "      width: 32px;\n",
              "    }\n",
              "\n",
              "    .colab-df-convert:hover {\n",
              "      background-color: #E2EBFA;\n",
              "      box-shadow: 0px 1px 2px rgba(60, 64, 67, 0.3), 0px 1px 3px 1px rgba(60, 64, 67, 0.15);\n",
              "      fill: #174EA6;\n",
              "    }\n",
              "\n",
              "    [theme=dark] .colab-df-convert {\n",
              "      background-color: #3B4455;\n",
              "      fill: #D2E3FC;\n",
              "    }\n",
              "\n",
              "    [theme=dark] .colab-df-convert:hover {\n",
              "      background-color: #434B5C;\n",
              "      box-shadow: 0px 1px 3px 1px rgba(0, 0, 0, 0.15);\n",
              "      filter: drop-shadow(0px 1px 2px rgba(0, 0, 0, 0.3));\n",
              "      fill: #FFFFFF;\n",
              "    }\n",
              "  </style>\n",
              "\n",
              "      <script>\n",
              "        const buttonEl =\n",
              "          document.querySelector('#df-bd1f17ff-6f4f-4f63-9724-ed4e9dd58f7a button.colab-df-convert');\n",
              "        buttonEl.style.display =\n",
              "          google.colab.kernel.accessAllowed ? 'block' : 'none';\n",
              "\n",
              "        async function convertToInteractive(key) {\n",
              "          const element = document.querySelector('#df-bd1f17ff-6f4f-4f63-9724-ed4e9dd58f7a');\n",
              "          const dataTable =\n",
              "            await google.colab.kernel.invokeFunction('convertToInteractive',\n",
              "                                                     [key], {});\n",
              "          if (!dataTable) return;\n",
              "\n",
              "          const docLinkHtml = 'Like what you see? Visit the ' +\n",
              "            '<a target=\"_blank\" href=https://colab.research.google.com/notebooks/data_table.ipynb>data table notebook</a>'\n",
              "            + ' to learn more about interactive tables.';\n",
              "          element.innerHTML = '';\n",
              "          dataTable['output_type'] = 'display_data';\n",
              "          await google.colab.output.renderOutput(dataTable, element);\n",
              "          const docLink = document.createElement('div');\n",
              "          docLink.innerHTML = docLinkHtml;\n",
              "          element.appendChild(docLink);\n",
              "        }\n",
              "      </script>\n",
              "    </div>\n",
              "  </div>\n",
              "  "
            ]
          },
          "metadata": {},
          "execution_count": 644
        }
      ],
      "source": [
        "x_noisy.describe()"
      ]
    },
    {
      "cell_type": "code",
      "execution_count": null,
      "metadata": {
        "id": "DRTX0oVrjVBa"
      },
      "outputs": [],
      "source": [
        "## ftiaxnw to testdf gia na kanw test on how to fill NaN values\n",
        "# testdf1 = x_noisy"
      ]
    },
    {
      "cell_type": "code",
      "execution_count": null,
      "metadata": {
        "id": "VY6I4mtVjXX6"
      },
      "outputs": [],
      "source": [
        "# print(testdf1)"
      ]
    },
    {
      "cell_type": "code",
      "execution_count": null,
      "metadata": {
        "id": "lWLifB3ijZyv"
      },
      "outputs": [],
      "source": [
        "# from sklearn.impute import KNNImputer\n",
        "# imputer = KNNImputer(n_neighbors=5)\n",
        "# testdf = pd.DataFrame(imputer.fit_transform(testdf),columns = testdf.columns)"
      ]
    },
    {
      "cell_type": "code",
      "execution_count": null,
      "metadata": {
        "id": "oz9K2bknjelk",
        "colab": {
          "base_uri": "https://localhost:8080/"
        },
        "outputId": "2d2b25d7-c13e-4570-9c52-b09fa33d96f7"
      },
      "outputs": [
        {
          "output_type": "execute_result",
          "data": {
            "text/plain": [
              "_c0               False\n",
              "Age                True\n",
              "sex                True\n",
              "ChestPainType      True\n",
              "RestingBP          True\n",
              "Cholesterol        True\n",
              "FastingBS          True\n",
              "RestingECG         True\n",
              "MaxHR              True\n",
              "ExerciseAngina     True\n",
              "Oldpeak            True\n",
              "ST_Slope           True\n",
              "HeartDisease      False\n",
              "dtype: bool"
            ]
          },
          "metadata": {},
          "execution_count": 648
        }
      ],
      "source": [
        "x_noisy.isna().any()"
      ]
    },
    {
      "cell_type": "code",
      "execution_count": null,
      "metadata": {
        "id": "TqRH5R9Gjh0z"
      },
      "outputs": [],
      "source": [
        "# There are different ways to handle missing data. Some methods such as removing the entire observation if it has a missing value or replacing \n",
        "# the missing values with mean, median or mode values. However, these methods can waste valuable data or reduce the variability of your dataset. \n",
        "# In contrast, KNN Imputer maintains the value and variability of your datasets and yet it is more precise and efficient than using the average \n",
        "# values."
      ]
    },
    {
      "cell_type": "code",
      "execution_count": null,
      "metadata": {
        "id": "q6JpSC4Cjkjq"
      },
      "outputs": [],
      "source": [
        "### https://stackoverflow.com/questions/64900801/implementing-knn-imputation-on-categorical-variables-in-an-sklearn-pipeline"
      ]
    },
    {
      "cell_type": "code",
      "execution_count": null,
      "metadata": {
        "id": "lrddpk0XjnLA",
        "colab": {
          "base_uri": "https://localhost:8080/"
        },
        "outputId": "43f9e7f0-cf71-44f9-cb06-45cebc5ff370"
      },
      "outputs": [
        {
          "output_type": "execute_result",
          "data": {
            "text/plain": [
              "array([[ 0.00000000e+00,  3.90000000e+01,  1.00000000e+00, ...,\n",
              "        -5.48364365e-02,  7.50000000e-01,  0.00000000e+00],\n",
              "       [ 1.00000000e+00,  4.90000000e+01,  0.00000000e+00, ...,\n",
              "         1.10958428e+00,  0.00000000e+00,  1.00000000e+00],\n",
              "       [ 2.00000000e+00,  3.60000000e+01,  1.00000000e+00, ...,\n",
              "         1.82896793e-01,  3.75000000e-01,  0.00000000e+00],\n",
              "       ...,\n",
              "       [ 9.15000000e+02,  5.70000000e+01,  1.00000000e+00, ...,\n",
              "         1.19284772e+00,  0.00000000e+00,  1.00000000e+00],\n",
              "       [ 9.16000000e+02,  5.21666667e+01,  0.00000000e+00, ...,\n",
              "         2.29871469e-02,  0.00000000e+00,  1.00000000e+00],\n",
              "       [ 9.17000000e+02,  3.70000000e+01,  1.00000000e+00, ...,\n",
              "         1.92221619e-01,  1.00000000e+00,  0.00000000e+00]])"
            ]
          },
          "metadata": {},
          "execution_count": 651
        }
      ],
      "source": [
        "import numpy as np\n",
        "import pandas as pd\n",
        "from sklearn.preprocessing import LabelEncoder\n",
        "from sklearn.impute import KNNImputer\n",
        "    \n",
        "    \n",
        "imputer = KNNImputer(n_neighbors=6)\n",
        "imputer.fit_transform(x_noisy)"
      ]
    },
    {
      "cell_type": "code",
      "execution_count": null,
      "metadata": {
        "id": "5Kt8_Q_ljxJr"
      },
      "outputs": [],
      "source": [
        "import numpy as np\n",
        "import pandas as pd\n",
        "from sklearn.preprocessing import LabelEncoder\n",
        "from sklearn.experimental import enable_iterative_imputer\n",
        "from sklearn.impute import IterativeImputer\n",
        "from sklearn.ensemble import RandomForestRegressor, RandomForestClassifier\n",
        "    \n",
        "\n",
        "categorical = [ 'sex', 'ChestPainType', 'FastingBS', 'RestingECG', 'ExerciseAngina' , 'ST_Slope']                  \n",
        "numerical = ['Age', 'Cholesterol', 'RestingBP',  'MaxHR', 'Oldpeak']                  \n",
        "\n",
        "x_noisy[categorical] = x_noisy[categorical].apply(lambda series: pd.Series(\n",
        "    LabelEncoder().fit_transform(series[series.notnull()]),\n",
        "    index=series[series.notnull()].index\n",
        "))\n",
        "\n",
        "# επομενως στα αριθμιτικά το mean και στα υπολοιπα το most frequent\n",
        "imp_num = IterativeImputer(estimator=RandomForestRegressor(),initial_strategy='mean',max_iter=10, random_state=0)\n",
        "imp_cat = IterativeImputer(estimator=RandomForestClassifier(), initial_strategy='most_frequent',max_iter=10, random_state=0)\n",
        "    \n",
        "x_noisy[numerical] = imp_num.fit_transform(x_noisy[numerical])\n",
        "x_noisy[categorical] = imp_cat.fit_transform(x_noisy[categorical])"
      ]
    },
    {
      "cell_type": "code",
      "execution_count": null,
      "metadata": {
        "id": "l5EIILRikD0m",
        "colab": {
          "base_uri": "https://localhost:8080/"
        },
        "outputId": "ab73c05e-e7b0-4931-d617-d5036c2f4dd1"
      },
      "outputs": [
        {
          "output_type": "stream",
          "name": "stdout",
          "text": [
            "     _c0    Age  sex  ChestPainType   RestingBP  Cholesterol  FastingBS  \\\n",
            "0      0  39.00  1.0            2.0  140.074667   289.102861        0.0   \n",
            "1      1  49.00  0.0            0.0  159.993632   179.936714        0.0   \n",
            "2      2  36.00  1.0            2.0  129.931487   283.078622        0.0   \n",
            "3      3  48.00  0.0            1.0  137.856413   213.981550        0.0   \n",
            "4      4  54.00  1.0            0.0  149.905604   195.281793        0.0   \n",
            "..   ...    ...  ...            ...         ...          ...        ...   \n",
            "913  913  44.00  1.0            1.0  109.942225   196.247062        0.0   \n",
            "914  914  67.00  1.0            1.0  143.945443   219.771702        1.0   \n",
            "915  915  57.00  1.0            1.0  129.981999   130.934711        0.0   \n",
            "916  916  44.93  0.0            3.0  129.971256   235.883080        0.0   \n",
            "917  917  37.00  1.0            0.0  138.114228   174.903332        0.0   \n",
            "\n",
            "     RestingECG       MaxHR  ExerciseAngina   Oldpeak  ST_Slope  HeartDisease  \n",
            "0           0.0  172.090992             0.0 -0.054836       1.0             0  \n",
            "1           0.0  155.926912             0.0  1.109584       0.0             1  \n",
            "2           1.0   97.972960             0.0  0.182897       1.0             0  \n",
            "3           0.0  107.996869             1.0  1.526186       0.0             1  \n",
            "4           0.0  122.055576             0.0  0.098028       1.0             0  \n",
            "..          ...         ...             ...       ...       ...           ...  \n",
            "913         0.0  131.876501             0.0  1.209299       0.0             1  \n",
            "914         0.0  141.003780             0.0  3.347847       0.0             1  \n",
            "915         0.0  115.085670             1.0  1.192848       0.0             1  \n",
            "916         2.0  173.963094             0.0  0.022987       0.0             1  \n",
            "917         0.0  173.242775             0.0  0.192222       2.0             0  \n",
            "\n",
            "[918 rows x 13 columns]\n"
          ]
        }
      ],
      "source": [
        "print(x_noisy)"
      ]
    },
    {
      "cell_type": "code",
      "execution_count": null,
      "metadata": {
        "id": "Oxjr-XDxkF5E",
        "colab": {
          "base_uri": "https://localhost:8080/",
          "height": 364
        },
        "outputId": "bdc7236d-43d4-421e-9b9e-99f8318fd808"
      },
      "outputs": [
        {
          "output_type": "execute_result",
          "data": {
            "text/plain": [
              "              _c0         Age         sex  ChestPainType   RestingBP  \\\n",
              "count  918.000000  918.000000  918.000000     918.000000  918.000000   \n",
              "mean   458.500000   53.023617    0.770153       1.038126  132.413631   \n",
              "std    265.148072    9.111281    0.420964       0.835203   16.984665   \n",
              "min      0.000000   31.000000    0.000000       0.000000   95.650669   \n",
              "25%    229.250000   47.000000    1.000000       0.000000  120.019168   \n",
              "50%    458.500000   54.000000    1.000000       1.000000  130.095305   \n",
              "75%    687.750000   59.000000    1.000000       1.000000  140.074547   \n",
              "max    917.000000   74.000000    1.000000       3.000000  180.002266   \n",
              "\n",
              "       Cholesterol   FastingBS  RestingECG       MaxHR  ExerciseAngina  \\\n",
              "count   918.000000  918.000000  918.000000  918.000000      918.000000   \n",
              "mean    198.609473    0.224401    0.604575  136.831513        0.413943   \n",
              "std     102.980449    0.417415    0.824556   24.576520        0.492807   \n",
              "min       0.007346    0.000000    0.000000   75.738335        0.000000   \n",
              "25%     171.069294    0.000000    0.000000  119.965657        0.000000   \n",
              "50%     220.085107    0.000000    0.000000  137.889854        0.000000   \n",
              "75%     263.983747    0.000000    1.000000  154.925186        1.000000   \n",
              "max     415.874868    1.000000    2.000000  186.528942        1.000000   \n",
              "\n",
              "          Oldpeak    ST_Slope  HeartDisease  \n",
              "count  918.000000  918.000000    918.000000  \n",
              "mean     0.900679    0.608932      0.553377  \n",
              "std      1.010258    0.697876      0.497414  \n",
              "min     -0.650982    0.000000      0.000000  \n",
              "25%      0.037163    0.000000      0.000000  \n",
              "50%      0.693103    0.000000      1.000000  \n",
              "75%      1.525916    1.000000      1.000000  \n",
              "max      4.023983    2.000000      1.000000  "
            ],
            "text/html": [
              "\n",
              "  <div id=\"df-97b056b9-5e4b-4bab-86e5-3ebf9a2dd50b\">\n",
              "    <div class=\"colab-df-container\">\n",
              "      <div>\n",
              "<style scoped>\n",
              "    .dataframe tbody tr th:only-of-type {\n",
              "        vertical-align: middle;\n",
              "    }\n",
              "\n",
              "    .dataframe tbody tr th {\n",
              "        vertical-align: top;\n",
              "    }\n",
              "\n",
              "    .dataframe thead th {\n",
              "        text-align: right;\n",
              "    }\n",
              "</style>\n",
              "<table border=\"1\" class=\"dataframe\">\n",
              "  <thead>\n",
              "    <tr style=\"text-align: right;\">\n",
              "      <th></th>\n",
              "      <th>_c0</th>\n",
              "      <th>Age</th>\n",
              "      <th>sex</th>\n",
              "      <th>ChestPainType</th>\n",
              "      <th>RestingBP</th>\n",
              "      <th>Cholesterol</th>\n",
              "      <th>FastingBS</th>\n",
              "      <th>RestingECG</th>\n",
              "      <th>MaxHR</th>\n",
              "      <th>ExerciseAngina</th>\n",
              "      <th>Oldpeak</th>\n",
              "      <th>ST_Slope</th>\n",
              "      <th>HeartDisease</th>\n",
              "    </tr>\n",
              "  </thead>\n",
              "  <tbody>\n",
              "    <tr>\n",
              "      <th>count</th>\n",
              "      <td>918.000000</td>\n",
              "      <td>918.000000</td>\n",
              "      <td>918.000000</td>\n",
              "      <td>918.000000</td>\n",
              "      <td>918.000000</td>\n",
              "      <td>918.000000</td>\n",
              "      <td>918.000000</td>\n",
              "      <td>918.000000</td>\n",
              "      <td>918.000000</td>\n",
              "      <td>918.000000</td>\n",
              "      <td>918.000000</td>\n",
              "      <td>918.000000</td>\n",
              "      <td>918.000000</td>\n",
              "    </tr>\n",
              "    <tr>\n",
              "      <th>mean</th>\n",
              "      <td>458.500000</td>\n",
              "      <td>53.023617</td>\n",
              "      <td>0.770153</td>\n",
              "      <td>1.038126</td>\n",
              "      <td>132.413631</td>\n",
              "      <td>198.609473</td>\n",
              "      <td>0.224401</td>\n",
              "      <td>0.604575</td>\n",
              "      <td>136.831513</td>\n",
              "      <td>0.413943</td>\n",
              "      <td>0.900679</td>\n",
              "      <td>0.608932</td>\n",
              "      <td>0.553377</td>\n",
              "    </tr>\n",
              "    <tr>\n",
              "      <th>std</th>\n",
              "      <td>265.148072</td>\n",
              "      <td>9.111281</td>\n",
              "      <td>0.420964</td>\n",
              "      <td>0.835203</td>\n",
              "      <td>16.984665</td>\n",
              "      <td>102.980449</td>\n",
              "      <td>0.417415</td>\n",
              "      <td>0.824556</td>\n",
              "      <td>24.576520</td>\n",
              "      <td>0.492807</td>\n",
              "      <td>1.010258</td>\n",
              "      <td>0.697876</td>\n",
              "      <td>0.497414</td>\n",
              "    </tr>\n",
              "    <tr>\n",
              "      <th>min</th>\n",
              "      <td>0.000000</td>\n",
              "      <td>31.000000</td>\n",
              "      <td>0.000000</td>\n",
              "      <td>0.000000</td>\n",
              "      <td>95.650669</td>\n",
              "      <td>0.007346</td>\n",
              "      <td>0.000000</td>\n",
              "      <td>0.000000</td>\n",
              "      <td>75.738335</td>\n",
              "      <td>0.000000</td>\n",
              "      <td>-0.650982</td>\n",
              "      <td>0.000000</td>\n",
              "      <td>0.000000</td>\n",
              "    </tr>\n",
              "    <tr>\n",
              "      <th>25%</th>\n",
              "      <td>229.250000</td>\n",
              "      <td>47.000000</td>\n",
              "      <td>1.000000</td>\n",
              "      <td>0.000000</td>\n",
              "      <td>120.019168</td>\n",
              "      <td>171.069294</td>\n",
              "      <td>0.000000</td>\n",
              "      <td>0.000000</td>\n",
              "      <td>119.965657</td>\n",
              "      <td>0.000000</td>\n",
              "      <td>0.037163</td>\n",
              "      <td>0.000000</td>\n",
              "      <td>0.000000</td>\n",
              "    </tr>\n",
              "    <tr>\n",
              "      <th>50%</th>\n",
              "      <td>458.500000</td>\n",
              "      <td>54.000000</td>\n",
              "      <td>1.000000</td>\n",
              "      <td>1.000000</td>\n",
              "      <td>130.095305</td>\n",
              "      <td>220.085107</td>\n",
              "      <td>0.000000</td>\n",
              "      <td>0.000000</td>\n",
              "      <td>137.889854</td>\n",
              "      <td>0.000000</td>\n",
              "      <td>0.693103</td>\n",
              "      <td>0.000000</td>\n",
              "      <td>1.000000</td>\n",
              "    </tr>\n",
              "    <tr>\n",
              "      <th>75%</th>\n",
              "      <td>687.750000</td>\n",
              "      <td>59.000000</td>\n",
              "      <td>1.000000</td>\n",
              "      <td>1.000000</td>\n",
              "      <td>140.074547</td>\n",
              "      <td>263.983747</td>\n",
              "      <td>0.000000</td>\n",
              "      <td>1.000000</td>\n",
              "      <td>154.925186</td>\n",
              "      <td>1.000000</td>\n",
              "      <td>1.525916</td>\n",
              "      <td>1.000000</td>\n",
              "      <td>1.000000</td>\n",
              "    </tr>\n",
              "    <tr>\n",
              "      <th>max</th>\n",
              "      <td>917.000000</td>\n",
              "      <td>74.000000</td>\n",
              "      <td>1.000000</td>\n",
              "      <td>3.000000</td>\n",
              "      <td>180.002266</td>\n",
              "      <td>415.874868</td>\n",
              "      <td>1.000000</td>\n",
              "      <td>2.000000</td>\n",
              "      <td>186.528942</td>\n",
              "      <td>1.000000</td>\n",
              "      <td>4.023983</td>\n",
              "      <td>2.000000</td>\n",
              "      <td>1.000000</td>\n",
              "    </tr>\n",
              "  </tbody>\n",
              "</table>\n",
              "</div>\n",
              "      <button class=\"colab-df-convert\" onclick=\"convertToInteractive('df-97b056b9-5e4b-4bab-86e5-3ebf9a2dd50b')\"\n",
              "              title=\"Convert this dataframe to an interactive table.\"\n",
              "              style=\"display:none;\">\n",
              "        \n",
              "  <svg xmlns=\"http://www.w3.org/2000/svg\" height=\"24px\"viewBox=\"0 0 24 24\"\n",
              "       width=\"24px\">\n",
              "    <path d=\"M0 0h24v24H0V0z\" fill=\"none\"/>\n",
              "    <path d=\"M18.56 5.44l.94 2.06.94-2.06 2.06-.94-2.06-.94-.94-2.06-.94 2.06-2.06.94zm-11 1L8.5 8.5l.94-2.06 2.06-.94-2.06-.94L8.5 2.5l-.94 2.06-2.06.94zm10 10l.94 2.06.94-2.06 2.06-.94-2.06-.94-.94-2.06-.94 2.06-2.06.94z\"/><path d=\"M17.41 7.96l-1.37-1.37c-.4-.4-.92-.59-1.43-.59-.52 0-1.04.2-1.43.59L10.3 9.45l-7.72 7.72c-.78.78-.78 2.05 0 2.83L4 21.41c.39.39.9.59 1.41.59.51 0 1.02-.2 1.41-.59l7.78-7.78 2.81-2.81c.8-.78.8-2.07 0-2.86zM5.41 20L4 18.59l7.72-7.72 1.47 1.35L5.41 20z\"/>\n",
              "  </svg>\n",
              "      </button>\n",
              "      \n",
              "  <style>\n",
              "    .colab-df-container {\n",
              "      display:flex;\n",
              "      flex-wrap:wrap;\n",
              "      gap: 12px;\n",
              "    }\n",
              "\n",
              "    .colab-df-convert {\n",
              "      background-color: #E8F0FE;\n",
              "      border: none;\n",
              "      border-radius: 50%;\n",
              "      cursor: pointer;\n",
              "      display: none;\n",
              "      fill: #1967D2;\n",
              "      height: 32px;\n",
              "      padding: 0 0 0 0;\n",
              "      width: 32px;\n",
              "    }\n",
              "\n",
              "    .colab-df-convert:hover {\n",
              "      background-color: #E2EBFA;\n",
              "      box-shadow: 0px 1px 2px rgba(60, 64, 67, 0.3), 0px 1px 3px 1px rgba(60, 64, 67, 0.15);\n",
              "      fill: #174EA6;\n",
              "    }\n",
              "\n",
              "    [theme=dark] .colab-df-convert {\n",
              "      background-color: #3B4455;\n",
              "      fill: #D2E3FC;\n",
              "    }\n",
              "\n",
              "    [theme=dark] .colab-df-convert:hover {\n",
              "      background-color: #434B5C;\n",
              "      box-shadow: 0px 1px 3px 1px rgba(0, 0, 0, 0.15);\n",
              "      filter: drop-shadow(0px 1px 2px rgba(0, 0, 0, 0.3));\n",
              "      fill: #FFFFFF;\n",
              "    }\n",
              "  </style>\n",
              "\n",
              "      <script>\n",
              "        const buttonEl =\n",
              "          document.querySelector('#df-97b056b9-5e4b-4bab-86e5-3ebf9a2dd50b button.colab-df-convert');\n",
              "        buttonEl.style.display =\n",
              "          google.colab.kernel.accessAllowed ? 'block' : 'none';\n",
              "\n",
              "        async function convertToInteractive(key) {\n",
              "          const element = document.querySelector('#df-97b056b9-5e4b-4bab-86e5-3ebf9a2dd50b');\n",
              "          const dataTable =\n",
              "            await google.colab.kernel.invokeFunction('convertToInteractive',\n",
              "                                                     [key], {});\n",
              "          if (!dataTable) return;\n",
              "\n",
              "          const docLinkHtml = 'Like what you see? Visit the ' +\n",
              "            '<a target=\"_blank\" href=https://colab.research.google.com/notebooks/data_table.ipynb>data table notebook</a>'\n",
              "            + ' to learn more about interactive tables.';\n",
              "          element.innerHTML = '';\n",
              "          dataTable['output_type'] = 'display_data';\n",
              "          await google.colab.output.renderOutput(dataTable, element);\n",
              "          const docLink = document.createElement('div');\n",
              "          docLink.innerHTML = docLinkHtml;\n",
              "          element.appendChild(docLink);\n",
              "        }\n",
              "      </script>\n",
              "    </div>\n",
              "  </div>\n",
              "  "
            ]
          },
          "metadata": {},
          "execution_count": 654
        }
      ],
      "source": [
        "x_noisy.describe()"
      ]
    },
    {
      "cell_type": "code",
      "execution_count": null,
      "metadata": {
        "id": "MarMHT9ukHs7",
        "colab": {
          "base_uri": "https://localhost:8080/"
        },
        "outputId": "6db0eb3f-eb2a-4852-e7a3-383a87d535fd"
      },
      "outputs": [
        {
          "output_type": "stream",
          "name": "stdout",
          "text": [
            "     _c0    Age  sex  ChestPainType   RestingBP  Cholesterol  FastingBS  \\\n",
            "0      0  39.00  1.0            2.0  140.074667   289.102861        0.0   \n",
            "1      1  49.00  0.0            0.0  159.993632   179.936714        0.0   \n",
            "2      2  36.00  1.0            2.0  129.931487   283.078622        0.0   \n",
            "3      3  48.00  0.0            1.0  137.856413   213.981550        0.0   \n",
            "4      4  54.00  1.0            0.0  149.905604   195.281793        0.0   \n",
            "..   ...    ...  ...            ...         ...          ...        ...   \n",
            "913  913  44.00  1.0            1.0  109.942225   196.247062        0.0   \n",
            "914  914  67.00  1.0            1.0  143.945443   219.771702        1.0   \n",
            "915  915  57.00  1.0            1.0  129.981999   130.934711        0.0   \n",
            "916  916  44.93  0.0            3.0  129.971256   235.883080        0.0   \n",
            "917  917  37.00  1.0            0.0  138.114228   174.903332        0.0   \n",
            "\n",
            "     RestingECG       MaxHR  ExerciseAngina   Oldpeak  ST_Slope  HeartDisease  \n",
            "0           0.0  172.090992             0.0 -0.054836       1.0             0  \n",
            "1           0.0  155.926912             0.0  1.109584       0.0             1  \n",
            "2           1.0   97.972960             0.0  0.182897       1.0             0  \n",
            "3           0.0  107.996869             1.0  1.526186       0.0             1  \n",
            "4           0.0  122.055576             0.0  0.098028       1.0             0  \n",
            "..          ...         ...             ...       ...       ...           ...  \n",
            "913         0.0  131.876501             0.0  1.209299       0.0             1  \n",
            "914         0.0  141.003780             0.0  3.347847       0.0             1  \n",
            "915         0.0  115.085670             1.0  1.192848       0.0             1  \n",
            "916         2.0  173.963094             0.0  0.022987       0.0             1  \n",
            "917         0.0  173.242775             0.0  0.192222       2.0             0  \n",
            "\n",
            "[918 rows x 13 columns]\n"
          ]
        }
      ],
      "source": [
        "print(x_noisy)"
      ]
    },
    {
      "cell_type": "code",
      "execution_count": null,
      "metadata": {
        "id": "fC3JkhUCkJ1a",
        "colab": {
          "base_uri": "https://localhost:8080/"
        },
        "outputId": "49a56f0a-539b-4713-a0ec-bf73ada64ebf"
      },
      "outputs": [
        {
          "output_type": "execute_result",
          "data": {
            "text/plain": [
              "ChestPainType\n",
              "0.0    233\n",
              "1.0    487\n",
              "2.0    128\n",
              "3.0     70\n",
              "dtype: int64"
            ]
          },
          "metadata": {},
          "execution_count": 656
        }
      ],
      "source": [
        "x_noisy.groupby(['ChestPainType']).size()"
      ]
    },
    {
      "cell_type": "code",
      "execution_count": null,
      "metadata": {
        "id": "C3Xn7_LKkMzz"
      },
      "outputs": [],
      "source": [
        "x_noisy.to_csv(\"/content/kaggleDATAset/noisyfile2.csv\",index=False)"
      ]
    },
    {
      "cell_type": "code",
      "execution_count": null,
      "metadata": {
        "id": "y1qpW3REkPIN"
      },
      "outputs": [],
      "source": [
        "dfn = spark.read.csv(\"/content/kaggleDATAset/noisyfile2.csv\", header=True, inferSchema=True )"
      ]
    },
    {
      "cell_type": "code",
      "execution_count": null,
      "metadata": {
        "id": "LDGrEDpykRDZ",
        "colab": {
          "base_uri": "https://localhost:8080/"
        },
        "outputId": "185d2fc4-0736-499e-d257-731ce7b12942"
      },
      "outputs": [
        {
          "output_type": "stream",
          "name": "stdout",
          "text": [
            "+---+-----+---+-------------+------------------+------------------+---------+----------+------------------+--------------+--------------------+--------+------------+\n",
            "|_c0|  Age|sex|ChestPainType|         RestingBP|       Cholesterol|FastingBS|RestingECG|             MaxHR|ExerciseAngina|             Oldpeak|ST_Slope|HeartDisease|\n",
            "+---+-----+---+-------------+------------------+------------------+---------+----------+------------------+--------------+--------------------+--------+------------+\n",
            "|  0| 39.0|1.0|          2.0|140.07466656670223|289.10286095506933|      0.0|       0.0|172.09099156193284|           0.0|-0.05483643651941964|     1.0|           0|\n",
            "|  1| 49.0|0.0|          0.0|159.99363206516253|179.93671391672518|      0.0|       0.0| 155.9269124561408|           0.0|  1.1095842756681535|     0.0|           1|\n",
            "|  2| 36.0|1.0|          2.0| 129.9314867970465| 283.0786218380064|      0.0|       1.0| 97.97295999999045|           0.0| 0.18289679321606442|     1.0|           0|\n",
            "|  3| 48.0|0.0|          1.0|137.85641306553043|213.98154971911848|      0.0|       0.0|107.99686865142371|           1.0|   1.526186331960874|     0.0|           1|\n",
            "|  4| 54.0|1.0|          0.0|149.90560352353546|195.28179251894738|      0.0|       0.0|122.05557586760784|           0.0| 0.09802782636415552|     1.0|           0|\n",
            "|  5| 39.0|1.0|          1.0|120.10883286824316|339.01874258635854|      0.0|       0.0|169.91862679601152|           0.0| 0.13304950888652226|     1.0|           0|\n",
            "|  6| 44.0|0.0|          2.0| 130.0455091751822| 236.7589874680023|      0.0|       0.0|169.98106925401933|           0.0| 0.10664354769679636|     1.0|           0|\n",
            "|  7| 54.0|1.0|          2.0|110.10391043420877| 207.9601024697373|      0.0|       0.0|141.87103117519501|           0.0|-0.09544706251472253|     1.0|           0|\n",
            "|  8| 37.0|1.0|          0.0|140.14095369368306|207.01573293107373|      0.0|       0.0|130.00241257824902|           1.0|  1.6754231826808206|     0.0|           1|\n",
            "|  9| 47.0|0.0|          2.0| 120.1133266070447|283.97544092778134|      0.0|       0.0|120.03244510510696|           0.0|-0.05540038444324542|     1.0|           0|\n",
            "| 10| 36.0|0.0|          0.0|116.35870773570227| 210.9864975833685|      0.0|       0.0|141.88161343327738|           0.0|-0.13260720575247323|     1.0|           0|\n",
            "| 11| 58.0|1.0|          2.0|136.34380740429583|164.12361336286958|      0.0|       1.0| 98.97555048397115|           1.0|   1.978046330358696|     0.0|           1|\n",
            "| 12| 39.0|1.0|          1.0|120.02702482870139|203.87625197487603|      0.0|       0.0| 144.9974229143222|           0.0|  1.0108953387167479|     1.0|           0|\n",
            "| 13| 49.0|1.0|          1.0|130.37747264339313| 234.0030945318487|      0.0|       0.0|132.62881004442042|           1.0|  1.1159150091016934|     0.0|           1|\n",
            "| 14| 41.0|0.0|          0.0|117.80522414196734| 211.0100987596279|      0.0|       1.0|137.07318830064222|           0.0| -0.1582654583168905|     1.0|           0|\n",
            "| 15|49.39|0.0|          2.0|120.04892581110204|273.10769235551965|      0.0|       0.0|149.96934100522597|           0.0|  1.3507405359513076|     0.0|           0|\n",
            "| 16| 37.0|1.0|          1.0| 110.0638478533062|  196.025272765079|      0.0|       0.0|154.00208325195635|           1.0|-0.03423508053010008|     0.0|           1|\n",
            "| 17| 43.0|0.0|          3.0|119.93322822098136|200.82761619808542|      0.0|       0.0|165.03739758013572|           0.0| 0.10243133350276211|     2.0|           0|\n",
            "| 18| 60.0|1.0|          1.0|137.31638301348815| 247.9574912194813|      0.0|       0.0| 125.0270166416679|           0.0|  0.9703859940387377|     0.0|           1|\n",
            "| 19| 36.0|1.0|          2.0|120.01852965307371| 267.0625560544231|      0.0|       0.0|159.93624309661547|           0.0|  3.0389483277278098|     0.0|           1|\n",
            "+---+-----+---+-------------+------------------+------------------+---------+----------+------------------+--------------+--------------------+--------+------------+\n",
            "only showing top 20 rows\n",
            "\n"
          ]
        }
      ],
      "source": [
        "dfn.show()"
      ]
    },
    {
      "cell_type": "code",
      "execution_count": null,
      "metadata": {
        "id": "7RLgZfukkUer"
      },
      "outputs": [],
      "source": [
        "#### tha valw to dataset a trexei st model pou eftiaxa na dw apodwsei"
      ]
    },
    {
      "cell_type": "code",
      "execution_count": null,
      "metadata": {
        "id": "Nx3YDiMmkXOf"
      },
      "outputs": [],
      "source": [
        "train_data2,validation_test2 = dfn.randomSplit([0.8,0.2],seed=100)\n",
        "validation2, test2 = validation_test2.randomSplit([0.5, 0.5], seed = 4)"
      ]
    },
    {
      "cell_type": "code",
      "execution_count": null,
      "metadata": {
        "id": "tCvDm3fskZzb"
      },
      "outputs": [],
      "source": [
        "from pyspark.ml import Pipeline, PipelineModel\n",
        "from pyspark.ml.feature import Bucketizer, RegexTokenizer, StopWordsRemover, CountVectorizer, IDF, NGram, StringIndexer, VectorAssembler\n",
        "from pyspark.ml.classification import LogisticRegression, RandomForestClassifier, GBTClassifier, NaiveBayes,DecisionTreeClassifier\n",
        "from pyspark.ml.tuning import CrossValidator, ParamGridBuilder\n",
        "from pyspark.ml.evaluation import MulticlassClassificationEvaluator\n",
        "from pyspark.ml.evaluation import BinaryClassificationEvaluator\n",
        "from pyspark.ml.classification import LinearSVC"
      ]
    },
    {
      "cell_type": "code",
      "execution_count": null,
      "metadata": {
        "id": "nWkTwswmkejo"
      },
      "outputs": [],
      "source": [
        "from pyspark.ml.feature import VectorAssembler\n",
        "\n",
        "assembler = VectorAssembler(inputCols=[\n",
        " 'sex',\n",
        " 'Age',\n",
        " 'RestingBP',\n",
        " 'Oldpeak',\n",
        " 'ExerciseAngina',\n",
        " 'RestingECG',\n",
        " 'FastingBS',\n",
        " 'ST_Slope',\n",
        " 'MaxHR',\n",
        " 'Cholesterol',\n",
        " 'ChestPainType'],outputCol='features')"
      ]
    },
    {
      "cell_type": "code",
      "execution_count": null,
      "metadata": {
        "id": "lxLwS60ikg_-"
      },
      "outputs": [],
      "source": [
        "# Import libraries\n",
        "from pyspark.ml.tuning import ParamGridBuilder, CrossValidator\n",
        "from pyspark.ml import Pipeline, PipelineModel\n",
        "\n",
        "pipeline = Pipeline(stages=[])\n",
        "\n",
        "basePipeline =[assembler]"
      ]
    },
    {
      "cell_type": "code",
      "execution_count": null,
      "metadata": {
        "id": "Qg6DPs5zkrW5"
      },
      "outputs": [],
      "source": [
        "#lr = LogisticRegression(labelCol=\"HeartDisease\", featuresCol=\"features\", maxIter=20)\n",
        "lr = LogisticRegression(maxIter=10,labelCol='HeartDisease',featuresCol='features')\n",
        "pipeline_LR = basePipeline + [lr]\n",
        "pg_lr = (ParamGridBuilder()\n",
        "          .baseOn({pipeline.stages: pipeline_LR})\n",
        "          .addGrid(lr.regParam,[0.01, .08])\n",
        "          .addGrid(lr.elasticNetParam,[0.1, 0.8])\n",
        "          .build())\n",
        "\n",
        "rf = RandomForestClassifier(labelCol='HeartDisease',featuresCol='features',numTrees=50)\n",
        "pl_rf = basePipeline + [rf]\n",
        "pg_rf = (ParamGridBuilder()\n",
        "      .baseOn({pipeline.stages: pl_rf})\n",
        "      .addGrid(rf.numTrees, [3, 10])\n",
        "      .build())\n",
        "\n",
        "lsvcCV = LinearSVC(maxIter=10,regParam=0.1,featuresCol=\"features\", labelCol='HeartDisease')\n",
        "pl_lsvc = basePipeline + [lsvcCV]\n",
        "pg_lsvc = (ParamGridBuilder()\n",
        "       .baseOn({pipeline.stages: pl_rf})\n",
        "       .addGrid(lsvcCV.regParam, [0.01,0.1,10.0,100.0])\n",
        "       .addGrid(lsvcCV.maxIter, [10, 100, 1000])\n",
        "       .build())\n",
        "\n",
        "# gbtCV = GBTClassifier(labelCol='HeartDisease',featuresCol='features' , maxIter=30, maxDepth=3)\n",
        "# pipeline_gbtCV = basePipeline + [gbtCV]\n",
        "\n",
        "# Set the Parameters grid\n",
        "# pg_gbt = (ParamGridBuilder()\n",
        "#              .baseOn({pipeline.stages: pipeline_gbtCV}) \n",
        "#              .addGrid(gbtCV.maxDepth, [2, 5])\n",
        "#              .addGrid(gbtCV.maxIter, [10, 30])\n",
        "#              .build())\n",
        "\n",
        "\n",
        "# dtc = DecisionTreeClassifier(labelCol='HeartDisease',featuresCol='features', maxDepth=3)\n",
        "# pl_dtc= basePipeline + [dtc]\n",
        "# pg_dtc = (ParamGridBuilder()\n",
        "#        .baseOn({pipeline.stages: pl_dtc})\n",
        "#        .addGrid(dtc.maxDepth, [4, 5, 6, 7])\n",
        "#        .addGrid(dtc.maxBins, [24, 28, 32, 36])\n",
        "#        .build())\n",
        "\n",
        "\n",
        "\n",
        "\n",
        " \n",
        "\n",
        "# nb = NaiveBayes(labelCol='HeartDisease',featuresCol='features')\n",
        "# pl_nb = basePipeline + [nb]\n",
        "# pg_nb = (ParamGridBuilder()\n",
        "# .baseOn({pipeline.stages: pl_nb})\n",
        "# .addGrid(nb.smoothing,[0.8,1.0])\n",
        "# .build())\n",
        "\n",
        "\n"
      ]
    },
    {
      "cell_type": "code",
      "execution_count": null,
      "metadata": {
        "id": "IilA6nXGkuLM"
      },
      "outputs": [],
      "source": [
        "paramGrid =pg_rf+pg_lr+pg_lsvc"
      ]
    },
    {
      "cell_type": "code",
      "execution_count": null,
      "metadata": {
        "id": "uY_dykadkwIu"
      },
      "outputs": [],
      "source": [
        "cvMM = (CrossValidator()\n",
        "      .setEstimator(pipeline)\n",
        "      .setEvaluator(MulticlassClassificationEvaluator(labelCol=\"HeartDisease\", predictionCol=\"prediction\", metricName=\"accuracy\"))\n",
        "      .setEstimatorParamMaps(paramGrid)\n",
        "      .setNumFolds(10))"
      ]
    },
    {
      "cell_type": "code",
      "execution_count": null,
      "metadata": {
        "id": "DoY9gId0kyJ4"
      },
      "outputs": [],
      "source": [
        "cvModel = cvMM.fit(train_data2)"
      ]
    },
    {
      "cell_type": "code",
      "execution_count": null,
      "metadata": {
        "id": "6qUNys9_k0C2"
      },
      "outputs": [],
      "source": [
        "predictionsMM = cvModel.transform(validation_test2)\n"
      ]
    },
    {
      "cell_type": "code",
      "execution_count": null,
      "metadata": {
        "id": "-fFnZTsLk2NU",
        "colab": {
          "base_uri": "https://localhost:8080/"
        },
        "outputId": "fb01a76a-59bf-4a2f-fb4c-b3f24d93be0e"
      },
      "outputs": [
        {
          "output_type": "stream",
          "name": "stdout",
          "text": [
            "+----------+-----+\n",
            "|prediction|count|\n",
            "+----------+-----+\n",
            "|       0.0|   75|\n",
            "|       1.0|   98|\n",
            "+----------+-----+\n",
            "\n"
          ]
        }
      ],
      "source": [
        "predictionsMM.groupBy(\"prediction\").count().show()\n"
      ]
    },
    {
      "cell_type": "code",
      "execution_count": null,
      "metadata": {
        "id": "uzMck9N_k5N4"
      },
      "outputs": [],
      "source": [
        "from sklearn.metrics import roc_curve , auc\n",
        "from pyspark.ml.functions import vector_to_array\n",
        "\n",
        "#https://stackoverflow.com/questions/52847408/pyspark-extract-roc-curve\n",
        "\n",
        "\n",
        "predictionsMM=cvModel.transform(validation_test2)\n",
        "y_score = predictionsMM.select(vector_to_array(\"rawPrediction\")[1]).rdd.keys().collect()   \n",
        "y_true = predictionsMM.select(\"HeartDisease\").rdd.keys().collect()\n",
        "fpr, tpr, thresholds = roc_curve(y_true, y_score)\n",
        "auc = auc(fpr, tpr)"
      ]
    },
    {
      "cell_type": "code",
      "execution_count": null,
      "metadata": {
        "id": "W_GeL4wDk8x1",
        "colab": {
          "base_uri": "https://localhost:8080/"
        },
        "outputId": "15f6c570-c9c2-4835-a69c-606c435637b6"
      },
      "outputs": [
        {
          "output_type": "stream",
          "name": "stdout",
          "text": [
            "Area under ROC Curve: 0.9167\n"
          ]
        }
      ],
      "source": [
        "print(\"Area under ROC Curve: {:.4f}\".format(auc))"
      ]
    },
    {
      "cell_type": "code",
      "source": [
        "from sklearn import metrics\n",
        "import matplotlib.pyplot as plt\n",
        "\n",
        "plt.figure()\n",
        "plt.plot([0,1], [0,1], 'k--', color='orange')\n",
        "plt.plot(fpr, tpr, label='auc = {:.3f}'.format(auc))\n",
        "plt.xlabel('False positive rate')\n",
        "plt.ylabel('True positive rate')\n",
        "plt.title('ROC curve')\n",
        "plt.legend(loc='lower right')\n",
        "plt.grid()\n",
        "plt.show()"
      ],
      "metadata": {
        "colab": {
          "base_uri": "https://localhost:8080/",
          "height": 295
        },
        "id": "mAZaxgs7JK6S",
        "outputId": "1a944cb1-0c07-4547-e067-ae1e35002bb1"
      },
      "execution_count": null,
      "outputs": [
        {
          "output_type": "display_data",
          "data": {
            "text/plain": [
              "<Figure size 432x288 with 1 Axes>"
            ],
            "image/png": "[encoded data removed]"
          },
          "metadata": {
            "needs_background": "light"
          }
        }
      ]
    },
    {
      "cell_type": "code",
      "execution_count": null,
      "metadata": {
        "id": "yju8swVZk_H3",
        "colab": {
          "base_uri": "https://localhost:8080/"
        },
        "outputId": "146f0996-494b-48f0-bc22-d8ef52f129bd"
      },
      "outputs": [
        {
          "output_type": "stream",
          "name": "stdout",
          "text": [
            "MM accuracy: 87.8613\n"
          ]
        }
      ],
      "source": [
        "#accuracy\n",
        "\n",
        "from pyspark.ml.evaluation import MulticlassClassificationEvaluator\n",
        "\n",
        "acc_evaluator = MulticlassClassificationEvaluator(labelCol=\"HeartDisease\", predictionCol=\"prediction\", metricName=\"accuracy\")\n",
        "\n",
        "MM_acc = acc_evaluator.evaluate(predictionsMM)\n",
        "print(\"MM accuracy: {:.4f}\".format(MM_acc*100))"
      ]
    },
    {
      "cell_type": "code",
      "execution_count": null,
      "metadata": {
        "id": "Dp1cKeGGlEHV",
        "colab": {
          "base_uri": "https://localhost:8080/"
        },
        "outputId": "64a41669-4be8-4c39-8ec7-3285bcdefa3d"
      },
      "outputs": [
        {
          "output_type": "stream",
          "name": "stdout",
          "text": [
            "F1 score on validation: 0.8784 \n",
            "Area under PR on validation set: 0.8620 \n"
          ]
        }
      ],
      "source": [
        "# use MulticlassClassificationEvaluator to get f1 scores\n",
        "evaluator1 = MulticlassClassificationEvaluator(labelCol=\"HeartDisease\")\n",
        "\n",
        "# use BinaryClassificationEvaluator to get area under PR curve\n",
        "evaluator2 = BinaryClassificationEvaluator( rawPredictionCol=\"prediction\", labelCol=\"HeartDisease\")\n",
        "\n",
        "# make evaluation and print f1 and area under PR score per model\n",
        "f1 = evaluator1.evaluate(predictionsMM, {evaluator1.metricName:'f1'})\n",
        "print(\"F1 score on validation: {:.4f} \".format(f1))\n",
        "\n",
        "pr = evaluator2.evaluate(predictionsMM, {evaluator2.metricName:'areaUnderPR'})\n",
        "print(\"Area under PR on validation set: {:.4f} \".format(pr))"
      ]
    },
    {
      "cell_type": "code",
      "execution_count": null,
      "metadata": {
        "id": "rHTK1YRrlGmy"
      },
      "outputs": [],
      "source": [
        "### ta apotelesmata pou eixe vgalei to modelo me to grid st dataset xwris thoryvo kai NaN times kai xwris outliers\n",
        "### oi opoies htan kai oi kalyteres\n",
        "\n",
        "# auc :       0.94\n",
        "# accuracy :  88.9\n",
        "# f1 :        0.89\n",
        "# PR :        89.3"
      ]
    }
  ],
  "metadata": {
    "colab": {
      "collapsed_sections": [],
      "name": "gkolovos_Noisy_Data.ipynb",
      "provenance": [],
      "authorship_tag": "ABX9TyMuSUNW6dBD1GJ4qsMjBfLX",
      "include_colab_link": true
    },
    "kernelspec": {
      "display_name": "Python 3",
      "name": "python3"
    },
    "language_info": {
      "name": "python"
    }
  },
  "nbformat": 4,
  "nbformat_minor": 0
}