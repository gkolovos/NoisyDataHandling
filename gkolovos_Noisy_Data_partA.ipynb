{
  "nbformat": 4,
  "nbformat_minor": 0,
  "metadata": {
    "colab": {
      "name": "gkolovos_Noisy_Data_partA.ipynb",
      "provenance": [],
      "collapsed_sections": [],
      "authorship_tag": "ABX9TyPCp8yUUZkNCRa/AIcn6MRV"
    },
    "kernelspec": {
      "name": "python3",
      "display_name": "Python 3"
    },
    "language_info": {
      "name": "python"
    }
  },
  "cells": [
    {
      "cell_type": "code",
      "execution_count": null,
      "metadata": {
        "colab": {
          "base_uri": "https://localhost:8080/"
        },
        "id": "lHzBu5cb5rmy",
        "outputId": "694f2825-6e1a-4533-96de-951d771821b7"
      },
      "outputs": [
        {
          "output_type": "stream",
          "name": "stdout",
          "text": [
            "Looking in indexes: https://pypi.org/simple, https://us-python.pkg.dev/colab-wheels/public/simple/\n",
            "Requirement already satisfied: pyspark in /usr/local/lib/python3.7/dist-packages (3.2.1)\n",
            "Requirement already satisfied: py4j==0.10.9.3 in /usr/local/lib/python3.7/dist-packages (from pyspark) (0.10.9.3)\n"
          ]
        }
      ],
      "source": [
        "## this script creates a new noisy dataset with null values and outliers included\n",
        "## the new dataset is created and was given the name out.csv\n",
        "## in order to fast forward the process a copy of the first file that we created was uploaded to https://github.com/gkolovos/kaggleDATAset\n",
        "## the out.csv file in that path is the file that we used in our work in order to perform the denoising model\n",
        "## please note that this script creates random noise in the whole dataset so keep in mind that if re-run the script a new out.csv file will be created\n",
        "## for our convenience we uploaded the file we used in our work on github\n",
        "\n",
        "\n",
        "#install pyspark\n",
        "! pip install pyspark"
      ]
    },
    {
      "cell_type": "code",
      "source": [
        "# ignore warnings\n",
        "import warnings\n",
        "warnings.filterwarnings(\"ignore\")"
      ],
      "metadata": {
        "id": "vPEA5Wee6I3G"
      },
      "execution_count": null,
      "outputs": []
    },
    {
      "cell_type": "code",
      "source": [
        "from pyspark.sql import SparkSession\n",
        "from pyspark.sql.types import *\n",
        "from pyspark.sql.functions import *\n",
        "import seaborn as sns"
      ],
      "metadata": {
        "id": "3OP8M2jU6WX5"
      },
      "execution_count": null,
      "outputs": []
    },
    {
      "cell_type": "code",
      "source": [
        "spark = SparkSession.builder.appName('Heart_Disease_pySpark').getOrCreate()\n",
        "spark"
      ],
      "metadata": {
        "colab": {
          "base_uri": "https://localhost:8080/",
          "height": 222
        },
        "id": "K0sNzDx_6Ysa",
        "outputId": "c6bed4ee-9d3d-4163-943d-2f86a2da3430"
      },
      "execution_count": null,
      "outputs": [
        {
          "output_type": "execute_result",
          "data": {
            "text/plain": [
              "<pyspark.sql.session.SparkSession at 0x7f658f05f7d0>"
            ],
            "text/html": [
              "\n",
              "            <div>\n",
              "                <p><b>SparkSession - in-memory</b></p>\n",
              "                \n",
              "        <div>\n",
              "            <p><b>SparkContext</b></p>\n",
              "\n",
              "            <p><a href=\"http://13421a5c7c15:4040\">Spark UI</a></p>\n",
              "\n",
              "            <dl>\n",
              "              <dt>Version</dt>\n",
              "                <dd><code>v3.2.1</code></dd>\n",
              "              <dt>Master</dt>\n",
              "                <dd><code>local[*]</code></dd>\n",
              "              <dt>AppName</dt>\n",
              "                <dd><code>Heart_Disease_pySpark</code></dd>\n",
              "            </dl>\n",
              "        </div>\n",
              "        \n",
              "            </div>\n",
              "        "
            ]
          },
          "metadata": {},
          "execution_count": 1174
        }
      ]
    },
    {
      "cell_type": "code",
      "source": [
        "! git clone https://github.com/gkolovos/kaggleDATAset"
      ],
      "metadata": {
        "colab": {
          "base_uri": "https://localhost:8080/"
        },
        "id": "H_-Hwyxc6eKv",
        "outputId": "8b81a86e-adaa-47d3-c01d-a60483a56c49"
      },
      "execution_count": null,
      "outputs": [
        {
          "output_type": "stream",
          "name": "stdout",
          "text": [
            "fatal: destination path 'kaggleDATAset' already exists and is not an empty directory.\n"
          ]
        }
      ]
    },
    {
      "cell_type": "code",
      "source": [
        "ls kaggleDATAset"
      ],
      "metadata": {
        "colab": {
          "base_uri": "https://localhost:8080/"
        },
        "id": "Ev6ACTIu6g3O",
        "outputId": "967b6584-547c-48af-ac68-cd1d41219220"
      },
      "execution_count": null,
      "outputs": [
        {
          "output_type": "stream",
          "name": "stdout",
          "text": [
            "heart.csv  noisyfile2.csv  out.csv\n"
          ]
        }
      ]
    },
    {
      "cell_type": "code",
      "source": [
        "#create spark dataframe\n",
        "df = spark.read.csv(\"/content/kaggleDATAset/heart.csv\", header=True, inferSchema=True )\n"
      ],
      "metadata": {
        "id": "BNlCIKyZ6jAL"
      },
      "execution_count": null,
      "outputs": []
    },
    {
      "cell_type": "code",
      "source": [
        "df.show()"
      ],
      "metadata": {
        "colab": {
          "base_uri": "https://localhost:8080/"
        },
        "id": "WPAGkf0Z6mCq",
        "outputId": "d1f54aaa-061c-46cf-82b1-e6f127010d1b"
      },
      "execution_count": null,
      "outputs": [
        {
          "output_type": "stream",
          "name": "stdout",
          "text": [
            "+---+---+-------------+---------+-----------+---------+----------+-----+--------------+-------+--------+------------+\n",
            "|Age|Sex|ChestPainType|RestingBP|Cholesterol|FastingBS|RestingECG|MaxHR|ExerciseAngina|Oldpeak|ST_Slope|HeartDisease|\n",
            "+---+---+-------------+---------+-----------+---------+----------+-----+--------------+-------+--------+------------+\n",
            "| 40|  M|          ATA|      140|        289|        0|    Normal|  172|             N|    0.0|      Up|           0|\n",
            "| 49|  F|          NAP|      160|        180|        0|    Normal|  156|             N|    1.0|    Flat|           1|\n",
            "| 37|  M|          ATA|      130|        283|        0|        ST|   98|             N|    0.0|      Up|           0|\n",
            "| 48|  F|          ASY|      138|        214|        0|    Normal|  108|             Y|    1.5|    Flat|           1|\n",
            "| 54|  M|          NAP|      150|        195|        0|    Normal|  122|             N|    0.0|      Up|           0|\n",
            "| 39|  M|          NAP|      120|        339|        0|    Normal|  170|             N|    0.0|      Up|           0|\n",
            "| 45|  F|          ATA|      130|        237|        0|    Normal|  170|             N|    0.0|      Up|           0|\n",
            "| 54|  M|          ATA|      110|        208|        0|    Normal|  142|             N|    0.0|      Up|           0|\n",
            "| 37|  M|          ASY|      140|        207|        0|    Normal|  130|             Y|    1.5|    Flat|           1|\n",
            "| 48|  F|          ATA|      120|        284|        0|    Normal|  120|             N|    0.0|      Up|           0|\n",
            "| 37|  F|          NAP|      130|        211|        0|    Normal|  142|             N|    0.0|      Up|           0|\n",
            "| 58|  M|          ATA|      136|        164|        0|        ST|   99|             Y|    2.0|    Flat|           1|\n",
            "| 39|  M|          ATA|      120|        204|        0|    Normal|  145|             N|    0.0|      Up|           0|\n",
            "| 49|  M|          ASY|      140|        234|        0|    Normal|  140|             Y|    1.0|    Flat|           1|\n",
            "| 42|  F|          NAP|      115|        211|        0|        ST|  137|             N|    0.0|      Up|           0|\n",
            "| 54|  F|          ATA|      120|        273|        0|    Normal|  150|             N|    1.5|    Flat|           0|\n",
            "| 38|  M|          ASY|      110|        196|        0|    Normal|  166|             N|    0.0|    Flat|           1|\n",
            "| 43|  F|          ATA|      120|        201|        0|    Normal|  165|             N|    0.0|      Up|           0|\n",
            "| 60|  M|          ASY|      100|        248|        0|    Normal|  125|             N|    1.0|    Flat|           1|\n",
            "| 36|  M|          ATA|      120|        267|        0|    Normal|  160|             N|    3.0|    Flat|           1|\n",
            "+---+---+-------------+---------+-----------+---------+----------+-----+--------------+-------+--------+------------+\n",
            "only showing top 20 rows\n",
            "\n"
          ]
        }
      ]
    },
    {
      "cell_type": "code",
      "source": [
        "##### metatrepw oles tis katigorimatikes (px F h' M, TA h' ASY klp klp) times se arithmous gia na eisagw thoryvo"
      ],
      "metadata": {
        "id": "ftXeZq976o80"
      },
      "execution_count": null,
      "outputs": []
    },
    {
      "cell_type": "code",
      "source": [
        "#varitita tou chest pain type\n",
        "def ChestPainType_importance(col):\n",
        "    if col == 'NAP':\n",
        "        return 0.0\n",
        "    elif col == 'ASY':\n",
        "        return 0.5\n",
        "    elif col == 'ATA':\n",
        "        return 0.75\n",
        "    else:\n",
        "         return 1.0"
      ],
      "metadata": {
        "id": "ZyGsgtn46rV1"
      },
      "execution_count": null,
      "outputs": []
    },
    {
      "cell_type": "code",
      "source": [
        "ChestPainType_udf = udf(lambda val: ChestPainType_importance(val), DoubleType())\n",
        "df_after_edit_ChestPainType = df.withColumn('ChestPainType',ChestPainType_udf('ChestPainType'))"
      ],
      "metadata": {
        "id": "VKpJ7T2P6tEg"
      },
      "execution_count": null,
      "outputs": []
    },
    {
      "cell_type": "code",
      "source": [
        "df_after_edit_ChestPainType.show(10)\n"
      ],
      "metadata": {
        "colab": {
          "base_uri": "https://localhost:8080/"
        },
        "id": "MrYwGb7j6upq",
        "outputId": "da12f80d-6cd8-4faf-9568-ae7137d1dae0"
      },
      "execution_count": null,
      "outputs": [
        {
          "output_type": "stream",
          "name": "stdout",
          "text": [
            "+---+---+-------------+---------+-----------+---------+----------+-----+--------------+-------+--------+------------+\n",
            "|Age|Sex|ChestPainType|RestingBP|Cholesterol|FastingBS|RestingECG|MaxHR|ExerciseAngina|Oldpeak|ST_Slope|HeartDisease|\n",
            "+---+---+-------------+---------+-----------+---------+----------+-----+--------------+-------+--------+------------+\n",
            "| 40|  M|         0.75|      140|        289|        0|    Normal|  172|             N|    0.0|      Up|           0|\n",
            "| 49|  F|          0.0|      160|        180|        0|    Normal|  156|             N|    1.0|    Flat|           1|\n",
            "| 37|  M|         0.75|      130|        283|        0|        ST|   98|             N|    0.0|      Up|           0|\n",
            "| 48|  F|          0.5|      138|        214|        0|    Normal|  108|             Y|    1.5|    Flat|           1|\n",
            "| 54|  M|          0.0|      150|        195|        0|    Normal|  122|             N|    0.0|      Up|           0|\n",
            "| 39|  M|          0.0|      120|        339|        0|    Normal|  170|             N|    0.0|      Up|           0|\n",
            "| 45|  F|         0.75|      130|        237|        0|    Normal|  170|             N|    0.0|      Up|           0|\n",
            "| 54|  M|         0.75|      110|        208|        0|    Normal|  142|             N|    0.0|      Up|           0|\n",
            "| 37|  M|          0.5|      140|        207|        0|    Normal|  130|             Y|    1.5|    Flat|           1|\n",
            "| 48|  F|         0.75|      120|        284|        0|    Normal|  120|             N|    0.0|      Up|           0|\n",
            "+---+---+-------------+---------+-----------+---------+----------+-----+--------------+-------+--------+------------+\n",
            "only showing top 10 rows\n",
            "\n"
          ]
        }
      ]
    },
    {
      "cell_type": "code",
      "source": [
        "def ExerciseAngina_val(col):\n",
        "    if col == 'Y':\n",
        "        return 1\n",
        "    else:\n",
        "        return 0"
      ],
      "metadata": {
        "id": "ab-xbNwJ6w2v"
      },
      "execution_count": null,
      "outputs": []
    },
    {
      "cell_type": "code",
      "source": [
        "ExerciseAngina_udf = udf(lambda val: ExerciseAngina_val(val), IntegerType())\n",
        "df_after_edit_ExerciseAngina = df_after_edit_ChestPainType.withColumn('ExerciseAngina', ExerciseAngina_udf('ExerciseAngina'))\n"
      ],
      "metadata": {
        "id": "kwEDh9NU6yqg"
      },
      "execution_count": null,
      "outputs": []
    },
    {
      "cell_type": "code",
      "source": [
        "def sex_val(col):\n",
        "    if col == 'F':\n",
        "        return 0\n",
        "    else:\n",
        "        return 1"
      ],
      "metadata": {
        "id": "Offdx9Yb60b4"
      },
      "execution_count": null,
      "outputs": []
    },
    {
      "cell_type": "code",
      "source": [
        "sex_udf = udf(lambda val: sex_val(val), IntegerType())\n",
        "df_after_edit_sex = df_after_edit_ExerciseAngina.withColumn('sex', sex_udf('sex'))"
      ],
      "metadata": {
        "id": "oWJN9hAZ62RY"
      },
      "execution_count": null,
      "outputs": []
    },
    {
      "cell_type": "code",
      "source": [
        "final_df = df_after_edit_sex"
      ],
      "metadata": {
        "id": "aEFfCVkG64Or"
      },
      "execution_count": null,
      "outputs": []
    },
    {
      "cell_type": "code",
      "source": [
        "def RestingECG_val(col):\n",
        "    if col == 'Normal':\n",
        "        return 0.0\n",
        "    elif col == 'ST':\n",
        "        return 0.75\n",
        "    else:\n",
        "        return 1.0"
      ],
      "metadata": {
        "id": "JZGmV7mR66PF"
      },
      "execution_count": null,
      "outputs": []
    },
    {
      "cell_type": "code",
      "source": [
        "RestingECG_udf = udf(lambda val: RestingECG_val(val), DoubleType())\n",
        "df_after_edit_RestingECG = final_df.withColumn('RestingECG', RestingECG_udf('RestingECG'))"
      ],
      "metadata": {
        "id": "32DZrIEI68NF"
      },
      "execution_count": null,
      "outputs": []
    },
    {
      "cell_type": "code",
      "source": [
        "df_after_edit_RestingECG.show()"
      ],
      "metadata": {
        "colab": {
          "base_uri": "https://localhost:8080/"
        },
        "id": "iErvBtkJ695d",
        "outputId": "97b7ce52-9dc6-4662-d49e-0e2853fc97e7"
      },
      "execution_count": null,
      "outputs": [
        {
          "output_type": "stream",
          "name": "stdout",
          "text": [
            "+---+---+-------------+---------+-----------+---------+----------+-----+--------------+-------+--------+------------+\n",
            "|Age|sex|ChestPainType|RestingBP|Cholesterol|FastingBS|RestingECG|MaxHR|ExerciseAngina|Oldpeak|ST_Slope|HeartDisease|\n",
            "+---+---+-------------+---------+-----------+---------+----------+-----+--------------+-------+--------+------------+\n",
            "| 40|  1|         0.75|      140|        289|        0|       0.0|  172|             0|    0.0|      Up|           0|\n",
            "| 49|  0|          0.0|      160|        180|        0|       0.0|  156|             0|    1.0|    Flat|           1|\n",
            "| 37|  1|         0.75|      130|        283|        0|      0.75|   98|             0|    0.0|      Up|           0|\n",
            "| 48|  0|          0.5|      138|        214|        0|       0.0|  108|             1|    1.5|    Flat|           1|\n",
            "| 54|  1|          0.0|      150|        195|        0|       0.0|  122|             0|    0.0|      Up|           0|\n",
            "| 39|  1|          0.0|      120|        339|        0|       0.0|  170|             0|    0.0|      Up|           0|\n",
            "| 45|  0|         0.75|      130|        237|        0|       0.0|  170|             0|    0.0|      Up|           0|\n",
            "| 54|  1|         0.75|      110|        208|        0|       0.0|  142|             0|    0.0|      Up|           0|\n",
            "| 37|  1|          0.5|      140|        207|        0|       0.0|  130|             1|    1.5|    Flat|           1|\n",
            "| 48|  0|         0.75|      120|        284|        0|       0.0|  120|             0|    0.0|      Up|           0|\n",
            "| 37|  0|          0.0|      130|        211|        0|       0.0|  142|             0|    0.0|      Up|           0|\n",
            "| 58|  1|         0.75|      136|        164|        0|      0.75|   99|             1|    2.0|    Flat|           1|\n",
            "| 39|  1|         0.75|      120|        204|        0|       0.0|  145|             0|    0.0|      Up|           0|\n",
            "| 49|  1|          0.5|      140|        234|        0|       0.0|  140|             1|    1.0|    Flat|           1|\n",
            "| 42|  0|          0.0|      115|        211|        0|      0.75|  137|             0|    0.0|      Up|           0|\n",
            "| 54|  0|         0.75|      120|        273|        0|       0.0|  150|             0|    1.5|    Flat|           0|\n",
            "| 38|  1|          0.5|      110|        196|        0|       0.0|  166|             0|    0.0|    Flat|           1|\n",
            "| 43|  0|         0.75|      120|        201|        0|       0.0|  165|             0|    0.0|      Up|           0|\n",
            "| 60|  1|          0.5|      100|        248|        0|       0.0|  125|             0|    1.0|    Flat|           1|\n",
            "| 36|  1|         0.75|      120|        267|        0|       0.0|  160|             0|    3.0|    Flat|           1|\n",
            "+---+---+-------------+---------+-----------+---------+----------+-----+--------------+-------+--------+------------+\n",
            "only showing top 20 rows\n",
            "\n"
          ]
        }
      ]
    },
    {
      "cell_type": "code",
      "source": [
        "def ST_Slope_val(col):\n",
        "    if col == 'Flat':\n",
        "        return 0.0\n",
        "    elif col == 'Up':\n",
        "        return 0.75\n",
        "    else:\n",
        "        return 1.0"
      ],
      "metadata": {
        "id": "4JbSyAW47B87"
      },
      "execution_count": null,
      "outputs": []
    },
    {
      "cell_type": "code",
      "source": [
        "ST_Slope_udf = udf(lambda val: ST_Slope_val(val), DoubleType())\n",
        "df_teliko = df_after_edit_RestingECG.withColumn('ST_Slope', ST_Slope_udf('ST_Slope'))"
      ],
      "metadata": {
        "id": "wOrM46E27E1m"
      },
      "execution_count": null,
      "outputs": []
    },
    {
      "cell_type": "code",
      "source": [
        "df_teliko.show()"
      ],
      "metadata": {
        "colab": {
          "base_uri": "https://localhost:8080/"
        },
        "id": "C22e5MXs7Hdt",
        "outputId": "c6bf4494-4b88-493c-9aac-741d511bcec8"
      },
      "execution_count": null,
      "outputs": [
        {
          "output_type": "stream",
          "name": "stdout",
          "text": [
            "+---+---+-------------+---------+-----------+---------+----------+-----+--------------+-------+--------+------------+\n",
            "|Age|sex|ChestPainType|RestingBP|Cholesterol|FastingBS|RestingECG|MaxHR|ExerciseAngina|Oldpeak|ST_Slope|HeartDisease|\n",
            "+---+---+-------------+---------+-----------+---------+----------+-----+--------------+-------+--------+------------+\n",
            "| 40|  1|         0.75|      140|        289|        0|       0.0|  172|             0|    0.0|    0.75|           0|\n",
            "| 49|  0|          0.0|      160|        180|        0|       0.0|  156|             0|    1.0|     0.0|           1|\n",
            "| 37|  1|         0.75|      130|        283|        0|      0.75|   98|             0|    0.0|    0.75|           0|\n",
            "| 48|  0|          0.5|      138|        214|        0|       0.0|  108|             1|    1.5|     0.0|           1|\n",
            "| 54|  1|          0.0|      150|        195|        0|       0.0|  122|             0|    0.0|    0.75|           0|\n",
            "| 39|  1|          0.0|      120|        339|        0|       0.0|  170|             0|    0.0|    0.75|           0|\n",
            "| 45|  0|         0.75|      130|        237|        0|       0.0|  170|             0|    0.0|    0.75|           0|\n",
            "| 54|  1|         0.75|      110|        208|        0|       0.0|  142|             0|    0.0|    0.75|           0|\n",
            "| 37|  1|          0.5|      140|        207|        0|       0.0|  130|             1|    1.5|     0.0|           1|\n",
            "| 48|  0|         0.75|      120|        284|        0|       0.0|  120|             0|    0.0|    0.75|           0|\n",
            "| 37|  0|          0.0|      130|        211|        0|       0.0|  142|             0|    0.0|    0.75|           0|\n",
            "| 58|  1|         0.75|      136|        164|        0|      0.75|   99|             1|    2.0|     0.0|           1|\n",
            "| 39|  1|         0.75|      120|        204|        0|       0.0|  145|             0|    0.0|    0.75|           0|\n",
            "| 49|  1|          0.5|      140|        234|        0|       0.0|  140|             1|    1.0|     0.0|           1|\n",
            "| 42|  0|          0.0|      115|        211|        0|      0.75|  137|             0|    0.0|    0.75|           0|\n",
            "| 54|  0|         0.75|      120|        273|        0|       0.0|  150|             0|    1.5|     0.0|           0|\n",
            "| 38|  1|          0.5|      110|        196|        0|       0.0|  166|             0|    0.0|     0.0|           1|\n",
            "| 43|  0|         0.75|      120|        201|        0|       0.0|  165|             0|    0.0|    0.75|           0|\n",
            "| 60|  1|          0.5|      100|        248|        0|       0.0|  125|             0|    1.0|     0.0|           1|\n",
            "| 36|  1|         0.75|      120|        267|        0|       0.0|  160|             0|    3.0|     0.0|           1|\n",
            "+---+---+-------------+---------+-----------+---------+----------+-----+--------------+-------+--------+------------+\n",
            "only showing top 20 rows\n",
            "\n"
          ]
        }
      ]
    },
    {
      "cell_type": "code",
      "source": [
        "df_teliko.groupBy(\"sex\").count().show()\n"
      ],
      "metadata": {
        "colab": {
          "base_uri": "https://localhost:8080/"
        },
        "id": "laZkpvcf7JjF",
        "outputId": "14a0df0c-40e6-4345-b03c-42926ab9b220"
      },
      "execution_count": null,
      "outputs": [
        {
          "output_type": "stream",
          "name": "stdout",
          "text": [
            "+---+-----+\n",
            "|sex|count|\n",
            "+---+-----+\n",
            "|  1|  725|\n",
            "|  0|  193|\n",
            "+---+-----+\n",
            "\n"
          ]
        }
      ]
    },
    {
      "cell_type": "code",
      "source": [
        "df_teliko.groupBy(\"Oldpeak\").count().show()\n"
      ],
      "metadata": {
        "colab": {
          "base_uri": "https://localhost:8080/"
        },
        "id": "F8eai5bF7Lm6",
        "outputId": "b41dd059-af5f-4bb5-c744-c2fef31e1d8f"
      },
      "execution_count": null,
      "outputs": [
        {
          "output_type": "stream",
          "name": "stdout",
          "text": [
            "+-------+-----+\n",
            "|Oldpeak|count|\n",
            "+-------+-----+\n",
            "|    2.4|    4|\n",
            "|    0.0|  368|\n",
            "|    3.5|    2|\n",
            "|    0.2|   22|\n",
            "|   -0.1|    2|\n",
            "|   -2.0|    1|\n",
            "|    2.9|    1|\n",
            "|    3.7|    1|\n",
            "|   -1.0|    2|\n",
            "|    1.4|   18|\n",
            "|    1.7|    6|\n",
            "|    0.7|    7|\n",
            "|    2.3|    2|\n",
            "|   -0.9|    1|\n",
            "|    0.1|   14|\n",
            "|    3.4|    3|\n",
            "|    2.5|   16|\n",
            "|    1.0|   86|\n",
            "|   -1.1|    1|\n",
            "|    0.6|   14|\n",
            "+-------+-----+\n",
            "only showing top 20 rows\n",
            "\n"
          ]
        }
      ]
    },
    {
      "cell_type": "code",
      "source": [
        "df_teliko.groupBy(\"FastingBS\").count().show()\n"
      ],
      "metadata": {
        "colab": {
          "base_uri": "https://localhost:8080/"
        },
        "id": "5a9X8bPV7Ni3",
        "outputId": "7279afe5-47de-4b3d-be6f-0f860489c8d4"
      },
      "execution_count": null,
      "outputs": [
        {
          "output_type": "stream",
          "name": "stdout",
          "text": [
            "+---------+-----+\n",
            "|FastingBS|count|\n",
            "+---------+-----+\n",
            "|        1|  214|\n",
            "|        0|  704|\n",
            "+---------+-----+\n",
            "\n"
          ]
        }
      ]
    },
    {
      "cell_type": "code",
      "source": [
        "df_teliko.groupBy(\"ExerciseAngina\").count().show()\n"
      ],
      "metadata": {
        "colab": {
          "base_uri": "https://localhost:8080/"
        },
        "id": "lkKz30pm7RlH",
        "outputId": "b7fbdac8-f67e-4929-cee7-7e23915e5fa9"
      },
      "execution_count": null,
      "outputs": [
        {
          "output_type": "stream",
          "name": "stdout",
          "text": [
            "+--------------+-----+\n",
            "|ExerciseAngina|count|\n",
            "+--------------+-----+\n",
            "|             1|  371|\n",
            "|             0|  547|\n",
            "+--------------+-----+\n",
            "\n"
          ]
        }
      ]
    },
    {
      "cell_type": "code",
      "source": [
        "df_teliko.groupBy(\"HeartDisease\").count().show()\n"
      ],
      "metadata": {
        "colab": {
          "base_uri": "https://localhost:8080/"
        },
        "id": "QFhVWkmS7UCu",
        "outputId": "888da581-7ac2-482b-8112-fcfd137bb9b9"
      },
      "execution_count": null,
      "outputs": [
        {
          "output_type": "stream",
          "name": "stdout",
          "text": [
            "+------------+-----+\n",
            "|HeartDisease|count|\n",
            "+------------+-----+\n",
            "|           1|  508|\n",
            "|           0|  410|\n",
            "+------------+-----+\n",
            "\n"
          ]
        }
      ]
    },
    {
      "cell_type": "code",
      "source": [
        "### metatrepw to spark df se pandas df gia na kanw tis metatropes \n",
        "\n",
        "pandasDF = df_teliko.toPandas()"
      ],
      "metadata": {
        "id": "R6rbWBeI7Wfe"
      },
      "execution_count": null,
      "outputs": []
    },
    {
      "cell_type": "code",
      "source": [
        "print(pandasDF)"
      ],
      "metadata": {
        "colab": {
          "base_uri": "https://localhost:8080/"
        },
        "id": "UmiLOQXg7YZ2",
        "outputId": "80787b70-5f4e-4770-9b2b-f95f7ebd1c5e"
      },
      "execution_count": null,
      "outputs": [
        {
          "output_type": "stream",
          "name": "stdout",
          "text": [
            "     Age  sex  ChestPainType  RestingBP  Cholesterol  FastingBS  RestingECG  \\\n",
            "0     40    1           0.75        140          289          0        0.00   \n",
            "1     49    0           0.00        160          180          0        0.00   \n",
            "2     37    1           0.75        130          283          0        0.75   \n",
            "3     48    0           0.50        138          214          0        0.00   \n",
            "4     54    1           0.00        150          195          0        0.00   \n",
            "..   ...  ...            ...        ...          ...        ...         ...   \n",
            "913   45    1           1.00        110          264          0        0.00   \n",
            "914   68    1           0.50        144          193          1        0.00   \n",
            "915   57    1           0.50        130          131          0        0.00   \n",
            "916   57    0           0.75        130          236          0        1.00   \n",
            "917   38    1           0.00        138          175          0        0.00   \n",
            "\n",
            "     MaxHR  ExerciseAngina  Oldpeak  ST_Slope  HeartDisease  \n",
            "0      172               0      0.0      0.75             0  \n",
            "1      156               0      1.0      0.00             1  \n",
            "2       98               0      0.0      0.75             0  \n",
            "3      108               1      1.5      0.00             1  \n",
            "4      122               0      0.0      0.75             0  \n",
            "..     ...             ...      ...       ...           ...  \n",
            "913    132               0      1.2      0.00             1  \n",
            "914    141               0      3.4      0.00             1  \n",
            "915    115               1      1.2      0.00             1  \n",
            "916    174               0      0.0      0.00             1  \n",
            "917    173               0      0.0      0.75             0  \n",
            "\n",
            "[918 rows x 12 columns]\n"
          ]
        }
      ]
    },
    {
      "cell_type": "code",
      "source": [
        "###############################################################  Creating noise ###########################################################################\n",
        "\n",
        "# mu is the mean of the normal distribution we are choosing from\n",
        "# std is the standard deviation\n",
        "\n",
        "mu=0.0\n",
        "std = 0.1\n",
        "def gaussian_noise(pandasDF,mu,std):\n",
        "    noise = np.random.normal(mu, std, size = pandasDF.shape)\n",
        "    x_noisy = pandasDF + noise\n",
        "    return x_noisy "
      ],
      "metadata": {
        "id": "EX0IeNjf7btp"
      },
      "execution_count": null,
      "outputs": []
    },
    {
      "cell_type": "code",
      "source": [
        "###############################################################  adding noise ###########################################################################\n",
        "import numpy as np\n",
        "\n",
        "x_noisy = pandasDF + np.random.normal(mu, std, size = pandasDF.shape)"
      ],
      "metadata": {
        "id": "1t8MCwut7eWY"
      },
      "execution_count": null,
      "outputs": []
    },
    {
      "cell_type": "code",
      "source": [
        "print(x_noisy)"
      ],
      "metadata": {
        "colab": {
          "base_uri": "https://localhost:8080/"
        },
        "id": "X2KT695H7gL3",
        "outputId": "7a502fe0-1061-40d1-bf49-925ae1ce0ebe"
      },
      "execution_count": null,
      "outputs": [
        {
          "output_type": "stream",
          "name": "stdout",
          "text": [
            "           Age       sex  ChestPainType   RestingBP  Cholesterol  FastingBS  \\\n",
            "0    40.075810  0.896255       0.585498  140.028725   289.047493  -0.110816   \n",
            "1    49.026583 -0.155517      -0.033728  159.951914   179.976347   0.066833   \n",
            "2    37.027058  1.213124       0.689128  129.886267   283.062885   0.259855   \n",
            "3    48.026006 -0.023906       0.414232  137.890466   214.003089   0.025362   \n",
            "4    54.104653  0.999833      -0.189660  149.997806   194.841817  -0.115982   \n",
            "..         ...       ...            ...         ...          ...        ...   \n",
            "913  45.016117  1.074887       0.984382  109.982578   264.061031  -0.198210   \n",
            "914  68.027553  0.894708       0.312872  144.178860   193.091814   1.121330   \n",
            "915  56.815044  1.079318       0.428938  129.978099   131.002007   0.063410   \n",
            "916  57.221658 -0.026099       0.660601  129.952755   235.816610  -0.108806   \n",
            "917  38.127729  0.999436       0.109322  137.992164   174.968208   0.101983   \n",
            "\n",
            "     RestingECG       MaxHR  ExerciseAngina   Oldpeak  ST_Slope  HeartDisease  \n",
            "0     -0.102702  171.997752       -0.056373 -0.145191  0.814190     -0.115560  \n",
            "1      0.037417  156.105086        0.158154  0.740501 -0.134049      0.963392  \n",
            "2      0.803815   97.862611        0.187143 -0.056821  0.766800      0.027355  \n",
            "3      0.015360  107.972118        0.994237  1.505116  0.147717      0.947312  \n",
            "4      0.026305  122.026151        0.042950 -0.024330  0.667603      0.125631  \n",
            "..          ...         ...             ...       ...       ...           ...  \n",
            "913    0.019594  131.991504       -0.076920  1.092022 -0.110804      0.950598  \n",
            "914    0.095896  141.016911       -0.084820  3.496182  0.074099      0.944974  \n",
            "915   -0.081912  114.887918        1.118268  1.239390  0.075519      0.937867  \n",
            "916    0.831146  174.148244       -0.097858 -0.010002  0.136762      0.991909  \n",
            "917    0.080039  173.104682       -0.174066  0.180361  0.621850     -0.027415  \n",
            "\n",
            "[918 rows x 12 columns]\n"
          ]
        }
      ]
    },
    {
      "cell_type": "code",
      "source": [
        "import pandas as pd\n",
        "import numpy as np\n",
        "\n",
        "x_noisy['HeartDisease'] = np.where(x_noisy['HeartDisease'] > 0.7 ,1,0) \n",
        "#pd.cut(x_noisy['HeartDisease'], bins=[0, 0.45, 0.55, 10], include_lowest=True, labels=['0', 'NaN', '1'])"
      ],
      "metadata": {
        "id": "bUPCHFF27jdy"
      },
      "execution_count": null,
      "outputs": []
    },
    {
      "cell_type": "code",
      "source": [
        "x_noisy.groupby(['HeartDisease']).size()\n"
      ],
      "metadata": {
        "colab": {
          "base_uri": "https://localhost:8080/"
        },
        "id": "i6qQjI8I7mKH",
        "outputId": "d7f561b9-8718-43a1-e7a6-e96d6a69388f"
      },
      "execution_count": null,
      "outputs": [
        {
          "output_type": "execute_result",
          "data": {
            "text/plain": [
              "HeartDisease\n",
              "0    412\n",
              "1    506\n",
              "dtype: int64"
            ]
          },
          "metadata": {},
          "execution_count": 1205
        }
      ]
    },
    {
      "cell_type": "code",
      "source": [
        "print(x_noisy)"
      ],
      "metadata": {
        "colab": {
          "base_uri": "https://localhost:8080/"
        },
        "id": "SJdC5ykZ7ozr",
        "outputId": "84450b16-40ee-4140-8cf3-eb3274d045d9"
      },
      "execution_count": null,
      "outputs": [
        {
          "output_type": "stream",
          "name": "stdout",
          "text": [
            "           Age       sex  ChestPainType   RestingBP  Cholesterol  FastingBS  \\\n",
            "0    40.075810  0.896255       0.585498  140.028725   289.047493  -0.110816   \n",
            "1    49.026583 -0.155517      -0.033728  159.951914   179.976347   0.066833   \n",
            "2    37.027058  1.213124       0.689128  129.886267   283.062885   0.259855   \n",
            "3    48.026006 -0.023906       0.414232  137.890466   214.003089   0.025362   \n",
            "4    54.104653  0.999833      -0.189660  149.997806   194.841817  -0.115982   \n",
            "..         ...       ...            ...         ...          ...        ...   \n",
            "913  45.016117  1.074887       0.984382  109.982578   264.061031  -0.198210   \n",
            "914  68.027553  0.894708       0.312872  144.178860   193.091814   1.121330   \n",
            "915  56.815044  1.079318       0.428938  129.978099   131.002007   0.063410   \n",
            "916  57.221658 -0.026099       0.660601  129.952755   235.816610  -0.108806   \n",
            "917  38.127729  0.999436       0.109322  137.992164   174.968208   0.101983   \n",
            "\n",
            "     RestingECG       MaxHR  ExerciseAngina   Oldpeak  ST_Slope  HeartDisease  \n",
            "0     -0.102702  171.997752       -0.056373 -0.145191  0.814190             0  \n",
            "1      0.037417  156.105086        0.158154  0.740501 -0.134049             1  \n",
            "2      0.803815   97.862611        0.187143 -0.056821  0.766800             0  \n",
            "3      0.015360  107.972118        0.994237  1.505116  0.147717             1  \n",
            "4      0.026305  122.026151        0.042950 -0.024330  0.667603             0  \n",
            "..          ...         ...             ...       ...       ...           ...  \n",
            "913    0.019594  131.991504       -0.076920  1.092022 -0.110804             1  \n",
            "914    0.095896  141.016911       -0.084820  3.496182  0.074099             1  \n",
            "915   -0.081912  114.887918        1.118268  1.239390  0.075519             1  \n",
            "916    0.831146  174.148244       -0.097858 -0.010002  0.136762             1  \n",
            "917    0.080039  173.104682       -0.174066  0.180361  0.621850             0  \n",
            "\n",
            "[918 rows x 12 columns]\n"
          ]
        }
      ]
    },
    {
      "cell_type": "code",
      "source": [
        "# times  st age\n",
        "x_noisy.groupby(['Age']).size()\n"
      ],
      "metadata": {
        "colab": {
          "base_uri": "https://localhost:8080/"
        },
        "id": "QuImiPGo40zC",
        "outputId": "e28f75df-7a43-4fde-ce21-01440848bf6d"
      },
      "execution_count": null,
      "outputs": [
        {
          "output_type": "execute_result",
          "data": {
            "text/plain": [
              "Age\n",
              "28.095811    1\n",
              "28.854160    1\n",
              "29.054906    1\n",
              "29.133851    1\n",
              "29.924839    1\n",
              "            ..\n",
              "75.002240    1\n",
              "75.967075    1\n",
              "76.177449    1\n",
              "77.032777    1\n",
              "77.135896    1\n",
              "Length: 918, dtype: int64"
            ]
          },
          "metadata": {},
          "execution_count": 1207
        }
      ]
    },
    {
      "cell_type": "code",
      "source": [
        "## categorize sex values below or above 0.5\n",
        " \n",
        "x_noisy['sex'] = np.where(x_noisy['sex'] >= 0.5 ,1,0) "
      ],
      "metadata": {
        "id": "pXwnEa_s7r_c"
      },
      "execution_count": null,
      "outputs": []
    },
    {
      "cell_type": "code",
      "source": [
        "x_noisy.groupby(['sex']).size()\n"
      ],
      "metadata": {
        "colab": {
          "base_uri": "https://localhost:8080/"
        },
        "id": "0O7Xjaui7ue2",
        "outputId": "bf078924-cc56-4bb4-c0a3-9aac85f9586c"
      },
      "execution_count": null,
      "outputs": [
        {
          "output_type": "execute_result",
          "data": {
            "text/plain": [
              "sex\n",
              "0    193\n",
              "1    725\n",
              "dtype: int64"
            ]
          },
          "metadata": {},
          "execution_count": 1209
        }
      ]
    },
    {
      "cell_type": "code",
      "source": [
        "#### O arithos tn sex=1 kai sex=0 dn allaxe opote tha allaxw liges random times apo 0 se 1 \n",
        "### allazw tyxaia to 5% ton 1 se 0\n",
        "\n",
        "v = x_noisy.sex.values == 1\n",
        "x_noisy.loc[v, 'sex'] = np.random.choice((0, 1), v.sum(), p=(.05, .95))"
      ],
      "metadata": {
        "id": "k2lLNUXX7wwO"
      },
      "execution_count": null,
      "outputs": []
    },
    {
      "cell_type": "code",
      "source": [
        "x_noisy.groupby(['sex']).size()"
      ],
      "metadata": {
        "colab": {
          "base_uri": "https://localhost:8080/"
        },
        "id": "oqKeczJu7z3_",
        "outputId": "02fb03d7-53cf-486e-b4b5-c9459b54594b"
      },
      "execution_count": null,
      "outputs": [
        {
          "output_type": "execute_result",
          "data": {
            "text/plain": [
              "sex\n",
              "0    224\n",
              "1    694\n",
              "dtype: int64"
            ]
          },
          "metadata": {},
          "execution_count": 1211
        }
      ]
    },
    {
      "cell_type": "code",
      "source": [
        "print(x_noisy)"
      ],
      "metadata": {
        "colab": {
          "base_uri": "https://localhost:8080/"
        },
        "id": "Nov1Vn_l72Wp",
        "outputId": "246bf478-1deb-4df5-e615-b373c3999020"
      },
      "execution_count": null,
      "outputs": [
        {
          "output_type": "stream",
          "name": "stdout",
          "text": [
            "           Age  sex  ChestPainType   RestingBP  Cholesterol  FastingBS  \\\n",
            "0    40.075810    1       0.585498  140.028725   289.047493  -0.110816   \n",
            "1    49.026583    0      -0.033728  159.951914   179.976347   0.066833   \n",
            "2    37.027058    1       0.689128  129.886267   283.062885   0.259855   \n",
            "3    48.026006    0       0.414232  137.890466   214.003089   0.025362   \n",
            "4    54.104653    1      -0.189660  149.997806   194.841817  -0.115982   \n",
            "..         ...  ...            ...         ...          ...        ...   \n",
            "913  45.016117    1       0.984382  109.982578   264.061031  -0.198210   \n",
            "914  68.027553    1       0.312872  144.178860   193.091814   1.121330   \n",
            "915  56.815044    1       0.428938  129.978099   131.002007   0.063410   \n",
            "916  57.221658    0       0.660601  129.952755   235.816610  -0.108806   \n",
            "917  38.127729    0       0.109322  137.992164   174.968208   0.101983   \n",
            "\n",
            "     RestingECG       MaxHR  ExerciseAngina   Oldpeak  ST_Slope  HeartDisease  \n",
            "0     -0.102702  171.997752       -0.056373 -0.145191  0.814190             0  \n",
            "1      0.037417  156.105086        0.158154  0.740501 -0.134049             1  \n",
            "2      0.803815   97.862611        0.187143 -0.056821  0.766800             0  \n",
            "3      0.015360  107.972118        0.994237  1.505116  0.147717             1  \n",
            "4      0.026305  122.026151        0.042950 -0.024330  0.667603             0  \n",
            "..          ...         ...             ...       ...       ...           ...  \n",
            "913    0.019594  131.991504       -0.076920  1.092022 -0.110804             1  \n",
            "914    0.095896  141.016911       -0.084820  3.496182  0.074099             1  \n",
            "915   -0.081912  114.887918        1.118268  1.239390  0.075519             1  \n",
            "916    0.831146  174.148244       -0.097858 -0.010002  0.136762             1  \n",
            "917    0.080039  173.104682       -0.174066  0.180361  0.621850             0  \n",
            "\n",
            "[918 rows x 12 columns]\n"
          ]
        }
      ]
    },
    {
      "cell_type": "code",
      "source": [
        "# replace negative numbers with NaN\n",
        "#x_noisy[x_noisy < 0] = \"NaN\"\n",
        "\n",
        "## skeytika na krathsw orisenes arnhtikes times gia na yparxoyn outliners st dataframe \n",
        "## tha kanw random nan values sth synexeia"
      ],
      "metadata": {
        "id": "Ft_PqDp474kt"
      },
      "execution_count": null,
      "outputs": []
    },
    {
      "cell_type": "code",
      "source": [
        "#x_noisy[x_noisy < 0] = 0\n"
      ],
      "metadata": {
        "id": "g0swTIbZ76z9"
      },
      "execution_count": null,
      "outputs": []
    },
    {
      "cell_type": "code",
      "source": [
        "### FastingBS\n",
        "\n",
        "x_noisy.groupby(['FastingBS']).size()\n",
        "\n",
        "### exei times apo -0.32    ews 1.26\n",
        "### mporw eykola na kanw osa einai > 0.5 na ta kanw 1 kai ta ypoloia 0\n",
        "### skeytika na afisw merikes akrees times opws px ta < -0.30 kai > 1.2 gia na dhmiourgithoun outliners st dataset kai na na ta epexergastw meta "
      ],
      "metadata": {
        "colab": {
          "base_uri": "https://localhost:8080/"
        },
        "id": "f316haJZ79vD",
        "outputId": "7e4fc18f-f1f7-4797-e3da-1f810de4081a"
      },
      "execution_count": null,
      "outputs": [
        {
          "output_type": "execute_result",
          "data": {
            "text/plain": [
              "FastingBS\n",
              "-0.278739    1\n",
              "-0.272865    1\n",
              "-0.240999    1\n",
              "-0.238892    1\n",
              "-0.236990    1\n",
              "            ..\n",
              " 1.213444    1\n",
              " 1.234011    1\n",
              " 1.288773    1\n",
              " 1.314724    1\n",
              " 1.331417    1\n",
              "Length: 918, dtype: int64"
            ]
          },
          "metadata": {},
          "execution_count": 1215
        }
      ]
    },
    {
      "cell_type": "code",
      "source": [
        "#x_noisy['FastingBS'] = pd.cut(x_noisy['FastingBS'], bins=[-0.326525 , -0.25, 0.65, 0.85, 1.264831], include_lowest=True, labels=['0', '0.5', '0.75','1'])\n",
        "x_noisy['FastingBS'] = pd.cut(x_noisy['FastingBS'], bins=[-0.455938, -0.254442, -0.250807, -0.234021, -0.224653, -0.204652, 0.5, 1.190075, 1.203776, 1.220578, 1.242796, 1.259308, 1.495296], include_lowest=True, labels=['-0.326524', '-0.300144', '-0.287943', '-0.284272', '-0.279712', '0.0', '1.0', '1.213249', '1.215685', '1.226302', '1.228461', '1.264830'])"
      ],
      "metadata": {
        "id": "xuJ1yzbP8ACO"
      },
      "execution_count": null,
      "outputs": []
    },
    {
      "cell_type": "code",
      "source": [
        "x_noisy.groupby(['FastingBS']).size()\n",
        "\n",
        "\n",
        "### yparxoun merikes times akyres apo tis klassikes 0 kai 1, dld outliners"
      ],
      "metadata": {
        "colab": {
          "base_uri": "https://localhost:8080/"
        },
        "id": "fAYatE-08B50",
        "outputId": "8afbbdbe-ac50-4595-c51d-515c1418a855"
      },
      "execution_count": null,
      "outputs": [
        {
          "output_type": "execute_result",
          "data": {
            "text/plain": [
              "FastingBS\n",
              "-0.326524      2\n",
              "-0.300144      0\n",
              "-0.287943      3\n",
              "-0.284272      1\n",
              "-0.279712      4\n",
              "0.0          694\n",
              "1.0          207\n",
              "1.213249       0\n",
              "1.215685       3\n",
              "1.226302       1\n",
              "1.228461       0\n",
              "1.264830       3\n",
              "dtype: int64"
            ]
          },
          "metadata": {},
          "execution_count": 1217
        }
      ]
    },
    {
      "cell_type": "code",
      "source": [
        "### ExerciseAngina\n",
        "x_noisy.groupby(['ExerciseAngina']).size()"
      ],
      "metadata": {
        "colab": {
          "base_uri": "https://localhost:8080/"
        },
        "id": "1INAw61_8HNo",
        "outputId": "7c7147d2-0d8b-457a-a413-6975d168118c"
      },
      "execution_count": null,
      "outputs": [
        {
          "output_type": "execute_result",
          "data": {
            "text/plain": [
              "ExerciseAngina\n",
              "-0.293238    1\n",
              "-0.290557    1\n",
              "-0.252755    1\n",
              "-0.247608    1\n",
              "-0.246634    1\n",
              "            ..\n",
              " 1.257193    1\n",
              " 1.260405    1\n",
              " 1.263740    1\n",
              " 1.268789    1\n",
              " 1.322482    1\n",
              "Length: 918, dtype: int64"
            ]
          },
          "metadata": {},
          "execution_count": 1218
        }
      ]
    },
    {
      "cell_type": "code",
      "source": [
        "x_noisy['ExerciseAngina'] = pd.cut(x_noisy['ExerciseAngina'], bins=[-0.455938, -0.354442, -0.300807, -0.254021, -0.224653, -0.204652, 0.5, 1.200075, 1.203776, 1.220578, 1.242796, 1.259308, 1.495296], include_lowest=True, labels=['-0.316524', '-0.290144', '-0.287943', '-0.284272', '-0.279712', '0.0', '1.0', '1.213249', '1.215685', '1.226302', '1.228461', '1.264830'])"
      ],
      "metadata": {
        "id": "fgkiVrZ_8KQ9"
      },
      "execution_count": null,
      "outputs": []
    },
    {
      "cell_type": "code",
      "source": [
        "x_noisy.groupby(['ExerciseAngina']).size()\n"
      ],
      "metadata": {
        "colab": {
          "base_uri": "https://localhost:8080/"
        },
        "id": "YiWs8SKR8NTf",
        "outputId": "18f5b1d4-9cfd-491a-e3b7-0d8238f12c50"
      },
      "execution_count": null,
      "outputs": [
        {
          "output_type": "execute_result",
          "data": {
            "text/plain": [
              "ExerciseAngina\n",
              "-0.316524      0\n",
              "-0.290144      0\n",
              "-0.287943      2\n",
              "-0.284272      4\n",
              "-0.279712      3\n",
              "0.0          538\n",
              "1.0          360\n",
              "1.213249       0\n",
              "1.215685       4\n",
              "1.226302       2\n",
              "1.228461       1\n",
              "1.264830       4\n",
              "dtype: int64"
            ]
          },
          "metadata": {},
          "execution_count": 1220
        }
      ]
    },
    {
      "cell_type": "code",
      "source": [
        "print(x_noisy)"
      ],
      "metadata": {
        "colab": {
          "base_uri": "https://localhost:8080/"
        },
        "id": "VQFZPPMM8QdF",
        "outputId": "5d48cb59-a930-40b5-c3ba-30b3318917a4"
      },
      "execution_count": null,
      "outputs": [
        {
          "output_type": "stream",
          "name": "stdout",
          "text": [
            "           Age  sex  ChestPainType   RestingBP  Cholesterol FastingBS  \\\n",
            "0    40.075810    1       0.585498  140.028725   289.047493       0.0   \n",
            "1    49.026583    0      -0.033728  159.951914   179.976347       0.0   \n",
            "2    37.027058    1       0.689128  129.886267   283.062885       0.0   \n",
            "3    48.026006    0       0.414232  137.890466   214.003089       0.0   \n",
            "4    54.104653    1      -0.189660  149.997806   194.841817       0.0   \n",
            "..         ...  ...            ...         ...          ...       ...   \n",
            "913  45.016117    1       0.984382  109.982578   264.061031       0.0   \n",
            "914  68.027553    1       0.312872  144.178860   193.091814       1.0   \n",
            "915  56.815044    1       0.428938  129.978099   131.002007       0.0   \n",
            "916  57.221658    0       0.660601  129.952755   235.816610       0.0   \n",
            "917  38.127729    0       0.109322  137.992164   174.968208       0.0   \n",
            "\n",
            "     RestingECG       MaxHR ExerciseAngina   Oldpeak  ST_Slope  HeartDisease  \n",
            "0     -0.102702  171.997752            0.0 -0.145191  0.814190             0  \n",
            "1      0.037417  156.105086            0.0  0.740501 -0.134049             1  \n",
            "2      0.803815   97.862611            0.0 -0.056821  0.766800             0  \n",
            "3      0.015360  107.972118            1.0  1.505116  0.147717             1  \n",
            "4      0.026305  122.026151            0.0 -0.024330  0.667603             0  \n",
            "..          ...         ...            ...       ...       ...           ...  \n",
            "913    0.019594  131.991504            0.0  1.092022 -0.110804             1  \n",
            "914    0.095896  141.016911            0.0  3.496182  0.074099             1  \n",
            "915   -0.081912  114.887918            1.0  1.239390  0.075519             1  \n",
            "916    0.831146  174.148244            0.0 -0.010002  0.136762             1  \n",
            "917    0.080039  173.104682            0.0  0.180361  0.621850             0  \n",
            "\n",
            "[918 rows x 12 columns]\n"
          ]
        }
      ]
    },
    {
      "cell_type": "code",
      "source": [
        "# FastingBS: (fasting blood sugar > 120 mg/dl) (1 = true; 0 = false)\n",
        "# ExerciseAngina exercise induced angina (1 = yes; 0 = no)\n",
        "\n",
        "# den gnt na exw hlikia 43,25 opote ta kanw ola na exoun morfh 43                  \n",
        "cols = ['Age']                  \n",
        "x_noisy[cols] = x_noisy[cols].applymap(np.int64)"
      ],
      "metadata": {
        "id": "-M8Raa7W8UbT"
      },
      "execution_count": null,
      "outputs": []
    },
    {
      "cell_type": "code",
      "source": [
        "print(x_noisy)"
      ],
      "metadata": {
        "colab": {
          "base_uri": "https://localhost:8080/"
        },
        "id": "tZS3UJmf8Z1X",
        "outputId": "e9446c85-b17f-48a2-dbd4-b0f2866e1dad"
      },
      "execution_count": null,
      "outputs": [
        {
          "output_type": "stream",
          "name": "stdout",
          "text": [
            "     Age  sex  ChestPainType   RestingBP  Cholesterol FastingBS  RestingECG  \\\n",
            "0     40    1       0.585498  140.028725   289.047493       0.0   -0.102702   \n",
            "1     49    0      -0.033728  159.951914   179.976347       0.0    0.037417   \n",
            "2     37    1       0.689128  129.886267   283.062885       0.0    0.803815   \n",
            "3     48    0       0.414232  137.890466   214.003089       0.0    0.015360   \n",
            "4     54    1      -0.189660  149.997806   194.841817       0.0    0.026305   \n",
            "..   ...  ...            ...         ...          ...       ...         ...   \n",
            "913   45    1       0.984382  109.982578   264.061031       0.0    0.019594   \n",
            "914   68    1       0.312872  144.178860   193.091814       1.0    0.095896   \n",
            "915   56    1       0.428938  129.978099   131.002007       0.0   -0.081912   \n",
            "916   57    0       0.660601  129.952755   235.816610       0.0    0.831146   \n",
            "917   38    0       0.109322  137.992164   174.968208       0.0    0.080039   \n",
            "\n",
            "          MaxHR ExerciseAngina   Oldpeak  ST_Slope  HeartDisease  \n",
            "0    171.997752            0.0 -0.145191  0.814190             0  \n",
            "1    156.105086            0.0  0.740501 -0.134049             1  \n",
            "2     97.862611            0.0 -0.056821  0.766800             0  \n",
            "3    107.972118            1.0  1.505116  0.147717             1  \n",
            "4    122.026151            0.0 -0.024330  0.667603             0  \n",
            "..          ...            ...       ...       ...           ...  \n",
            "913  131.991504            0.0  1.092022 -0.110804             1  \n",
            "914  141.016911            0.0  3.496182  0.074099             1  \n",
            "915  114.887918            1.0  1.239390  0.075519             1  \n",
            "916  174.148244            0.0 -0.010002  0.136762             1  \n",
            "917  173.104682            0.0  0.180361  0.621850             0  \n",
            "\n",
            "[918 rows x 12 columns]\n"
          ]
        }
      ]
    },
    {
      "cell_type": "code",
      "source": [
        "#### ChestPainType\n",
        "x_noisy.groupby(['ChestPainType']).size()"
      ],
      "metadata": {
        "colab": {
          "base_uri": "https://localhost:8080/"
        },
        "id": "X6rmWSbb8c5r",
        "outputId": "9058d89f-72cc-4bb2-e7fb-c3ad39efbb37"
      },
      "execution_count": null,
      "outputs": [
        {
          "output_type": "execute_result",
          "data": {
            "text/plain": [
              "ChestPainType\n",
              "-0.236947    1\n",
              "-0.230686    1\n",
              "-0.216268    1\n",
              "-0.214286    1\n",
              "-0.195760    1\n",
              "            ..\n",
              " 1.170313    1\n",
              " 1.194120    1\n",
              " 1.210446    1\n",
              " 1.239141    1\n",
              " 1.255514    1\n",
              "Length: 918, dtype: int64"
            ]
          },
          "metadata": {},
          "execution_count": 1224
        }
      ]
    },
    {
      "cell_type": "code",
      "source": [
        "x_noisy['ChestPainType'] = pd.cut(x_noisy['ChestPainType'], bins=[-0.45, -0.20, -0.19, 0.35, 0.65, 0.85, 1.15, 1.20, 1.40 ], include_lowest=True, labels=['-0.30', '-0.20','0', '0.5', '0.75','1', '1.19', '1.39'])"
      ],
      "metadata": {
        "id": "VNiP5Z-G8jJC"
      },
      "execution_count": null,
      "outputs": []
    },
    {
      "cell_type": "code",
      "source": [
        "x_noisy.groupby(['ChestPainType']).size()"
      ],
      "metadata": {
        "colab": {
          "base_uri": "https://localhost:8080/"
        },
        "id": "vrZRqBr-8ln4",
        "outputId": "5d6033f6-b2c7-40a5-c59c-2fc7ced712ae"
      },
      "execution_count": null,
      "outputs": [
        {
          "output_type": "execute_result",
          "data": {
            "text/plain": [
              "ChestPainType\n",
              "-0.30      4\n",
              "-0.20      2\n",
              "0        231\n",
              "0.5      462\n",
              "0.75     146\n",
              "1         67\n",
              "1.19       3\n",
              "1.39       3\n",
              "dtype: int64"
            ]
          },
          "metadata": {},
          "execution_count": 1226
        }
      ]
    },
    {
      "cell_type": "code",
      "source": [
        "print(x_noisy)"
      ],
      "metadata": {
        "colab": {
          "base_uri": "https://localhost:8080/"
        },
        "id": "Kh_Ji53x8oHT",
        "outputId": "23360f0f-5067-4d4d-f5b7-4348504ef063"
      },
      "execution_count": null,
      "outputs": [
        {
          "output_type": "stream",
          "name": "stdout",
          "text": [
            "     Age  sex ChestPainType   RestingBP  Cholesterol FastingBS  RestingECG  \\\n",
            "0     40    1           0.5  140.028725   289.047493       0.0   -0.102702   \n",
            "1     49    0             0  159.951914   179.976347       0.0    0.037417   \n",
            "2     37    1          0.75  129.886267   283.062885       0.0    0.803815   \n",
            "3     48    0           0.5  137.890466   214.003089       0.0    0.015360   \n",
            "4     54    1             0  149.997806   194.841817       0.0    0.026305   \n",
            "..   ...  ...           ...         ...          ...       ...         ...   \n",
            "913   45    1             1  109.982578   264.061031       0.0    0.019594   \n",
            "914   68    1             0  144.178860   193.091814       1.0    0.095896   \n",
            "915   56    1           0.5  129.978099   131.002007       0.0   -0.081912   \n",
            "916   57    0          0.75  129.952755   235.816610       0.0    0.831146   \n",
            "917   38    0             0  137.992164   174.968208       0.0    0.080039   \n",
            "\n",
            "          MaxHR ExerciseAngina   Oldpeak  ST_Slope  HeartDisease  \n",
            "0    171.997752            0.0 -0.145191  0.814190             0  \n",
            "1    156.105086            0.0  0.740501 -0.134049             1  \n",
            "2     97.862611            0.0 -0.056821  0.766800             0  \n",
            "3    107.972118            1.0  1.505116  0.147717             1  \n",
            "4    122.026151            0.0 -0.024330  0.667603             0  \n",
            "..          ...            ...       ...       ...           ...  \n",
            "913  131.991504            0.0  1.092022 -0.110804             1  \n",
            "914  141.016911            0.0  3.496182  0.074099             1  \n",
            "915  114.887918            1.0  1.239390  0.075519             1  \n",
            "916  174.148244            0.0 -0.010002  0.136762             1  \n",
            "917  173.104682            0.0  0.180361  0.621850             0  \n",
            "\n",
            "[918 rows x 12 columns]\n"
          ]
        }
      ]
    },
    {
      "cell_type": "code",
      "source": [
        "### RestingECG\n",
        "x_noisy.groupby(['RestingECG']).size()"
      ],
      "metadata": {
        "colab": {
          "base_uri": "https://localhost:8080/"
        },
        "id": "jeHQC_V78qj9",
        "outputId": "8bd363f2-3169-4c67-84b4-5de6904c2e2e"
      },
      "execution_count": null,
      "outputs": [
        {
          "output_type": "execute_result",
          "data": {
            "text/plain": [
              "RestingECG\n",
              "-0.295294    1\n",
              "-0.273575    1\n",
              "-0.251777    1\n",
              "-0.251216    1\n",
              "-0.243215    1\n",
              "            ..\n",
              " 1.184473    1\n",
              " 1.198268    1\n",
              " 1.244757    1\n",
              " 1.247359    1\n",
              " 1.267017    1\n",
              "Length: 918, dtype: int64"
            ]
          },
          "metadata": {},
          "execution_count": 1228
        }
      ]
    },
    {
      "cell_type": "code",
      "source": [
        "x_noisy['RestingECG'] = pd.cut(x_noisy['RestingECG'], bins=[-0.40,-0.30, 0.55, 0.85, 1.25, 1.50], include_lowest=True, labels=['-0.35','0', '0.75','1','1.4'])"
      ],
      "metadata": {
        "id": "kNJ6NVSn8tD-"
      },
      "execution_count": null,
      "outputs": []
    },
    {
      "cell_type": "code",
      "source": [
        "x_noisy.groupby(['RestingECG']).size()"
      ],
      "metadata": {
        "colab": {
          "base_uri": "https://localhost:8080/"
        },
        "id": "Ewzp56FX8v_5",
        "outputId": "6da4b5ee-338c-4a4e-aec4-c373bc43865f"
      },
      "execution_count": null,
      "outputs": [
        {
          "output_type": "execute_result",
          "data": {
            "text/plain": [
              "RestingECG\n",
              "-0.35      0\n",
              "0        554\n",
              "0.75     159\n",
              "1        204\n",
              "1.4        1\n",
              "dtype: int64"
            ]
          },
          "metadata": {},
          "execution_count": 1230
        }
      ]
    },
    {
      "cell_type": "code",
      "source": [
        "print(x_noisy)"
      ],
      "metadata": {
        "colab": {
          "base_uri": "https://localhost:8080/"
        },
        "id": "fyZDGquR8z19",
        "outputId": "6c75bb90-67f1-4e89-b44b-f82709301c65"
      },
      "execution_count": null,
      "outputs": [
        {
          "output_type": "stream",
          "name": "stdout",
          "text": [
            "     Age  sex ChestPainType   RestingBP  Cholesterol FastingBS RestingECG  \\\n",
            "0     40    1           0.5  140.028725   289.047493       0.0          0   \n",
            "1     49    0             0  159.951914   179.976347       0.0          0   \n",
            "2     37    1          0.75  129.886267   283.062885       0.0       0.75   \n",
            "3     48    0           0.5  137.890466   214.003089       0.0          0   \n",
            "4     54    1             0  149.997806   194.841817       0.0          0   \n",
            "..   ...  ...           ...         ...          ...       ...        ...   \n",
            "913   45    1             1  109.982578   264.061031       0.0          0   \n",
            "914   68    1             0  144.178860   193.091814       1.0          0   \n",
            "915   56    1           0.5  129.978099   131.002007       0.0          0   \n",
            "916   57    0          0.75  129.952755   235.816610       0.0       0.75   \n",
            "917   38    0             0  137.992164   174.968208       0.0          0   \n",
            "\n",
            "          MaxHR ExerciseAngina   Oldpeak  ST_Slope  HeartDisease  \n",
            "0    171.997752            0.0 -0.145191  0.814190             0  \n",
            "1    156.105086            0.0  0.740501 -0.134049             1  \n",
            "2     97.862611            0.0 -0.056821  0.766800             0  \n",
            "3    107.972118            1.0  1.505116  0.147717             1  \n",
            "4    122.026151            0.0 -0.024330  0.667603             0  \n",
            "..          ...            ...       ...       ...           ...  \n",
            "913  131.991504            0.0  1.092022 -0.110804             1  \n",
            "914  141.016911            0.0  3.496182  0.074099             1  \n",
            "915  114.887918            1.0  1.239390  0.075519             1  \n",
            "916  174.148244            0.0 -0.010002  0.136762             1  \n",
            "917  173.104682            0.0  0.180361  0.621850             0  \n",
            "\n",
            "[918 rows x 12 columns]\n"
          ]
        }
      ]
    },
    {
      "cell_type": "code",
      "source": [
        "### ST_Slope\n",
        "x_noisy.groupby(['ST_Slope']).size()"
      ],
      "metadata": {
        "colab": {
          "base_uri": "https://localhost:8080/"
        },
        "id": "2p15eaKK82dx",
        "outputId": "764825b5-30b3-45f5-a71d-c7d27636ac84"
      },
      "execution_count": null,
      "outputs": [
        {
          "output_type": "execute_result",
          "data": {
            "text/plain": [
              "ST_Slope\n",
              "-0.367146    1\n",
              "-0.281263    1\n",
              "-0.262701    1\n",
              "-0.262580    1\n",
              "-0.236531    1\n",
              "            ..\n",
              " 1.160021    1\n",
              " 1.161948    1\n",
              " 1.167205    1\n",
              " 1.171566    1\n",
              " 1.210655    1\n",
              "Length: 918, dtype: int64"
            ]
          },
          "metadata": {},
          "execution_count": 1232
        }
      ]
    },
    {
      "cell_type": "code",
      "source": [
        "x_noisy['ST_Slope'] = pd.cut(x_noisy['ST_Slope'], bins=[-0.40, -0.25, 0.55, 0.85, 1.15, 1.29, 1.50], include_lowest=True, labels=['-40','0', '0.75','1','1.29','1.50'])\n"
      ],
      "metadata": {
        "id": "7deyUFKb84r3"
      },
      "execution_count": null,
      "outputs": []
    },
    {
      "cell_type": "code",
      "source": [
        "x_noisy.groupby(['ST_Slope']).size()"
      ],
      "metadata": {
        "colab": {
          "base_uri": "https://localhost:8080/"
        },
        "id": "6yBAMJ6_86uu",
        "outputId": "d2776c64-e645-422e-df68-73c34086b77a"
      },
      "execution_count": null,
      "outputs": [
        {
          "output_type": "execute_result",
          "data": {
            "text/plain": [
              "ST_Slope\n",
              "-40       4\n",
              "0       465\n",
              "0.75    324\n",
              "1       118\n",
              "1.29      7\n",
              "1.50      0\n",
              "dtype: int64"
            ]
          },
          "metadata": {},
          "execution_count": 1234
        }
      ]
    },
    {
      "cell_type": "code",
      "source": [
        "#### oi default times st column oldpeak htna apo -0,26 ews 6.2 opote eimaste komple\n",
        "\n",
        "x_noisy.groupby(['Oldpeak']).size()"
      ],
      "metadata": {
        "colab": {
          "base_uri": "https://localhost:8080/"
        },
        "id": "6a4-Y63I895B",
        "outputId": "db80ea79-4428-4f16-8b77-0d573d7727c4"
      },
      "execution_count": null,
      "outputs": [
        {
          "output_type": "execute_result",
          "data": {
            "text/plain": [
              "Oldpeak\n",
              "-2.504218    1\n",
              "-2.179169    1\n",
              "-1.614913    1\n",
              "-1.007732    1\n",
              "-0.950449    1\n",
              "            ..\n",
              " 4.168354    1\n",
              " 4.445570    1\n",
              " 4.914994    1\n",
              " 5.549065    1\n",
              " 6.127666    1\n",
              "Length: 918, dtype: int64"
            ]
          },
          "metadata": {},
          "execution_count": 1235
        }
      ]
    },
    {
      "cell_type": "code",
      "source": [
        "print(x_noisy)"
      ],
      "metadata": {
        "colab": {
          "base_uri": "https://localhost:8080/"
        },
        "id": "NB2haYWk9ARj",
        "outputId": "ff24d75a-e025-4edc-b911-7c64e50a9173"
      },
      "execution_count": null,
      "outputs": [
        {
          "output_type": "stream",
          "name": "stdout",
          "text": [
            "     Age  sex ChestPainType   RestingBP  Cholesterol FastingBS RestingECG  \\\n",
            "0     40    1           0.5  140.028725   289.047493       0.0          0   \n",
            "1     49    0             0  159.951914   179.976347       0.0          0   \n",
            "2     37    1          0.75  129.886267   283.062885       0.0       0.75   \n",
            "3     48    0           0.5  137.890466   214.003089       0.0          0   \n",
            "4     54    1             0  149.997806   194.841817       0.0          0   \n",
            "..   ...  ...           ...         ...          ...       ...        ...   \n",
            "913   45    1             1  109.982578   264.061031       0.0          0   \n",
            "914   68    1             0  144.178860   193.091814       1.0          0   \n",
            "915   56    1           0.5  129.978099   131.002007       0.0          0   \n",
            "916   57    0          0.75  129.952755   235.816610       0.0       0.75   \n",
            "917   38    0             0  137.992164   174.968208       0.0          0   \n",
            "\n",
            "          MaxHR ExerciseAngina   Oldpeak ST_Slope  HeartDisease  \n",
            "0    171.997752            0.0 -0.145191     0.75             0  \n",
            "1    156.105086            0.0  0.740501        0             1  \n",
            "2     97.862611            0.0 -0.056821     0.75             0  \n",
            "3    107.972118            1.0  1.505116        0             1  \n",
            "4    122.026151            0.0 -0.024330     0.75             0  \n",
            "..          ...            ...       ...      ...           ...  \n",
            "913  131.991504            0.0  1.092022        0             1  \n",
            "914  141.016911            0.0  3.496182        0             1  \n",
            "915  114.887918            1.0  1.239390        0             1  \n",
            "916  174.148244            0.0 -0.010002        0             1  \n",
            "917  173.104682            0.0  0.180361     0.75             0  \n",
            "\n",
            "[918 rows x 12 columns]\n"
          ]
        }
      ]
    },
    {
      "cell_type": "code",
      "source": [
        "######################################  vazw merikes random NaN times ##################################################################################\n",
        "\n",
        "cols = ['Age', 'sex', 'ChestPainType', 'Cholesterol', 'ExerciseAngina']                  \n",
        "\n",
        "# frac=0.1 dld st 10% kathe stilis peripou ligo mikrotero apo 10% st synolo tou dataset\n",
        "for cols in x_noisy[cols]:\n",
        "    x_noisy.loc[x_noisy.sample(frac=0.1).index, cols] = pd.np.nan"
      ],
      "metadata": {
        "id": "qz9qjIY69FwA"
      },
      "execution_count": null,
      "outputs": []
    },
    {
      "cell_type": "code",
      "source": [
        "##################### gia kaliterh katanomh se merikes stiles vazw 10% NaN times kai se merikes stiles 7% NaN times\n",
        "\n",
        "cols2 = ['RestingBP', 'FastingBS', 'RestingECG', 'MaxHR', 'Oldpeak', 'ST_Slope']                  \n",
        "\n",
        "for cols2 in x_noisy[cols2]:\n",
        "    x_noisy.loc[x_noisy.sample(frac=0.07).index, cols2] = pd.np.nan"
      ],
      "metadata": {
        "id": "Pr42TGW-9IaK"
      },
      "execution_count": null,
      "outputs": []
    },
    {
      "cell_type": "code",
      "source": [
        "count_nan = len(x_noisy) - x_noisy.count()\n",
        "count_nan\n"
      ],
      "metadata": {
        "colab": {
          "base_uri": "https://localhost:8080/"
        },
        "id": "Kdlf4eQd9KUX",
        "outputId": "7f851af4-f8b0-4e94-8265-8d17944f6a37"
      },
      "execution_count": null,
      "outputs": [
        {
          "output_type": "execute_result",
          "data": {
            "text/plain": [
              "Age               92\n",
              "sex               92\n",
              "ChestPainType     92\n",
              "RestingBP         64\n",
              "Cholesterol       92\n",
              "FastingBS         64\n",
              "RestingECG        64\n",
              "MaxHR             64\n",
              "ExerciseAngina    92\n",
              "Oldpeak           64\n",
              "ST_Slope          64\n",
              "HeartDisease       0\n",
              "dtype: int64"
            ]
          },
          "metadata": {},
          "execution_count": 1239
        }
      ]
    },
    {
      "cell_type": "code",
      "source": [
        "print(x_noisy)"
      ],
      "metadata": {
        "colab": {
          "base_uri": "https://localhost:8080/"
        },
        "id": "L0xOPe0t9M9k",
        "outputId": "a4ddbee0-9753-4450-93c3-b6a3439941e9"
      },
      "execution_count": null,
      "outputs": [
        {
          "output_type": "stream",
          "name": "stdout",
          "text": [
            "      Age  sex ChestPainType   RestingBP  Cholesterol FastingBS RestingECG  \\\n",
            "0    40.0  1.0           0.5  140.028725   289.047493       0.0          0   \n",
            "1     NaN  0.0             0  159.951914   179.976347       0.0          0   \n",
            "2    37.0  1.0          0.75  129.886267   283.062885       NaN       0.75   \n",
            "3    48.0  0.0           0.5  137.890466   214.003089       0.0          0   \n",
            "4    54.0  1.0             0  149.997806   194.841817       NaN          0   \n",
            "..    ...  ...           ...         ...          ...       ...        ...   \n",
            "913  45.0  1.0             1  109.982578   264.061031       NaN          0   \n",
            "914   NaN  1.0           NaN  144.178860   193.091814       1.0        NaN   \n",
            "915  56.0  NaN           0.5  129.978099   131.002007       0.0          0   \n",
            "916   NaN  0.0          0.75  129.952755   235.816610       0.0       0.75   \n",
            "917  38.0  NaN             0  137.992164   174.968208       0.0          0   \n",
            "\n",
            "          MaxHR ExerciseAngina   Oldpeak ST_Slope  HeartDisease  \n",
            "0    171.997752            0.0       NaN      NaN             0  \n",
            "1           NaN            0.0  0.740501        0             1  \n",
            "2     97.862611            0.0 -0.056821     0.75             0  \n",
            "3    107.972118            1.0  1.505116        0             1  \n",
            "4    122.026151            0.0 -0.024330     0.75             0  \n",
            "..          ...            ...       ...      ...           ...  \n",
            "913  131.991504            0.0  1.092022        0             1  \n",
            "914  141.016911            0.0  3.496182        0             1  \n",
            "915  114.887918            1.0  1.239390      NaN             1  \n",
            "916  174.148244            0.0 -0.010002        0             1  \n",
            "917  173.104682            0.0  0.180361     0.75             0  \n",
            "\n",
            "[918 rows x 12 columns]\n"
          ]
        }
      ]
    },
    {
      "cell_type": "code",
      "source": [
        "x_noisy.dtypes"
      ],
      "metadata": {
        "colab": {
          "base_uri": "https://localhost:8080/"
        },
        "id": "RmSukHZf9PUo",
        "outputId": "a5088a81-f20d-4762-f66d-7b94d45fe2ce"
      },
      "execution_count": null,
      "outputs": [
        {
          "output_type": "execute_result",
          "data": {
            "text/plain": [
              "Age                float64\n",
              "sex                float64\n",
              "ChestPainType     category\n",
              "RestingBP          float64\n",
              "Cholesterol        float64\n",
              "FastingBS         category\n",
              "RestingECG        category\n",
              "MaxHR              float64\n",
              "ExerciseAngina    category\n",
              "Oldpeak            float64\n",
              "ST_Slope          category\n",
              "HeartDisease         int64\n",
              "dtype: object"
            ]
          },
          "metadata": {},
          "execution_count": 1241
        }
      ]
    },
    {
      "cell_type": "code",
      "source": [
        "######## to teliko dataframe me noise kai outliers kai NaN times ###########################"
      ],
      "metadata": {
        "id": "8_mWb20QdJWk"
      },
      "execution_count": null,
      "outputs": []
    },
    {
      "cell_type": "code",
      "source": [
        "print(x_noisy)"
      ],
      "metadata": {
        "colab": {
          "base_uri": "https://localhost:8080/"
        },
        "id": "liER1iJAdMmD",
        "outputId": "e30f729a-689f-48d3-db1e-783cbc7942d9"
      },
      "execution_count": null,
      "outputs": [
        {
          "output_type": "stream",
          "name": "stdout",
          "text": [
            "      Age  sex ChestPainType   RestingBP  Cholesterol FastingBS RestingECG  \\\n",
            "0    40.0  1.0           0.5  140.028725   289.047493       0.0          0   \n",
            "1     NaN  0.0             0  159.951914   179.976347       0.0          0   \n",
            "2    37.0  1.0          0.75  129.886267   283.062885       NaN       0.75   \n",
            "3    48.0  0.0           0.5  137.890466   214.003089       0.0          0   \n",
            "4    54.0  1.0             0  149.997806   194.841817       NaN          0   \n",
            "..    ...  ...           ...         ...          ...       ...        ...   \n",
            "913  45.0  1.0             1  109.982578   264.061031       NaN          0   \n",
            "914   NaN  1.0           NaN  144.178860   193.091814       1.0        NaN   \n",
            "915  56.0  NaN           0.5  129.978099   131.002007       0.0          0   \n",
            "916   NaN  0.0          0.75  129.952755   235.816610       0.0       0.75   \n",
            "917  38.0  NaN             0  137.992164   174.968208       0.0          0   \n",
            "\n",
            "          MaxHR ExerciseAngina   Oldpeak ST_Slope  HeartDisease  \n",
            "0    171.997752            0.0       NaN      NaN             0  \n",
            "1           NaN            0.0  0.740501        0             1  \n",
            "2     97.862611            0.0 -0.056821     0.75             0  \n",
            "3    107.972118            1.0  1.505116        0             1  \n",
            "4    122.026151            0.0 -0.024330     0.75             0  \n",
            "..          ...            ...       ...      ...           ...  \n",
            "913  131.991504            0.0  1.092022        0             1  \n",
            "914  141.016911            0.0  3.496182        0             1  \n",
            "915  114.887918            1.0  1.239390      NaN             1  \n",
            "916  174.148244            0.0 -0.010002        0             1  \n",
            "917  173.104682            0.0  0.180361     0.75             0  \n",
            "\n",
            "[918 rows x 12 columns]\n"
          ]
        }
      ]
    },
    {
      "cell_type": "code",
      "source": [
        "###### type conversion #######"
      ],
      "metadata": {
        "id": "i4ZqHOTbdP43"
      },
      "execution_count": null,
      "outputs": []
    },
    {
      "cell_type": "code",
      "source": [
        "## tha ta kanw numeric times ola gia na mporesw na doulepsw me tous ouliers"
      ],
      "metadata": {
        "id": "-OM4DaB1dR-d"
      },
      "execution_count": null,
      "outputs": []
    },
    {
      "cell_type": "code",
      "source": [
        "x_noisy = x_noisy.apply(pd.to_numeric, errors='ignore')"
      ],
      "metadata": {
        "id": "hLI0Dlf2dUP-"
      },
      "execution_count": null,
      "outputs": []
    },
    {
      "cell_type": "code",
      "source": [
        "print(x_noisy)"
      ],
      "metadata": {
        "colab": {
          "base_uri": "https://localhost:8080/"
        },
        "id": "pQ43U2KEdinR",
        "outputId": "3a2ddc02-aab6-45f5-81e6-4cc63c7552dd"
      },
      "execution_count": null,
      "outputs": [
        {
          "output_type": "stream",
          "name": "stdout",
          "text": [
            "      Age  sex  ChestPainType   RestingBP  Cholesterol  FastingBS  RestingECG  \\\n",
            "0    40.0  1.0           0.50  140.028725   289.047493        0.0        0.00   \n",
            "1     NaN  0.0           0.00  159.951914   179.976347        0.0        0.00   \n",
            "2    37.0  1.0           0.75  129.886267   283.062885        NaN        0.75   \n",
            "3    48.0  0.0           0.50  137.890466   214.003089        0.0        0.00   \n",
            "4    54.0  1.0           0.00  149.997806   194.841817        NaN        0.00   \n",
            "..    ...  ...            ...         ...          ...        ...         ...   \n",
            "913  45.0  1.0           1.00  109.982578   264.061031        NaN        0.00   \n",
            "914   NaN  1.0            NaN  144.178860   193.091814        1.0         NaN   \n",
            "915  56.0  NaN           0.50  129.978099   131.002007        0.0        0.00   \n",
            "916   NaN  0.0           0.75  129.952755   235.816610        0.0        0.75   \n",
            "917  38.0  NaN           0.00  137.992164   174.968208        0.0        0.00   \n",
            "\n",
            "          MaxHR  ExerciseAngina   Oldpeak  ST_Slope  HeartDisease  \n",
            "0    171.997752             0.0       NaN       NaN             0  \n",
            "1           NaN             0.0  0.740501      0.00             1  \n",
            "2     97.862611             0.0 -0.056821      0.75             0  \n",
            "3    107.972118             1.0  1.505116      0.00             1  \n",
            "4    122.026151             0.0 -0.024330      0.75             0  \n",
            "..          ...             ...       ...       ...           ...  \n",
            "913  131.991504             0.0  1.092022      0.00             1  \n",
            "914  141.016911             0.0  3.496182      0.00             1  \n",
            "915  114.887918             1.0  1.239390       NaN             1  \n",
            "916  174.148244             0.0 -0.010002      0.00             1  \n",
            "917  173.104682             0.0  0.180361      0.75             0  \n",
            "\n",
            "[918 rows x 12 columns]\n"
          ]
        }
      ]
    },
    {
      "cell_type": "code",
      "source": [
        "###### final \n",
        "## data types \n",
        "x_noisy.to_csv('out.csv')\n",
        "\n",
        "\n",
        "### to kanw upload st github --> https://github.com/gkolovos/kaggleDATAset"
      ],
      "metadata": {
        "id": "4ELVvAmM8_TM"
      },
      "execution_count": null,
      "outputs": []
    },
    {
      "cell_type": "code",
      "source": [
        "x_noisy.dtypes"
      ],
      "metadata": {
        "colab": {
          "base_uri": "https://localhost:8080/"
        },
        "id": "P3b22oOc9UJ3",
        "outputId": "b4c2db3e-3da4-4fe3-a1e1-125aeca7a674"
      },
      "execution_count": null,
      "outputs": [
        {
          "output_type": "execute_result",
          "data": {
            "text/plain": [
              "Age               float64\n",
              "sex               float64\n",
              "ChestPainType     float64\n",
              "RestingBP         float64\n",
              "Cholesterol       float64\n",
              "FastingBS         float64\n",
              "RestingECG        float64\n",
              "MaxHR             float64\n",
              "ExerciseAngina    float64\n",
              "Oldpeak           float64\n",
              "ST_Slope          float64\n",
              "HeartDisease        int64\n",
              "dtype: object"
            ]
          },
          "metadata": {},
          "execution_count": 1249
        }
      ]
    },
    {
      "cell_type": "code",
      "source": [
        "print(x_noisy)"
      ],
      "metadata": {
        "colab": {
          "base_uri": "https://localhost:8080/"
        },
        "id": "Llbd_vY_9WbP",
        "outputId": "6bd7c2fc-2a83-4cf7-b07a-c8c0ff62bb62"
      },
      "execution_count": null,
      "outputs": [
        {
          "output_type": "stream",
          "name": "stdout",
          "text": [
            "      Age  sex  ChestPainType   RestingBP  Cholesterol  FastingBS  RestingECG  \\\n",
            "0    40.0  1.0           0.50  140.028725   289.047493        0.0        0.00   \n",
            "1     NaN  0.0           0.00  159.951914   179.976347        0.0        0.00   \n",
            "2    37.0  1.0           0.75  129.886267   283.062885        NaN        0.75   \n",
            "3    48.0  0.0           0.50  137.890466   214.003089        0.0        0.00   \n",
            "4    54.0  1.0           0.00  149.997806   194.841817        NaN        0.00   \n",
            "..    ...  ...            ...         ...          ...        ...         ...   \n",
            "913  45.0  1.0           1.00  109.982578   264.061031        NaN        0.00   \n",
            "914   NaN  1.0            NaN  144.178860   193.091814        1.0         NaN   \n",
            "915  56.0  NaN           0.50  129.978099   131.002007        0.0        0.00   \n",
            "916   NaN  0.0           0.75  129.952755   235.816610        0.0        0.75   \n",
            "917  38.0  NaN           0.00  137.992164   174.968208        0.0        0.00   \n",
            "\n",
            "          MaxHR  ExerciseAngina   Oldpeak  ST_Slope  HeartDisease  \n",
            "0    171.997752             0.0       NaN       NaN             0  \n",
            "1           NaN             0.0  0.740501      0.00             1  \n",
            "2     97.862611             0.0 -0.056821      0.75             0  \n",
            "3    107.972118             1.0  1.505116      0.00             1  \n",
            "4    122.026151             0.0 -0.024330      0.75             0  \n",
            "..          ...             ...       ...       ...           ...  \n",
            "913  131.991504             0.0  1.092022      0.00             1  \n",
            "914  141.016911             0.0  3.496182      0.00             1  \n",
            "915  114.887918             1.0  1.239390       NaN             1  \n",
            "916  174.148244             0.0 -0.010002      0.00             1  \n",
            "917  173.104682             0.0  0.180361      0.75             0  \n",
            "\n",
            "[918 rows x 12 columns]\n"
          ]
        }
      ]
    }
  ]
}